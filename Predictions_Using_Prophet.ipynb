{
  "nbformat": 4,
  "nbformat_minor": 0,
  "metadata": {
    "colab": {
      "name": "Predictions Using Prophet",
      "provenance": [],
      "collapsed_sections": [],
      "include_colab_link": true
    },
    "kernelspec": {
      "name": "python3",
      "display_name": "Python 3"
    },
    "accelerator": "GPU"
  },
  "cells": [
    {
      "cell_type": "markdown",
      "metadata": {
        "id": "view-in-github",
        "colab_type": "text"
      },
      "source": [
        "<a href=\"https://colab.research.google.com/github/kelvin19-dev/ML/blob/main/Predictions_Using_Prophet.ipynb\" target=\"_parent\"><img src=\"https://colab.research.google.com/assets/colab-badge.svg\" alt=\"Open In Colab\"/></a>"
      ]
    },
    {
      "cell_type": "markdown",
      "metadata": {
        "id": "mrG0EKYUXRoY"
      },
      "source": [
        "# Tesla (TSLA) Stock Price prediction using Facebook Prophet "
      ]
    },
    {
      "cell_type": "code",
      "metadata": {
        "id": "z-5WsJ9Ef6k_"
      },
      "source": [
        "## Switch to GPU mode for faster Computation (Runtime> Change runtime> GPU)"
      ],
      "execution_count": null,
      "outputs": []
    },
    {
      "cell_type": "markdown",
      "metadata": {
        "id": "EJPImZ5za2DY"
      },
      "source": [
        "## Importing all the necessary Libraries"
      ]
    },
    {
      "cell_type": "code",
      "metadata": {
        "id": "ZNPlTwMfbBbv"
      },
      "source": [
        "#Necessary libraries = Pandas, fbprophet and plotly\n",
        "\n",
        "#pandas= data Manipulation and analysis\n",
        "#fbprophet = Forecasting\n",
        "#plotly= data visualization\n"
      ],
      "execution_count": null,
      "outputs": []
    },
    {
      "cell_type": "code",
      "metadata": {
        "id": "tR4fFCxE8fAg"
      },
      "source": [
        "import pandas as pd\n",
        "import plotly.express as px\n",
        "from fbprophet import Prophet"
      ],
      "execution_count": null,
      "outputs": []
    },
    {
      "cell_type": "code",
      "metadata": {
        "id": "yK5iokzObG8b"
      },
      "source": [
        " #Initializing Plotly\n",
        "import plotly.io as pio \n",
        "pio.renderers.default = 'colab'"
      ],
      "execution_count": null,
      "outputs": []
    },
    {
      "cell_type": "markdown",
      "metadata": {
        "id": "LQr_B55bbjQ1"
      },
      "source": [
        "## Importing the Dataset & Exploring it"
      ]
    },
    {
      "cell_type": "code",
      "metadata": {
        "id": "76a6siA7bma0"
      },
      "source": [
        "df = pd.read_csv(\"TSLA.csv\")\n"
      ],
      "execution_count": null,
      "outputs": []
    },
    {
      "cell_type": "code",
      "metadata": {
        "id": "vezMkspZboYX"
      },
      "source": [
        "#read_csv function from pandas"
      ],
      "execution_count": null,
      "outputs": []
    },
    {
      "cell_type": "code",
      "metadata": {
        "id": "ovLUGCBzQuRd",
        "colab": {
          "base_uri": "https://localhost:8080/",
          "height": 204
        },
        "outputId": "b4d3efd0-3012-4da3-f48a-9ab0e2108282"
      },
      "source": [
        "df.head()"
      ],
      "execution_count": null,
      "outputs": [
        {
          "output_type": "execute_result",
          "data": {
            "text/html": [
              "\n",
              "  <div id=\"df-48d541f4-0d17-43b4-bbff-94e685571a3a\">\n",
              "    <div class=\"colab-df-container\">\n",
              "      <div>\n",
              "<style scoped>\n",
              "    .dataframe tbody tr th:only-of-type {\n",
              "        vertical-align: middle;\n",
              "    }\n",
              "\n",
              "    .dataframe tbody tr th {\n",
              "        vertical-align: top;\n",
              "    }\n",
              "\n",
              "    .dataframe thead th {\n",
              "        text-align: right;\n",
              "    }\n",
              "</style>\n",
              "<table border=\"1\" class=\"dataframe\">\n",
              "  <thead>\n",
              "    <tr style=\"text-align: right;\">\n",
              "      <th></th>\n",
              "      <th>Date</th>\n",
              "      <th>Open</th>\n",
              "      <th>High</th>\n",
              "      <th>Low</th>\n",
              "      <th>Close</th>\n",
              "      <th>Adj Close</th>\n",
              "      <th>Volume</th>\n",
              "    </tr>\n",
              "  </thead>\n",
              "  <tbody>\n",
              "    <tr>\n",
              "      <th>0</th>\n",
              "      <td>2021-02-16</td>\n",
              "      <td>818.000000</td>\n",
              "      <td>821.000000</td>\n",
              "      <td>792.440002</td>\n",
              "      <td>796.219971</td>\n",
              "      <td>796.219971</td>\n",
              "      <td>19802300</td>\n",
              "    </tr>\n",
              "    <tr>\n",
              "      <th>1</th>\n",
              "      <td>2021-02-17</td>\n",
              "      <td>779.090027</td>\n",
              "      <td>799.840027</td>\n",
              "      <td>762.010010</td>\n",
              "      <td>798.150024</td>\n",
              "      <td>798.150024</td>\n",
              "      <td>25996500</td>\n",
              "    </tr>\n",
              "    <tr>\n",
              "      <th>2</th>\n",
              "      <td>2021-02-18</td>\n",
              "      <td>780.900024</td>\n",
              "      <td>794.690002</td>\n",
              "      <td>776.270020</td>\n",
              "      <td>787.380005</td>\n",
              "      <td>787.380005</td>\n",
              "      <td>17957100</td>\n",
              "    </tr>\n",
              "    <tr>\n",
              "      <th>3</th>\n",
              "      <td>2021-02-19</td>\n",
              "      <td>795.000000</td>\n",
              "      <td>796.789978</td>\n",
              "      <td>777.369995</td>\n",
              "      <td>781.299988</td>\n",
              "      <td>781.299988</td>\n",
              "      <td>18958300</td>\n",
              "    </tr>\n",
              "    <tr>\n",
              "      <th>4</th>\n",
              "      <td>2021-02-22</td>\n",
              "      <td>762.640015</td>\n",
              "      <td>768.500000</td>\n",
              "      <td>710.200012</td>\n",
              "      <td>714.500000</td>\n",
              "      <td>714.500000</td>\n",
              "      <td>37269700</td>\n",
              "    </tr>\n",
              "  </tbody>\n",
              "</table>\n",
              "</div>\n",
              "      <button class=\"colab-df-convert\" onclick=\"convertToInteractive('df-48d541f4-0d17-43b4-bbff-94e685571a3a')\"\n",
              "              title=\"Convert this dataframe to an interactive table.\"\n",
              "              style=\"display:none;\">\n",
              "        \n",
              "  <svg xmlns=\"http://www.w3.org/2000/svg\" height=\"24px\"viewBox=\"0 0 24 24\"\n",
              "       width=\"24px\">\n",
              "    <path d=\"M0 0h24v24H0V0z\" fill=\"none\"/>\n",
              "    <path d=\"M18.56 5.44l.94 2.06.94-2.06 2.06-.94-2.06-.94-.94-2.06-.94 2.06-2.06.94zm-11 1L8.5 8.5l.94-2.06 2.06-.94-2.06-.94L8.5 2.5l-.94 2.06-2.06.94zm10 10l.94 2.06.94-2.06 2.06-.94-2.06-.94-.94-2.06-.94 2.06-2.06.94z\"/><path d=\"M17.41 7.96l-1.37-1.37c-.4-.4-.92-.59-1.43-.59-.52 0-1.04.2-1.43.59L10.3 9.45l-7.72 7.72c-.78.78-.78 2.05 0 2.83L4 21.41c.39.39.9.59 1.41.59.51 0 1.02-.2 1.41-.59l7.78-7.78 2.81-2.81c.8-.78.8-2.07 0-2.86zM5.41 20L4 18.59l7.72-7.72 1.47 1.35L5.41 20z\"/>\n",
              "  </svg>\n",
              "      </button>\n",
              "      \n",
              "  <style>\n",
              "    .colab-df-container {\n",
              "      display:flex;\n",
              "      flex-wrap:wrap;\n",
              "      gap: 12px;\n",
              "    }\n",
              "\n",
              "    .colab-df-convert {\n",
              "      background-color: #E8F0FE;\n",
              "      border: none;\n",
              "      border-radius: 50%;\n",
              "      cursor: pointer;\n",
              "      display: none;\n",
              "      fill: #1967D2;\n",
              "      height: 32px;\n",
              "      padding: 0 0 0 0;\n",
              "      width: 32px;\n",
              "    }\n",
              "\n",
              "    .colab-df-convert:hover {\n",
              "      background-color: #E2EBFA;\n",
              "      box-shadow: 0px 1px 2px rgba(60, 64, 67, 0.3), 0px 1px 3px 1px rgba(60, 64, 67, 0.15);\n",
              "      fill: #174EA6;\n",
              "    }\n",
              "\n",
              "    [theme=dark] .colab-df-convert {\n",
              "      background-color: #3B4455;\n",
              "      fill: #D2E3FC;\n",
              "    }\n",
              "\n",
              "    [theme=dark] .colab-df-convert:hover {\n",
              "      background-color: #434B5C;\n",
              "      box-shadow: 0px 1px 3px 1px rgba(0, 0, 0, 0.15);\n",
              "      filter: drop-shadow(0px 1px 2px rgba(0, 0, 0, 0.3));\n",
              "      fill: #FFFFFF;\n",
              "    }\n",
              "  </style>\n",
              "\n",
              "      <script>\n",
              "        const buttonEl =\n",
              "          document.querySelector('#df-48d541f4-0d17-43b4-bbff-94e685571a3a button.colab-df-convert');\n",
              "        buttonEl.style.display =\n",
              "          google.colab.kernel.accessAllowed ? 'block' : 'none';\n",
              "\n",
              "        async function convertToInteractive(key) {\n",
              "          const element = document.querySelector('#df-48d541f4-0d17-43b4-bbff-94e685571a3a');\n",
              "          const dataTable =\n",
              "            await google.colab.kernel.invokeFunction('convertToInteractive',\n",
              "                                                     [key], {});\n",
              "          if (!dataTable) return;\n",
              "\n",
              "          const docLinkHtml = 'Like what you see? Visit the ' +\n",
              "            '<a target=\"_blank\" href=https://colab.research.google.com/notebooks/data_table.ipynb>data table notebook</a>'\n",
              "            + ' to learn more about interactive tables.';\n",
              "          element.innerHTML = '';\n",
              "          dataTable['output_type'] = 'display_data';\n",
              "          await google.colab.output.renderOutput(dataTable, element);\n",
              "          const docLink = document.createElement('div');\n",
              "          docLink.innerHTML = docLinkHtml;\n",
              "          element.appendChild(docLink);\n",
              "        }\n",
              "      </script>\n",
              "    </div>\n",
              "  </div>\n",
              "  "
            ],
            "text/plain": [
              "         Date        Open        High  ...       Close   Adj Close    Volume\n",
              "0  2021-02-16  818.000000  821.000000  ...  796.219971  796.219971  19802300\n",
              "1  2021-02-17  779.090027  799.840027  ...  798.150024  798.150024  25996500\n",
              "2  2021-02-18  780.900024  794.690002  ...  787.380005  787.380005  17957100\n",
              "3  2021-02-19  795.000000  796.789978  ...  781.299988  781.299988  18958300\n",
              "4  2021-02-22  762.640015  768.500000  ...  714.500000  714.500000  37269700\n",
              "\n",
              "[5 rows x 7 columns]"
            ]
          },
          "metadata": {},
          "execution_count": 12
        }
      ]
    },
    {
      "cell_type": "code",
      "metadata": {
        "id": "GQGyTaTB8sUM",
        "colab": {
          "base_uri": "https://localhost:8080/"
        },
        "outputId": "93ff383c-c213-4802-8d4b-90e97bfb0e45"
      },
      "source": [
        "df.info()"
      ],
      "execution_count": null,
      "outputs": [
        {
          "output_type": "stream",
          "name": "stdout",
          "text": [
            "<class 'pandas.core.frame.DataFrame'>\n",
            "RangeIndex: 252 entries, 0 to 251\n",
            "Data columns (total 7 columns):\n",
            " #   Column     Non-Null Count  Dtype  \n",
            "---  ------     --------------  -----  \n",
            " 0   Date       252 non-null    object \n",
            " 1   Open       252 non-null    float64\n",
            " 2   High       252 non-null    float64\n",
            " 3   Low        252 non-null    float64\n",
            " 4   Close      252 non-null    float64\n",
            " 5   Adj Close  252 non-null    float64\n",
            " 6   Volume     252 non-null    int64  \n",
            "dtypes: float64(5), int64(1), object(1)\n",
            "memory usage: 13.9+ KB\n"
          ]
        }
      ]
    },
    {
      "cell_type": "code",
      "metadata": {
        "id": "xAifThcH8xUH",
        "colab": {
          "base_uri": "https://localhost:8080/",
          "height": 297
        },
        "outputId": "8928f82c-7a96-4d5b-e9bd-ac38a7f0fab3"
      },
      "source": [
        "df.describe()"
      ],
      "execution_count": null,
      "outputs": [
        {
          "output_type": "execute_result",
          "data": {
            "text/html": [
              "\n",
              "  <div id=\"df-8f77596f-4a6a-4ce1-84e9-bc563478c495\">\n",
              "    <div class=\"colab-df-container\">\n",
              "      <div>\n",
              "<style scoped>\n",
              "    .dataframe tbody tr th:only-of-type {\n",
              "        vertical-align: middle;\n",
              "    }\n",
              "\n",
              "    .dataframe tbody tr th {\n",
              "        vertical-align: top;\n",
              "    }\n",
              "\n",
              "    .dataframe thead th {\n",
              "        text-align: right;\n",
              "    }\n",
              "</style>\n",
              "<table border=\"1\" class=\"dataframe\">\n",
              "  <thead>\n",
              "    <tr style=\"text-align: right;\">\n",
              "      <th></th>\n",
              "      <th>Open</th>\n",
              "      <th>High</th>\n",
              "      <th>Low</th>\n",
              "      <th>Close</th>\n",
              "      <th>Adj Close</th>\n",
              "      <th>Volume</th>\n",
              "    </tr>\n",
              "  </thead>\n",
              "  <tbody>\n",
              "    <tr>\n",
              "      <th>count</th>\n",
              "      <td>252.000000</td>\n",
              "      <td>252.000000</td>\n",
              "      <td>252.000000</td>\n",
              "      <td>252.000000</td>\n",
              "      <td>252.000000</td>\n",
              "      <td>2.520000e+02</td>\n",
              "    </tr>\n",
              "    <tr>\n",
              "      <th>mean</th>\n",
              "      <td>797.603730</td>\n",
              "      <td>814.620910</td>\n",
              "      <td>778.402819</td>\n",
              "      <td>796.736070</td>\n",
              "      <td>796.736070</td>\n",
              "      <td>2.704625e+07</td>\n",
              "    </tr>\n",
              "    <tr>\n",
              "      <th>std</th>\n",
              "      <td>175.757371</td>\n",
              "      <td>181.657190</td>\n",
              "      <td>168.773849</td>\n",
              "      <td>175.282015</td>\n",
              "      <td>175.282015</td>\n",
              "      <td>1.140822e+07</td>\n",
              "    </tr>\n",
              "    <tr>\n",
              "      <th>min</th>\n",
              "      <td>552.549988</td>\n",
              "      <td>566.210022</td>\n",
              "      <td>539.489990</td>\n",
              "      <td>563.000000</td>\n",
              "      <td>563.000000</td>\n",
              "      <td>9.800600e+06</td>\n",
              "    </tr>\n",
              "    <tr>\n",
              "      <th>25%</th>\n",
              "      <td>669.937500</td>\n",
              "      <td>683.922501</td>\n",
              "      <td>651.927506</td>\n",
              "      <td>668.027497</td>\n",
              "      <td>668.027497</td>\n",
              "      <td>1.894995e+07</td>\n",
              "    </tr>\n",
              "    <tr>\n",
              "      <th>50%</th>\n",
              "      <td>724.930023</td>\n",
              "      <td>740.679993</td>\n",
              "      <td>712.069976</td>\n",
              "      <td>730.539978</td>\n",
              "      <td>730.539978</td>\n",
              "      <td>2.478520e+07</td>\n",
              "    </tr>\n",
              "    <tr>\n",
              "      <th>75%</th>\n",
              "      <td>929.474991</td>\n",
              "      <td>946.645020</td>\n",
              "      <td>903.657516</td>\n",
              "      <td>931.437500</td>\n",
              "      <td>931.437500</td>\n",
              "      <td>3.224438e+07</td>\n",
              "    </tr>\n",
              "    <tr>\n",
              "      <th>max</th>\n",
              "      <td>1234.410034</td>\n",
              "      <td>1243.489990</td>\n",
              "      <td>1217.000000</td>\n",
              "      <td>1229.910034</td>\n",
              "      <td>1229.910034</td>\n",
              "      <td>8.939650e+07</td>\n",
              "    </tr>\n",
              "  </tbody>\n",
              "</table>\n",
              "</div>\n",
              "      <button class=\"colab-df-convert\" onclick=\"convertToInteractive('df-8f77596f-4a6a-4ce1-84e9-bc563478c495')\"\n",
              "              title=\"Convert this dataframe to an interactive table.\"\n",
              "              style=\"display:none;\">\n",
              "        \n",
              "  <svg xmlns=\"http://www.w3.org/2000/svg\" height=\"24px\"viewBox=\"0 0 24 24\"\n",
              "       width=\"24px\">\n",
              "    <path d=\"M0 0h24v24H0V0z\" fill=\"none\"/>\n",
              "    <path d=\"M18.56 5.44l.94 2.06.94-2.06 2.06-.94-2.06-.94-.94-2.06-.94 2.06-2.06.94zm-11 1L8.5 8.5l.94-2.06 2.06-.94-2.06-.94L8.5 2.5l-.94 2.06-2.06.94zm10 10l.94 2.06.94-2.06 2.06-.94-2.06-.94-.94-2.06-.94 2.06-2.06.94z\"/><path d=\"M17.41 7.96l-1.37-1.37c-.4-.4-.92-.59-1.43-.59-.52 0-1.04.2-1.43.59L10.3 9.45l-7.72 7.72c-.78.78-.78 2.05 0 2.83L4 21.41c.39.39.9.59 1.41.59.51 0 1.02-.2 1.41-.59l7.78-7.78 2.81-2.81c.8-.78.8-2.07 0-2.86zM5.41 20L4 18.59l7.72-7.72 1.47 1.35L5.41 20z\"/>\n",
              "  </svg>\n",
              "      </button>\n",
              "      \n",
              "  <style>\n",
              "    .colab-df-container {\n",
              "      display:flex;\n",
              "      flex-wrap:wrap;\n",
              "      gap: 12px;\n",
              "    }\n",
              "\n",
              "    .colab-df-convert {\n",
              "      background-color: #E8F0FE;\n",
              "      border: none;\n",
              "      border-radius: 50%;\n",
              "      cursor: pointer;\n",
              "      display: none;\n",
              "      fill: #1967D2;\n",
              "      height: 32px;\n",
              "      padding: 0 0 0 0;\n",
              "      width: 32px;\n",
              "    }\n",
              "\n",
              "    .colab-df-convert:hover {\n",
              "      background-color: #E2EBFA;\n",
              "      box-shadow: 0px 1px 2px rgba(60, 64, 67, 0.3), 0px 1px 3px 1px rgba(60, 64, 67, 0.15);\n",
              "      fill: #174EA6;\n",
              "    }\n",
              "\n",
              "    [theme=dark] .colab-df-convert {\n",
              "      background-color: #3B4455;\n",
              "      fill: #D2E3FC;\n",
              "    }\n",
              "\n",
              "    [theme=dark] .colab-df-convert:hover {\n",
              "      background-color: #434B5C;\n",
              "      box-shadow: 0px 1px 3px 1px rgba(0, 0, 0, 0.15);\n",
              "      filter: drop-shadow(0px 1px 2px rgba(0, 0, 0, 0.3));\n",
              "      fill: #FFFFFF;\n",
              "    }\n",
              "  </style>\n",
              "\n",
              "      <script>\n",
              "        const buttonEl =\n",
              "          document.querySelector('#df-8f77596f-4a6a-4ce1-84e9-bc563478c495 button.colab-df-convert');\n",
              "        buttonEl.style.display =\n",
              "          google.colab.kernel.accessAllowed ? 'block' : 'none';\n",
              "\n",
              "        async function convertToInteractive(key) {\n",
              "          const element = document.querySelector('#df-8f77596f-4a6a-4ce1-84e9-bc563478c495');\n",
              "          const dataTable =\n",
              "            await google.colab.kernel.invokeFunction('convertToInteractive',\n",
              "                                                     [key], {});\n",
              "          if (!dataTable) return;\n",
              "\n",
              "          const docLinkHtml = 'Like what you see? Visit the ' +\n",
              "            '<a target=\"_blank\" href=https://colab.research.google.com/notebooks/data_table.ipynb>data table notebook</a>'\n",
              "            + ' to learn more about interactive tables.';\n",
              "          element.innerHTML = '';\n",
              "          dataTable['output_type'] = 'display_data';\n",
              "          await google.colab.output.renderOutput(dataTable, element);\n",
              "          const docLink = document.createElement('div');\n",
              "          docLink.innerHTML = docLinkHtml;\n",
              "          element.appendChild(docLink);\n",
              "        }\n",
              "      </script>\n",
              "    </div>\n",
              "  </div>\n",
              "  "
            ],
            "text/plain": [
              "              Open         High  ...    Adj Close        Volume\n",
              "count   252.000000   252.000000  ...   252.000000  2.520000e+02\n",
              "mean    797.603730   814.620910  ...   796.736070  2.704625e+07\n",
              "std     175.757371   181.657190  ...   175.282015  1.140822e+07\n",
              "min     552.549988   566.210022  ...   563.000000  9.800600e+06\n",
              "25%     669.937500   683.922501  ...   668.027497  1.894995e+07\n",
              "50%     724.930023   740.679993  ...   730.539978  2.478520e+07\n",
              "75%     929.474991   946.645020  ...   931.437500  3.224438e+07\n",
              "max    1234.410034  1243.489990  ...  1229.910034  8.939650e+07\n",
              "\n",
              "[8 rows x 6 columns]"
            ]
          },
          "metadata": {},
          "execution_count": 14
        }
      ]
    },
    {
      "cell_type": "markdown",
      "metadata": {
        "id": "v3X8Z1fFb6or"
      },
      "source": [
        "# Data Visualization using plotly express- Visualizing the historical performance of Tesla"
      ]
    },
    {
      "cell_type": "code",
      "metadata": {
        "id": "2PKVDQq2ih4S"
      },
      "source": [
        "#Line graph, Area graph , box plot (Analyzing price and volume)"
      ],
      "execution_count": null,
      "outputs": []
    },
    {
      "cell_type": "code",
      "metadata": {
        "id": "sBuNquI5Qpe3",
        "colab": {
          "base_uri": "https://localhost:8080/",
          "height": 542
        },
        "outputId": "84284a1f-f78b-45cb-f6d1-a7eb7c2a2952"
      },
      "source": [
        "px.area(df, x = 'Date', y = 'Close')"
      ],
      "execution_count": null,
      "outputs": [
        {
          "output_type": "display_data",
          "data": {
            "text/html": [
              "<html>\n",
              "<head><meta charset=\"utf-8\" /></head>\n",
              "<body>\n",
              "    <div>            <script src=\"https://cdnjs.cloudflare.com/ajax/libs/mathjax/2.7.5/MathJax.js?config=TeX-AMS-MML_SVG\"></script><script type=\"text/javascript\">if (window.MathJax) {MathJax.Hub.Config({SVG: {font: \"STIX-Web\"}});}</script>                <script type=\"text/javascript\">window.PlotlyConfig = {MathJaxConfig: 'local'};</script>\n",
              "        <script src=\"https://cdn.plot.ly/plotly-2.8.3.min.js\"></script>                <div id=\"064c00e9-4b93-4a06-80ad-05cbb8078aaa\" class=\"plotly-graph-div\" style=\"height:525px; width:100%;\"></div>            <script type=\"text/javascript\">                                    window.PLOTLYENV=window.PLOTLYENV || {};                                    if (document.getElementById(\"064c00e9-4b93-4a06-80ad-05cbb8078aaa\")) {                    Plotly.newPlot(                        \"064c00e9-4b93-4a06-80ad-05cbb8078aaa\",                        [{\"hovertemplate\":\"Date=%{x}<br>Close=%{y}<extra></extra>\",\"legendgroup\":\"\",\"line\":{\"color\":\"#636efa\"},\"marker\":{\"symbol\":\"circle\"},\"mode\":\"lines\",\"name\":\"\",\"orientation\":\"v\",\"showlegend\":false,\"stackgroup\":\"1\",\"x\":[\"2021-02-16\",\"2021-02-17\",\"2021-02-18\",\"2021-02-19\",\"2021-02-22\",\"2021-02-23\",\"2021-02-24\",\"2021-02-25\",\"2021-02-26\",\"2021-03-01\",\"2021-03-02\",\"2021-03-03\",\"2021-03-04\",\"2021-03-05\",\"2021-03-08\",\"2021-03-09\",\"2021-03-10\",\"2021-03-11\",\"2021-03-12\",\"2021-03-15\",\"2021-03-16\",\"2021-03-17\",\"2021-03-18\",\"2021-03-19\",\"2021-03-22\",\"2021-03-23\",\"2021-03-24\",\"2021-03-25\",\"2021-03-26\",\"2021-03-29\",\"2021-03-30\",\"2021-03-31\",\"2021-04-01\",\"2021-04-05\",\"2021-04-06\",\"2021-04-07\",\"2021-04-08\",\"2021-04-09\",\"2021-04-12\",\"2021-04-13\",\"2021-04-14\",\"2021-04-15\",\"2021-04-16\",\"2021-04-19\",\"2021-04-20\",\"2021-04-21\",\"2021-04-22\",\"2021-04-23\",\"2021-04-26\",\"2021-04-27\",\"2021-04-28\",\"2021-04-29\",\"2021-04-30\",\"2021-05-03\",\"2021-05-04\",\"2021-05-05\",\"2021-05-06\",\"2021-05-07\",\"2021-05-10\",\"2021-05-11\",\"2021-05-12\",\"2021-05-13\",\"2021-05-14\",\"2021-05-17\",\"2021-05-18\",\"2021-05-19\",\"2021-05-20\",\"2021-05-21\",\"2021-05-24\",\"2021-05-25\",\"2021-05-26\",\"2021-05-27\",\"2021-05-28\",\"2021-06-01\",\"2021-06-02\",\"2021-06-03\",\"2021-06-04\",\"2021-06-07\",\"2021-06-08\",\"2021-06-09\",\"2021-06-10\",\"2021-06-11\",\"2021-06-14\",\"2021-06-15\",\"2021-06-16\",\"2021-06-17\",\"2021-06-18\",\"2021-06-21\",\"2021-06-22\",\"2021-06-23\",\"2021-06-24\",\"2021-06-25\",\"2021-06-28\",\"2021-06-29\",\"2021-06-30\",\"2021-07-01\",\"2021-07-02\",\"2021-07-06\",\"2021-07-07\",\"2021-07-08\",\"2021-07-09\",\"2021-07-12\",\"2021-07-13\",\"2021-07-14\",\"2021-07-15\",\"2021-07-16\",\"2021-07-19\",\"2021-07-20\",\"2021-07-21\",\"2021-07-22\",\"2021-07-23\",\"2021-07-26\",\"2021-07-27\",\"2021-07-28\",\"2021-07-29\",\"2021-07-30\",\"2021-08-02\",\"2021-08-03\",\"2021-08-04\",\"2021-08-05\",\"2021-08-06\",\"2021-08-09\",\"2021-08-10\",\"2021-08-11\",\"2021-08-12\",\"2021-08-13\",\"2021-08-16\",\"2021-08-17\",\"2021-08-18\",\"2021-08-19\",\"2021-08-20\",\"2021-08-23\",\"2021-08-24\",\"2021-08-25\",\"2021-08-26\",\"2021-08-27\",\"2021-08-30\",\"2021-08-31\",\"2021-09-01\",\"2021-09-02\",\"2021-09-03\",\"2021-09-07\",\"2021-09-08\",\"2021-09-09\",\"2021-09-10\",\"2021-09-13\",\"2021-09-14\",\"2021-09-15\",\"2021-09-16\",\"2021-09-17\",\"2021-09-20\",\"2021-09-21\",\"2021-09-22\",\"2021-09-23\",\"2021-09-24\",\"2021-09-27\",\"2021-09-28\",\"2021-09-29\",\"2021-09-30\",\"2021-10-01\",\"2021-10-04\",\"2021-10-05\",\"2021-10-06\",\"2021-10-07\",\"2021-10-08\",\"2021-10-11\",\"2021-10-12\",\"2021-10-13\",\"2021-10-14\",\"2021-10-15\",\"2021-10-18\",\"2021-10-19\",\"2021-10-20\",\"2021-10-21\",\"2021-10-22\",\"2021-10-25\",\"2021-10-26\",\"2021-10-27\",\"2021-10-28\",\"2021-10-29\",\"2021-11-01\",\"2021-11-02\",\"2021-11-03\",\"2021-11-04\",\"2021-11-05\",\"2021-11-08\",\"2021-11-09\",\"2021-11-10\",\"2021-11-11\",\"2021-11-12\",\"2021-11-15\",\"2021-11-16\",\"2021-11-17\",\"2021-11-18\",\"2021-11-19\",\"2021-11-22\",\"2021-11-23\",\"2021-11-24\",\"2021-11-26\",\"2021-11-29\",\"2021-11-30\",\"2021-12-01\",\"2021-12-02\",\"2021-12-03\",\"2021-12-06\",\"2021-12-07\",\"2021-12-08\",\"2021-12-09\",\"2021-12-10\",\"2021-12-13\",\"2021-12-14\",\"2021-12-15\",\"2021-12-16\",\"2021-12-17\",\"2021-12-20\",\"2021-12-21\",\"2021-12-22\",\"2021-12-23\",\"2021-12-27\",\"2021-12-28\",\"2021-12-29\",\"2021-12-30\",\"2021-12-31\",\"2022-01-03\",\"2022-01-04\",\"2022-01-05\",\"2022-01-06\",\"2022-01-07\",\"2022-01-10\",\"2022-01-11\",\"2022-01-12\",\"2022-01-13\",\"2022-01-14\",\"2022-01-18\",\"2022-01-19\",\"2022-01-20\",\"2022-01-21\",\"2022-01-24\",\"2022-01-25\",\"2022-01-26\",\"2022-01-27\",\"2022-01-28\",\"2022-01-31\",\"2022-02-01\",\"2022-02-02\",\"2022-02-03\",\"2022-02-04\",\"2022-02-07\",\"2022-02-08\",\"2022-02-09\",\"2022-02-10\",\"2022-02-11\"],\"xaxis\":\"x\",\"y\":[796.219971,798.150024,787.380005,781.299988,714.5,698.840027,742.02002,682.219971,675.5,718.429993,686.440002,653.200012,621.440002,597.950012,563.0,673.580017,668.059998,699.599976,693.72998,707.940002,676.880005,701.809998,653.159973,654.869995,670.0,662.159973,630.27002,640.390015,618.710022,611.289978,635.619995,667.929993,661.75,691.049988,691.619995,670.969971,683.799988,677.02002,701.97998,762.320007,732.22998,738.849976,739.780029,714.630005,718.98999,744.119995,719.690002,729.400024,738.200012,704.73999,694.400024,677.0,709.440002,684.900024,673.599976,670.940002,663.539978,672.369995,629.039978,617.200012,589.890015,571.690002,589.73999,576.830017,577.869995,563.460022,586.780029,580.880005,606.440002,604.690002,619.130005,630.849976,625.219971,623.900024,605.119995,572.840027,599.049988,605.130005,603.590027,598.780029,610.119995,609.890015,617.690002,599.359985,604.869995,616.599976,623.309998,620.830017,623.710022,656.570007,679.820007,671.869995,688.719971,680.76001,679.700012,677.919983,678.900024,659.580017,644.650024,652.809998,656.950012,685.700012,668.539978,653.380005,650.599976,644.219971,646.219971,660.5,655.289978,649.26001,643.380005,657.619995,644.780029,646.97998,677.349976,687.200012,709.669983,709.73999,710.919983,714.630005,699.099976,713.76001,709.98999,707.820007,722.25,717.169983,686.169983,665.710022,688.98999,673.469971,680.26001,706.299988,708.48999,711.200012,701.159973,711.919983,730.909973,735.719971,734.090027,732.390015,733.570007,752.919983,753.869995,754.859985,736.27002,743.0,744.48999,755.830017,756.98999,759.48999,730.169983,739.380005,751.940002,753.640015,774.390015,791.359985,777.559998,781.309998,775.47998,775.219971,781.530029,780.590027,782.75,793.609985,785.48999,791.940002,805.719971,811.080017,818.320007,843.030029,870.109985,864.27002,865.799988,894.0,909.679993,1024.859985,1018.429993,1037.859985,1077.040039,1114.0,1208.589966,1172.0,1213.859985,1229.910034,1222.089966,1162.939941,1023.5,1067.949951,1063.51001,1033.420044,1013.390015,1054.72998,1089.01001,1096.380005,1137.060059,1156.869995,1109.030029,1116.0,1081.920044,1136.98999,1144.76001,1095.0,1084.599976,1014.969971,1009.01001,1051.75,1068.959961,1003.799988,1017.030029,966.409973,958.51001,975.98999,926.919983,932.570007,899.940002,938.530029,1008.869995,1067.0,1093.939941,1088.469971,1086.189941,1070.339966,1056.780029,1199.780029,1149.589966,1088.119995,1064.699951,1026.959961,1058.119995,1064.400024,1106.219971,1031.560059,1049.609985,1030.51001,995.650024,996.27002,943.900024,930.0,918.400024,937.409973,829.099976,846.349976,936.719971,931.25,905.659973,891.140015,923.320007,907.340027,922.0,932.0,904.549988,860.0],\"yaxis\":\"y\",\"type\":\"scatter\"}],                        {\"template\":{\"data\":{\"bar\":[{\"error_x\":{\"color\":\"#2a3f5f\"},\"error_y\":{\"color\":\"#2a3f5f\"},\"marker\":{\"line\":{\"color\":\"#E5ECF6\",\"width\":0.5},\"pattern\":{\"fillmode\":\"overlay\",\"size\":10,\"solidity\":0.2}},\"type\":\"bar\"}],\"barpolar\":[{\"marker\":{\"line\":{\"color\":\"#E5ECF6\",\"width\":0.5},\"pattern\":{\"fillmode\":\"overlay\",\"size\":10,\"solidity\":0.2}},\"type\":\"barpolar\"}],\"carpet\":[{\"aaxis\":{\"endlinecolor\":\"#2a3f5f\",\"gridcolor\":\"white\",\"linecolor\":\"white\",\"minorgridcolor\":\"white\",\"startlinecolor\":\"#2a3f5f\"},\"baxis\":{\"endlinecolor\":\"#2a3f5f\",\"gridcolor\":\"white\",\"linecolor\":\"white\",\"minorgridcolor\":\"white\",\"startlinecolor\":\"#2a3f5f\"},\"type\":\"carpet\"}],\"choropleth\":[{\"colorbar\":{\"outlinewidth\":0,\"ticks\":\"\"},\"type\":\"choropleth\"}],\"contour\":[{\"colorbar\":{\"outlinewidth\":0,\"ticks\":\"\"},\"colorscale\":[[0.0,\"#0d0887\"],[0.1111111111111111,\"#46039f\"],[0.2222222222222222,\"#7201a8\"],[0.3333333333333333,\"#9c179e\"],[0.4444444444444444,\"#bd3786\"],[0.5555555555555556,\"#d8576b\"],[0.6666666666666666,\"#ed7953\"],[0.7777777777777778,\"#fb9f3a\"],[0.8888888888888888,\"#fdca26\"],[1.0,\"#f0f921\"]],\"type\":\"contour\"}],\"contourcarpet\":[{\"colorbar\":{\"outlinewidth\":0,\"ticks\":\"\"},\"type\":\"contourcarpet\"}],\"heatmap\":[{\"colorbar\":{\"outlinewidth\":0,\"ticks\":\"\"},\"colorscale\":[[0.0,\"#0d0887\"],[0.1111111111111111,\"#46039f\"],[0.2222222222222222,\"#7201a8\"],[0.3333333333333333,\"#9c179e\"],[0.4444444444444444,\"#bd3786\"],[0.5555555555555556,\"#d8576b\"],[0.6666666666666666,\"#ed7953\"],[0.7777777777777778,\"#fb9f3a\"],[0.8888888888888888,\"#fdca26\"],[1.0,\"#f0f921\"]],\"type\":\"heatmap\"}],\"heatmapgl\":[{\"colorbar\":{\"outlinewidth\":0,\"ticks\":\"\"},\"colorscale\":[[0.0,\"#0d0887\"],[0.1111111111111111,\"#46039f\"],[0.2222222222222222,\"#7201a8\"],[0.3333333333333333,\"#9c179e\"],[0.4444444444444444,\"#bd3786\"],[0.5555555555555556,\"#d8576b\"],[0.6666666666666666,\"#ed7953\"],[0.7777777777777778,\"#fb9f3a\"],[0.8888888888888888,\"#fdca26\"],[1.0,\"#f0f921\"]],\"type\":\"heatmapgl\"}],\"histogram\":[{\"marker\":{\"pattern\":{\"fillmode\":\"overlay\",\"size\":10,\"solidity\":0.2}},\"type\":\"histogram\"}],\"histogram2d\":[{\"colorbar\":{\"outlinewidth\":0,\"ticks\":\"\"},\"colorscale\":[[0.0,\"#0d0887\"],[0.1111111111111111,\"#46039f\"],[0.2222222222222222,\"#7201a8\"],[0.3333333333333333,\"#9c179e\"],[0.4444444444444444,\"#bd3786\"],[0.5555555555555556,\"#d8576b\"],[0.6666666666666666,\"#ed7953\"],[0.7777777777777778,\"#fb9f3a\"],[0.8888888888888888,\"#fdca26\"],[1.0,\"#f0f921\"]],\"type\":\"histogram2d\"}],\"histogram2dcontour\":[{\"colorbar\":{\"outlinewidth\":0,\"ticks\":\"\"},\"colorscale\":[[0.0,\"#0d0887\"],[0.1111111111111111,\"#46039f\"],[0.2222222222222222,\"#7201a8\"],[0.3333333333333333,\"#9c179e\"],[0.4444444444444444,\"#bd3786\"],[0.5555555555555556,\"#d8576b\"],[0.6666666666666666,\"#ed7953\"],[0.7777777777777778,\"#fb9f3a\"],[0.8888888888888888,\"#fdca26\"],[1.0,\"#f0f921\"]],\"type\":\"histogram2dcontour\"}],\"mesh3d\":[{\"colorbar\":{\"outlinewidth\":0,\"ticks\":\"\"},\"type\":\"mesh3d\"}],\"parcoords\":[{\"line\":{\"colorbar\":{\"outlinewidth\":0,\"ticks\":\"\"}},\"type\":\"parcoords\"}],\"pie\":[{\"automargin\":true,\"type\":\"pie\"}],\"scatter\":[{\"marker\":{\"colorbar\":{\"outlinewidth\":0,\"ticks\":\"\"}},\"type\":\"scatter\"}],\"scatter3d\":[{\"line\":{\"colorbar\":{\"outlinewidth\":0,\"ticks\":\"\"}},\"marker\":{\"colorbar\":{\"outlinewidth\":0,\"ticks\":\"\"}},\"type\":\"scatter3d\"}],\"scattercarpet\":[{\"marker\":{\"colorbar\":{\"outlinewidth\":0,\"ticks\":\"\"}},\"type\":\"scattercarpet\"}],\"scattergeo\":[{\"marker\":{\"colorbar\":{\"outlinewidth\":0,\"ticks\":\"\"}},\"type\":\"scattergeo\"}],\"scattergl\":[{\"marker\":{\"colorbar\":{\"outlinewidth\":0,\"ticks\":\"\"}},\"type\":\"scattergl\"}],\"scattermapbox\":[{\"marker\":{\"colorbar\":{\"outlinewidth\":0,\"ticks\":\"\"}},\"type\":\"scattermapbox\"}],\"scatterpolar\":[{\"marker\":{\"colorbar\":{\"outlinewidth\":0,\"ticks\":\"\"}},\"type\":\"scatterpolar\"}],\"scatterpolargl\":[{\"marker\":{\"colorbar\":{\"outlinewidth\":0,\"ticks\":\"\"}},\"type\":\"scatterpolargl\"}],\"scatterternary\":[{\"marker\":{\"colorbar\":{\"outlinewidth\":0,\"ticks\":\"\"}},\"type\":\"scatterternary\"}],\"surface\":[{\"colorbar\":{\"outlinewidth\":0,\"ticks\":\"\"},\"colorscale\":[[0.0,\"#0d0887\"],[0.1111111111111111,\"#46039f\"],[0.2222222222222222,\"#7201a8\"],[0.3333333333333333,\"#9c179e\"],[0.4444444444444444,\"#bd3786\"],[0.5555555555555556,\"#d8576b\"],[0.6666666666666666,\"#ed7953\"],[0.7777777777777778,\"#fb9f3a\"],[0.8888888888888888,\"#fdca26\"],[1.0,\"#f0f921\"]],\"type\":\"surface\"}],\"table\":[{\"cells\":{\"fill\":{\"color\":\"#EBF0F8\"},\"line\":{\"color\":\"white\"}},\"header\":{\"fill\":{\"color\":\"#C8D4E3\"},\"line\":{\"color\":\"white\"}},\"type\":\"table\"}]},\"layout\":{\"annotationdefaults\":{\"arrowcolor\":\"#2a3f5f\",\"arrowhead\":0,\"arrowwidth\":1},\"autotypenumbers\":\"strict\",\"coloraxis\":{\"colorbar\":{\"outlinewidth\":0,\"ticks\":\"\"}},\"colorscale\":{\"diverging\":[[0,\"#8e0152\"],[0.1,\"#c51b7d\"],[0.2,\"#de77ae\"],[0.3,\"#f1b6da\"],[0.4,\"#fde0ef\"],[0.5,\"#f7f7f7\"],[0.6,\"#e6f5d0\"],[0.7,\"#b8e186\"],[0.8,\"#7fbc41\"],[0.9,\"#4d9221\"],[1,\"#276419\"]],\"sequential\":[[0.0,\"#0d0887\"],[0.1111111111111111,\"#46039f\"],[0.2222222222222222,\"#7201a8\"],[0.3333333333333333,\"#9c179e\"],[0.4444444444444444,\"#bd3786\"],[0.5555555555555556,\"#d8576b\"],[0.6666666666666666,\"#ed7953\"],[0.7777777777777778,\"#fb9f3a\"],[0.8888888888888888,\"#fdca26\"],[1.0,\"#f0f921\"]],\"sequentialminus\":[[0.0,\"#0d0887\"],[0.1111111111111111,\"#46039f\"],[0.2222222222222222,\"#7201a8\"],[0.3333333333333333,\"#9c179e\"],[0.4444444444444444,\"#bd3786\"],[0.5555555555555556,\"#d8576b\"],[0.6666666666666666,\"#ed7953\"],[0.7777777777777778,\"#fb9f3a\"],[0.8888888888888888,\"#fdca26\"],[1.0,\"#f0f921\"]]},\"colorway\":[\"#636efa\",\"#EF553B\",\"#00cc96\",\"#ab63fa\",\"#FFA15A\",\"#19d3f3\",\"#FF6692\",\"#B6E880\",\"#FF97FF\",\"#FECB52\"],\"font\":{\"color\":\"#2a3f5f\"},\"geo\":{\"bgcolor\":\"white\",\"lakecolor\":\"white\",\"landcolor\":\"#E5ECF6\",\"showlakes\":true,\"showland\":true,\"subunitcolor\":\"white\"},\"hoverlabel\":{\"align\":\"left\"},\"hovermode\":\"closest\",\"mapbox\":{\"style\":\"light\"},\"paper_bgcolor\":\"white\",\"plot_bgcolor\":\"#E5ECF6\",\"polar\":{\"angularaxis\":{\"gridcolor\":\"white\",\"linecolor\":\"white\",\"ticks\":\"\"},\"bgcolor\":\"#E5ECF6\",\"radialaxis\":{\"gridcolor\":\"white\",\"linecolor\":\"white\",\"ticks\":\"\"}},\"scene\":{\"xaxis\":{\"backgroundcolor\":\"#E5ECF6\",\"gridcolor\":\"white\",\"gridwidth\":2,\"linecolor\":\"white\",\"showbackground\":true,\"ticks\":\"\",\"zerolinecolor\":\"white\"},\"yaxis\":{\"backgroundcolor\":\"#E5ECF6\",\"gridcolor\":\"white\",\"gridwidth\":2,\"linecolor\":\"white\",\"showbackground\":true,\"ticks\":\"\",\"zerolinecolor\":\"white\"},\"zaxis\":{\"backgroundcolor\":\"#E5ECF6\",\"gridcolor\":\"white\",\"gridwidth\":2,\"linecolor\":\"white\",\"showbackground\":true,\"ticks\":\"\",\"zerolinecolor\":\"white\"}},\"shapedefaults\":{\"line\":{\"color\":\"#2a3f5f\"}},\"ternary\":{\"aaxis\":{\"gridcolor\":\"white\",\"linecolor\":\"white\",\"ticks\":\"\"},\"baxis\":{\"gridcolor\":\"white\",\"linecolor\":\"white\",\"ticks\":\"\"},\"bgcolor\":\"#E5ECF6\",\"caxis\":{\"gridcolor\":\"white\",\"linecolor\":\"white\",\"ticks\":\"\"}},\"title\":{\"x\":0.05},\"xaxis\":{\"automargin\":true,\"gridcolor\":\"white\",\"linecolor\":\"white\",\"ticks\":\"\",\"title\":{\"standoff\":15},\"zerolinecolor\":\"white\",\"zerolinewidth\":2},\"yaxis\":{\"automargin\":true,\"gridcolor\":\"white\",\"linecolor\":\"white\",\"ticks\":\"\",\"title\":{\"standoff\":15},\"zerolinecolor\":\"white\",\"zerolinewidth\":2}}},\"xaxis\":{\"anchor\":\"y\",\"domain\":[0.0,1.0],\"title\":{\"text\":\"Date\"}},\"yaxis\":{\"anchor\":\"x\",\"domain\":[0.0,1.0],\"title\":{\"text\":\"Close\"}},\"legend\":{\"tracegroupgap\":0},\"margin\":{\"t\":60}},                        {\"responsive\": true}                    ).then(function(){\n",
              "                            \n",
              "var gd = document.getElementById('064c00e9-4b93-4a06-80ad-05cbb8078aaa');\n",
              "var x = new MutationObserver(function (mutations, observer) {{\n",
              "        var display = window.getComputedStyle(gd).display;\n",
              "        if (!display || display === 'none') {{\n",
              "            console.log([gd, 'removed!']);\n",
              "            Plotly.purge(gd);\n",
              "            observer.disconnect();\n",
              "        }}\n",
              "}});\n",
              "\n",
              "// Listen for the removal of the full notebook cells\n",
              "var notebookContainer = gd.closest('#notebook-container');\n",
              "if (notebookContainer) {{\n",
              "    x.observe(notebookContainer, {childList: true});\n",
              "}}\n",
              "\n",
              "// Listen for the clearing of the current output cell\n",
              "var outputEl = gd.closest('.output');\n",
              "if (outputEl) {{\n",
              "    x.observe(outputEl, {childList: true});\n",
              "}}\n",
              "\n",
              "                        })                };                            </script>        </div>\n",
              "</body>\n",
              "</html>"
            ]
          },
          "metadata": {}
        }
      ]
    },
    {
      "cell_type": "code",
      "source": [
        "px.line(df, x = 'Date', y = 'Close')"
      ],
      "metadata": {
        "colab": {
          "base_uri": "https://localhost:8080/",
          "height": 542
        },
        "id": "-6egFRYwBW_b",
        "outputId": "29a9e50c-ed38-4ca1-9980-42e4d05fa01a"
      },
      "execution_count": null,
      "outputs": [
        {
          "output_type": "display_data",
          "data": {
            "text/html": [
              "<html>\n",
              "<head><meta charset=\"utf-8\" /></head>\n",
              "<body>\n",
              "    <div>            <script src=\"https://cdnjs.cloudflare.com/ajax/libs/mathjax/2.7.5/MathJax.js?config=TeX-AMS-MML_SVG\"></script><script type=\"text/javascript\">if (window.MathJax) {MathJax.Hub.Config({SVG: {font: \"STIX-Web\"}});}</script>                <script type=\"text/javascript\">window.PlotlyConfig = {MathJaxConfig: 'local'};</script>\n",
              "        <script src=\"https://cdn.plot.ly/plotly-2.8.3.min.js\"></script>                <div id=\"68e25ad0-3824-469e-a772-f27126838394\" class=\"plotly-graph-div\" style=\"height:525px; width:100%;\"></div>            <script type=\"text/javascript\">                                    window.PLOTLYENV=window.PLOTLYENV || {};                                    if (document.getElementById(\"68e25ad0-3824-469e-a772-f27126838394\")) {                    Plotly.newPlot(                        \"68e25ad0-3824-469e-a772-f27126838394\",                        [{\"hovertemplate\":\"Date=%{x}<br>Close=%{y}<extra></extra>\",\"legendgroup\":\"\",\"line\":{\"color\":\"#636efa\",\"dash\":\"solid\"},\"marker\":{\"symbol\":\"circle\"},\"mode\":\"lines\",\"name\":\"\",\"orientation\":\"v\",\"showlegend\":false,\"x\":[\"2021-02-16\",\"2021-02-17\",\"2021-02-18\",\"2021-02-19\",\"2021-02-22\",\"2021-02-23\",\"2021-02-24\",\"2021-02-25\",\"2021-02-26\",\"2021-03-01\",\"2021-03-02\",\"2021-03-03\",\"2021-03-04\",\"2021-03-05\",\"2021-03-08\",\"2021-03-09\",\"2021-03-10\",\"2021-03-11\",\"2021-03-12\",\"2021-03-15\",\"2021-03-16\",\"2021-03-17\",\"2021-03-18\",\"2021-03-19\",\"2021-03-22\",\"2021-03-23\",\"2021-03-24\",\"2021-03-25\",\"2021-03-26\",\"2021-03-29\",\"2021-03-30\",\"2021-03-31\",\"2021-04-01\",\"2021-04-05\",\"2021-04-06\",\"2021-04-07\",\"2021-04-08\",\"2021-04-09\",\"2021-04-12\",\"2021-04-13\",\"2021-04-14\",\"2021-04-15\",\"2021-04-16\",\"2021-04-19\",\"2021-04-20\",\"2021-04-21\",\"2021-04-22\",\"2021-04-23\",\"2021-04-26\",\"2021-04-27\",\"2021-04-28\",\"2021-04-29\",\"2021-04-30\",\"2021-05-03\",\"2021-05-04\",\"2021-05-05\",\"2021-05-06\",\"2021-05-07\",\"2021-05-10\",\"2021-05-11\",\"2021-05-12\",\"2021-05-13\",\"2021-05-14\",\"2021-05-17\",\"2021-05-18\",\"2021-05-19\",\"2021-05-20\",\"2021-05-21\",\"2021-05-24\",\"2021-05-25\",\"2021-05-26\",\"2021-05-27\",\"2021-05-28\",\"2021-06-01\",\"2021-06-02\",\"2021-06-03\",\"2021-06-04\",\"2021-06-07\",\"2021-06-08\",\"2021-06-09\",\"2021-06-10\",\"2021-06-11\",\"2021-06-14\",\"2021-06-15\",\"2021-06-16\",\"2021-06-17\",\"2021-06-18\",\"2021-06-21\",\"2021-06-22\",\"2021-06-23\",\"2021-06-24\",\"2021-06-25\",\"2021-06-28\",\"2021-06-29\",\"2021-06-30\",\"2021-07-01\",\"2021-07-02\",\"2021-07-06\",\"2021-07-07\",\"2021-07-08\",\"2021-07-09\",\"2021-07-12\",\"2021-07-13\",\"2021-07-14\",\"2021-07-15\",\"2021-07-16\",\"2021-07-19\",\"2021-07-20\",\"2021-07-21\",\"2021-07-22\",\"2021-07-23\",\"2021-07-26\",\"2021-07-27\",\"2021-07-28\",\"2021-07-29\",\"2021-07-30\",\"2021-08-02\",\"2021-08-03\",\"2021-08-04\",\"2021-08-05\",\"2021-08-06\",\"2021-08-09\",\"2021-08-10\",\"2021-08-11\",\"2021-08-12\",\"2021-08-13\",\"2021-08-16\",\"2021-08-17\",\"2021-08-18\",\"2021-08-19\",\"2021-08-20\",\"2021-08-23\",\"2021-08-24\",\"2021-08-25\",\"2021-08-26\",\"2021-08-27\",\"2021-08-30\",\"2021-08-31\",\"2021-09-01\",\"2021-09-02\",\"2021-09-03\",\"2021-09-07\",\"2021-09-08\",\"2021-09-09\",\"2021-09-10\",\"2021-09-13\",\"2021-09-14\",\"2021-09-15\",\"2021-09-16\",\"2021-09-17\",\"2021-09-20\",\"2021-09-21\",\"2021-09-22\",\"2021-09-23\",\"2021-09-24\",\"2021-09-27\",\"2021-09-28\",\"2021-09-29\",\"2021-09-30\",\"2021-10-01\",\"2021-10-04\",\"2021-10-05\",\"2021-10-06\",\"2021-10-07\",\"2021-10-08\",\"2021-10-11\",\"2021-10-12\",\"2021-10-13\",\"2021-10-14\",\"2021-10-15\",\"2021-10-18\",\"2021-10-19\",\"2021-10-20\",\"2021-10-21\",\"2021-10-22\",\"2021-10-25\",\"2021-10-26\",\"2021-10-27\",\"2021-10-28\",\"2021-10-29\",\"2021-11-01\",\"2021-11-02\",\"2021-11-03\",\"2021-11-04\",\"2021-11-05\",\"2021-11-08\",\"2021-11-09\",\"2021-11-10\",\"2021-11-11\",\"2021-11-12\",\"2021-11-15\",\"2021-11-16\",\"2021-11-17\",\"2021-11-18\",\"2021-11-19\",\"2021-11-22\",\"2021-11-23\",\"2021-11-24\",\"2021-11-26\",\"2021-11-29\",\"2021-11-30\",\"2021-12-01\",\"2021-12-02\",\"2021-12-03\",\"2021-12-06\",\"2021-12-07\",\"2021-12-08\",\"2021-12-09\",\"2021-12-10\",\"2021-12-13\",\"2021-12-14\",\"2021-12-15\",\"2021-12-16\",\"2021-12-17\",\"2021-12-20\",\"2021-12-21\",\"2021-12-22\",\"2021-12-23\",\"2021-12-27\",\"2021-12-28\",\"2021-12-29\",\"2021-12-30\",\"2021-12-31\",\"2022-01-03\",\"2022-01-04\",\"2022-01-05\",\"2022-01-06\",\"2022-01-07\",\"2022-01-10\",\"2022-01-11\",\"2022-01-12\",\"2022-01-13\",\"2022-01-14\",\"2022-01-18\",\"2022-01-19\",\"2022-01-20\",\"2022-01-21\",\"2022-01-24\",\"2022-01-25\",\"2022-01-26\",\"2022-01-27\",\"2022-01-28\",\"2022-01-31\",\"2022-02-01\",\"2022-02-02\",\"2022-02-03\",\"2022-02-04\",\"2022-02-07\",\"2022-02-08\",\"2022-02-09\",\"2022-02-10\",\"2022-02-11\"],\"xaxis\":\"x\",\"y\":[796.219971,798.150024,787.380005,781.299988,714.5,698.840027,742.02002,682.219971,675.5,718.429993,686.440002,653.200012,621.440002,597.950012,563.0,673.580017,668.059998,699.599976,693.72998,707.940002,676.880005,701.809998,653.159973,654.869995,670.0,662.159973,630.27002,640.390015,618.710022,611.289978,635.619995,667.929993,661.75,691.049988,691.619995,670.969971,683.799988,677.02002,701.97998,762.320007,732.22998,738.849976,739.780029,714.630005,718.98999,744.119995,719.690002,729.400024,738.200012,704.73999,694.400024,677.0,709.440002,684.900024,673.599976,670.940002,663.539978,672.369995,629.039978,617.200012,589.890015,571.690002,589.73999,576.830017,577.869995,563.460022,586.780029,580.880005,606.440002,604.690002,619.130005,630.849976,625.219971,623.900024,605.119995,572.840027,599.049988,605.130005,603.590027,598.780029,610.119995,609.890015,617.690002,599.359985,604.869995,616.599976,623.309998,620.830017,623.710022,656.570007,679.820007,671.869995,688.719971,680.76001,679.700012,677.919983,678.900024,659.580017,644.650024,652.809998,656.950012,685.700012,668.539978,653.380005,650.599976,644.219971,646.219971,660.5,655.289978,649.26001,643.380005,657.619995,644.780029,646.97998,677.349976,687.200012,709.669983,709.73999,710.919983,714.630005,699.099976,713.76001,709.98999,707.820007,722.25,717.169983,686.169983,665.710022,688.98999,673.469971,680.26001,706.299988,708.48999,711.200012,701.159973,711.919983,730.909973,735.719971,734.090027,732.390015,733.570007,752.919983,753.869995,754.859985,736.27002,743.0,744.48999,755.830017,756.98999,759.48999,730.169983,739.380005,751.940002,753.640015,774.390015,791.359985,777.559998,781.309998,775.47998,775.219971,781.530029,780.590027,782.75,793.609985,785.48999,791.940002,805.719971,811.080017,818.320007,843.030029,870.109985,864.27002,865.799988,894.0,909.679993,1024.859985,1018.429993,1037.859985,1077.040039,1114.0,1208.589966,1172.0,1213.859985,1229.910034,1222.089966,1162.939941,1023.5,1067.949951,1063.51001,1033.420044,1013.390015,1054.72998,1089.01001,1096.380005,1137.060059,1156.869995,1109.030029,1116.0,1081.920044,1136.98999,1144.76001,1095.0,1084.599976,1014.969971,1009.01001,1051.75,1068.959961,1003.799988,1017.030029,966.409973,958.51001,975.98999,926.919983,932.570007,899.940002,938.530029,1008.869995,1067.0,1093.939941,1088.469971,1086.189941,1070.339966,1056.780029,1199.780029,1149.589966,1088.119995,1064.699951,1026.959961,1058.119995,1064.400024,1106.219971,1031.560059,1049.609985,1030.51001,995.650024,996.27002,943.900024,930.0,918.400024,937.409973,829.099976,846.349976,936.719971,931.25,905.659973,891.140015,923.320007,907.340027,922.0,932.0,904.549988,860.0],\"yaxis\":\"y\",\"type\":\"scatter\"}],                        {\"template\":{\"data\":{\"bar\":[{\"error_x\":{\"color\":\"#2a3f5f\"},\"error_y\":{\"color\":\"#2a3f5f\"},\"marker\":{\"line\":{\"color\":\"#E5ECF6\",\"width\":0.5},\"pattern\":{\"fillmode\":\"overlay\",\"size\":10,\"solidity\":0.2}},\"type\":\"bar\"}],\"barpolar\":[{\"marker\":{\"line\":{\"color\":\"#E5ECF6\",\"width\":0.5},\"pattern\":{\"fillmode\":\"overlay\",\"size\":10,\"solidity\":0.2}},\"type\":\"barpolar\"}],\"carpet\":[{\"aaxis\":{\"endlinecolor\":\"#2a3f5f\",\"gridcolor\":\"white\",\"linecolor\":\"white\",\"minorgridcolor\":\"white\",\"startlinecolor\":\"#2a3f5f\"},\"baxis\":{\"endlinecolor\":\"#2a3f5f\",\"gridcolor\":\"white\",\"linecolor\":\"white\",\"minorgridcolor\":\"white\",\"startlinecolor\":\"#2a3f5f\"},\"type\":\"carpet\"}],\"choropleth\":[{\"colorbar\":{\"outlinewidth\":0,\"ticks\":\"\"},\"type\":\"choropleth\"}],\"contour\":[{\"colorbar\":{\"outlinewidth\":0,\"ticks\":\"\"},\"colorscale\":[[0.0,\"#0d0887\"],[0.1111111111111111,\"#46039f\"],[0.2222222222222222,\"#7201a8\"],[0.3333333333333333,\"#9c179e\"],[0.4444444444444444,\"#bd3786\"],[0.5555555555555556,\"#d8576b\"],[0.6666666666666666,\"#ed7953\"],[0.7777777777777778,\"#fb9f3a\"],[0.8888888888888888,\"#fdca26\"],[1.0,\"#f0f921\"]],\"type\":\"contour\"}],\"contourcarpet\":[{\"colorbar\":{\"outlinewidth\":0,\"ticks\":\"\"},\"type\":\"contourcarpet\"}],\"heatmap\":[{\"colorbar\":{\"outlinewidth\":0,\"ticks\":\"\"},\"colorscale\":[[0.0,\"#0d0887\"],[0.1111111111111111,\"#46039f\"],[0.2222222222222222,\"#7201a8\"],[0.3333333333333333,\"#9c179e\"],[0.4444444444444444,\"#bd3786\"],[0.5555555555555556,\"#d8576b\"],[0.6666666666666666,\"#ed7953\"],[0.7777777777777778,\"#fb9f3a\"],[0.8888888888888888,\"#fdca26\"],[1.0,\"#f0f921\"]],\"type\":\"heatmap\"}],\"heatmapgl\":[{\"colorbar\":{\"outlinewidth\":0,\"ticks\":\"\"},\"colorscale\":[[0.0,\"#0d0887\"],[0.1111111111111111,\"#46039f\"],[0.2222222222222222,\"#7201a8\"],[0.3333333333333333,\"#9c179e\"],[0.4444444444444444,\"#bd3786\"],[0.5555555555555556,\"#d8576b\"],[0.6666666666666666,\"#ed7953\"],[0.7777777777777778,\"#fb9f3a\"],[0.8888888888888888,\"#fdca26\"],[1.0,\"#f0f921\"]],\"type\":\"heatmapgl\"}],\"histogram\":[{\"marker\":{\"pattern\":{\"fillmode\":\"overlay\",\"size\":10,\"solidity\":0.2}},\"type\":\"histogram\"}],\"histogram2d\":[{\"colorbar\":{\"outlinewidth\":0,\"ticks\":\"\"},\"colorscale\":[[0.0,\"#0d0887\"],[0.1111111111111111,\"#46039f\"],[0.2222222222222222,\"#7201a8\"],[0.3333333333333333,\"#9c179e\"],[0.4444444444444444,\"#bd3786\"],[0.5555555555555556,\"#d8576b\"],[0.6666666666666666,\"#ed7953\"],[0.7777777777777778,\"#fb9f3a\"],[0.8888888888888888,\"#fdca26\"],[1.0,\"#f0f921\"]],\"type\":\"histogram2d\"}],\"histogram2dcontour\":[{\"colorbar\":{\"outlinewidth\":0,\"ticks\":\"\"},\"colorscale\":[[0.0,\"#0d0887\"],[0.1111111111111111,\"#46039f\"],[0.2222222222222222,\"#7201a8\"],[0.3333333333333333,\"#9c179e\"],[0.4444444444444444,\"#bd3786\"],[0.5555555555555556,\"#d8576b\"],[0.6666666666666666,\"#ed7953\"],[0.7777777777777778,\"#fb9f3a\"],[0.8888888888888888,\"#fdca26\"],[1.0,\"#f0f921\"]],\"type\":\"histogram2dcontour\"}],\"mesh3d\":[{\"colorbar\":{\"outlinewidth\":0,\"ticks\":\"\"},\"type\":\"mesh3d\"}],\"parcoords\":[{\"line\":{\"colorbar\":{\"outlinewidth\":0,\"ticks\":\"\"}},\"type\":\"parcoords\"}],\"pie\":[{\"automargin\":true,\"type\":\"pie\"}],\"scatter\":[{\"marker\":{\"colorbar\":{\"outlinewidth\":0,\"ticks\":\"\"}},\"type\":\"scatter\"}],\"scatter3d\":[{\"line\":{\"colorbar\":{\"outlinewidth\":0,\"ticks\":\"\"}},\"marker\":{\"colorbar\":{\"outlinewidth\":0,\"ticks\":\"\"}},\"type\":\"scatter3d\"}],\"scattercarpet\":[{\"marker\":{\"colorbar\":{\"outlinewidth\":0,\"ticks\":\"\"}},\"type\":\"scattercarpet\"}],\"scattergeo\":[{\"marker\":{\"colorbar\":{\"outlinewidth\":0,\"ticks\":\"\"}},\"type\":\"scattergeo\"}],\"scattergl\":[{\"marker\":{\"colorbar\":{\"outlinewidth\":0,\"ticks\":\"\"}},\"type\":\"scattergl\"}],\"scattermapbox\":[{\"marker\":{\"colorbar\":{\"outlinewidth\":0,\"ticks\":\"\"}},\"type\":\"scattermapbox\"}],\"scatterpolar\":[{\"marker\":{\"colorbar\":{\"outlinewidth\":0,\"ticks\":\"\"}},\"type\":\"scatterpolar\"}],\"scatterpolargl\":[{\"marker\":{\"colorbar\":{\"outlinewidth\":0,\"ticks\":\"\"}},\"type\":\"scatterpolargl\"}],\"scatterternary\":[{\"marker\":{\"colorbar\":{\"outlinewidth\":0,\"ticks\":\"\"}},\"type\":\"scatterternary\"}],\"surface\":[{\"colorbar\":{\"outlinewidth\":0,\"ticks\":\"\"},\"colorscale\":[[0.0,\"#0d0887\"],[0.1111111111111111,\"#46039f\"],[0.2222222222222222,\"#7201a8\"],[0.3333333333333333,\"#9c179e\"],[0.4444444444444444,\"#bd3786\"],[0.5555555555555556,\"#d8576b\"],[0.6666666666666666,\"#ed7953\"],[0.7777777777777778,\"#fb9f3a\"],[0.8888888888888888,\"#fdca26\"],[1.0,\"#f0f921\"]],\"type\":\"surface\"}],\"table\":[{\"cells\":{\"fill\":{\"color\":\"#EBF0F8\"},\"line\":{\"color\":\"white\"}},\"header\":{\"fill\":{\"color\":\"#C8D4E3\"},\"line\":{\"color\":\"white\"}},\"type\":\"table\"}]},\"layout\":{\"annotationdefaults\":{\"arrowcolor\":\"#2a3f5f\",\"arrowhead\":0,\"arrowwidth\":1},\"autotypenumbers\":\"strict\",\"coloraxis\":{\"colorbar\":{\"outlinewidth\":0,\"ticks\":\"\"}},\"colorscale\":{\"diverging\":[[0,\"#8e0152\"],[0.1,\"#c51b7d\"],[0.2,\"#de77ae\"],[0.3,\"#f1b6da\"],[0.4,\"#fde0ef\"],[0.5,\"#f7f7f7\"],[0.6,\"#e6f5d0\"],[0.7,\"#b8e186\"],[0.8,\"#7fbc41\"],[0.9,\"#4d9221\"],[1,\"#276419\"]],\"sequential\":[[0.0,\"#0d0887\"],[0.1111111111111111,\"#46039f\"],[0.2222222222222222,\"#7201a8\"],[0.3333333333333333,\"#9c179e\"],[0.4444444444444444,\"#bd3786\"],[0.5555555555555556,\"#d8576b\"],[0.6666666666666666,\"#ed7953\"],[0.7777777777777778,\"#fb9f3a\"],[0.8888888888888888,\"#fdca26\"],[1.0,\"#f0f921\"]],\"sequentialminus\":[[0.0,\"#0d0887\"],[0.1111111111111111,\"#46039f\"],[0.2222222222222222,\"#7201a8\"],[0.3333333333333333,\"#9c179e\"],[0.4444444444444444,\"#bd3786\"],[0.5555555555555556,\"#d8576b\"],[0.6666666666666666,\"#ed7953\"],[0.7777777777777778,\"#fb9f3a\"],[0.8888888888888888,\"#fdca26\"],[1.0,\"#f0f921\"]]},\"colorway\":[\"#636efa\",\"#EF553B\",\"#00cc96\",\"#ab63fa\",\"#FFA15A\",\"#19d3f3\",\"#FF6692\",\"#B6E880\",\"#FF97FF\",\"#FECB52\"],\"font\":{\"color\":\"#2a3f5f\"},\"geo\":{\"bgcolor\":\"white\",\"lakecolor\":\"white\",\"landcolor\":\"#E5ECF6\",\"showlakes\":true,\"showland\":true,\"subunitcolor\":\"white\"},\"hoverlabel\":{\"align\":\"left\"},\"hovermode\":\"closest\",\"mapbox\":{\"style\":\"light\"},\"paper_bgcolor\":\"white\",\"plot_bgcolor\":\"#E5ECF6\",\"polar\":{\"angularaxis\":{\"gridcolor\":\"white\",\"linecolor\":\"white\",\"ticks\":\"\"},\"bgcolor\":\"#E5ECF6\",\"radialaxis\":{\"gridcolor\":\"white\",\"linecolor\":\"white\",\"ticks\":\"\"}},\"scene\":{\"xaxis\":{\"backgroundcolor\":\"#E5ECF6\",\"gridcolor\":\"white\",\"gridwidth\":2,\"linecolor\":\"white\",\"showbackground\":true,\"ticks\":\"\",\"zerolinecolor\":\"white\"},\"yaxis\":{\"backgroundcolor\":\"#E5ECF6\",\"gridcolor\":\"white\",\"gridwidth\":2,\"linecolor\":\"white\",\"showbackground\":true,\"ticks\":\"\",\"zerolinecolor\":\"white\"},\"zaxis\":{\"backgroundcolor\":\"#E5ECF6\",\"gridcolor\":\"white\",\"gridwidth\":2,\"linecolor\":\"white\",\"showbackground\":true,\"ticks\":\"\",\"zerolinecolor\":\"white\"}},\"shapedefaults\":{\"line\":{\"color\":\"#2a3f5f\"}},\"ternary\":{\"aaxis\":{\"gridcolor\":\"white\",\"linecolor\":\"white\",\"ticks\":\"\"},\"baxis\":{\"gridcolor\":\"white\",\"linecolor\":\"white\",\"ticks\":\"\"},\"bgcolor\":\"#E5ECF6\",\"caxis\":{\"gridcolor\":\"white\",\"linecolor\":\"white\",\"ticks\":\"\"}},\"title\":{\"x\":0.05},\"xaxis\":{\"automargin\":true,\"gridcolor\":\"white\",\"linecolor\":\"white\",\"ticks\":\"\",\"title\":{\"standoff\":15},\"zerolinecolor\":\"white\",\"zerolinewidth\":2},\"yaxis\":{\"automargin\":true,\"gridcolor\":\"white\",\"linecolor\":\"white\",\"ticks\":\"\",\"title\":{\"standoff\":15},\"zerolinecolor\":\"white\",\"zerolinewidth\":2}}},\"xaxis\":{\"anchor\":\"y\",\"domain\":[0.0,1.0],\"title\":{\"text\":\"Date\"}},\"yaxis\":{\"anchor\":\"x\",\"domain\":[0.0,1.0],\"title\":{\"text\":\"Close\"}},\"legend\":{\"tracegroupgap\":0},\"margin\":{\"t\":60}},                        {\"responsive\": true}                    ).then(function(){\n",
              "                            \n",
              "var gd = document.getElementById('68e25ad0-3824-469e-a772-f27126838394');\n",
              "var x = new MutationObserver(function (mutations, observer) {{\n",
              "        var display = window.getComputedStyle(gd).display;\n",
              "        if (!display || display === 'none') {{\n",
              "            console.log([gd, 'removed!']);\n",
              "            Plotly.purge(gd);\n",
              "            observer.disconnect();\n",
              "        }}\n",
              "}});\n",
              "\n",
              "// Listen for the removal of the full notebook cells\n",
              "var notebookContainer = gd.closest('#notebook-container');\n",
              "if (notebookContainer) {{\n",
              "    x.observe(notebookContainer, {childList: true});\n",
              "}}\n",
              "\n",
              "// Listen for the clearing of the current output cell\n",
              "var outputEl = gd.closest('.output');\n",
              "if (outputEl) {{\n",
              "    x.observe(outputEl, {childList: true});\n",
              "}}\n",
              "\n",
              "                        })                };                            </script>        </div>\n",
              "</body>\n",
              "</html>"
            ]
          },
          "metadata": {}
        }
      ]
    },
    {
      "cell_type": "code",
      "source": [
        "px.area(df, x = 'Date', y = 'Volume')"
      ],
      "metadata": {
        "colab": {
          "base_uri": "https://localhost:8080/",
          "height": 542
        },
        "id": "rHBZefRvBXEQ",
        "outputId": "15cfe91b-c6ab-4711-990a-f284b6fb5ab1"
      },
      "execution_count": null,
      "outputs": [
        {
          "output_type": "display_data",
          "data": {
            "text/html": [
              "<html>\n",
              "<head><meta charset=\"utf-8\" /></head>\n",
              "<body>\n",
              "    <div>            <script src=\"https://cdnjs.cloudflare.com/ajax/libs/mathjax/2.7.5/MathJax.js?config=TeX-AMS-MML_SVG\"></script><script type=\"text/javascript\">if (window.MathJax) {MathJax.Hub.Config({SVG: {font: \"STIX-Web\"}});}</script>                <script type=\"text/javascript\">window.PlotlyConfig = {MathJaxConfig: 'local'};</script>\n",
              "        <script src=\"https://cdn.plot.ly/plotly-2.8.3.min.js\"></script>                <div id=\"9d5347a5-e857-4206-91b2-4c7e6eefc5a2\" class=\"plotly-graph-div\" style=\"height:525px; width:100%;\"></div>            <script type=\"text/javascript\">                                    window.PLOTLYENV=window.PLOTLYENV || {};                                    if (document.getElementById(\"9d5347a5-e857-4206-91b2-4c7e6eefc5a2\")) {                    Plotly.newPlot(                        \"9d5347a5-e857-4206-91b2-4c7e6eefc5a2\",                        [{\"hovertemplate\":\"Date=%{x}<br>Volume=%{y}<extra></extra>\",\"legendgroup\":\"\",\"line\":{\"color\":\"#636efa\"},\"marker\":{\"symbol\":\"circle\"},\"mode\":\"lines\",\"name\":\"\",\"orientation\":\"v\",\"showlegend\":false,\"stackgroup\":\"1\",\"x\":[\"2021-02-16\",\"2021-02-17\",\"2021-02-18\",\"2021-02-19\",\"2021-02-22\",\"2021-02-23\",\"2021-02-24\",\"2021-02-25\",\"2021-02-26\",\"2021-03-01\",\"2021-03-02\",\"2021-03-03\",\"2021-03-04\",\"2021-03-05\",\"2021-03-08\",\"2021-03-09\",\"2021-03-10\",\"2021-03-11\",\"2021-03-12\",\"2021-03-15\",\"2021-03-16\",\"2021-03-17\",\"2021-03-18\",\"2021-03-19\",\"2021-03-22\",\"2021-03-23\",\"2021-03-24\",\"2021-03-25\",\"2021-03-26\",\"2021-03-29\",\"2021-03-30\",\"2021-03-31\",\"2021-04-01\",\"2021-04-05\",\"2021-04-06\",\"2021-04-07\",\"2021-04-08\",\"2021-04-09\",\"2021-04-12\",\"2021-04-13\",\"2021-04-14\",\"2021-04-15\",\"2021-04-16\",\"2021-04-19\",\"2021-04-20\",\"2021-04-21\",\"2021-04-22\",\"2021-04-23\",\"2021-04-26\",\"2021-04-27\",\"2021-04-28\",\"2021-04-29\",\"2021-04-30\",\"2021-05-03\",\"2021-05-04\",\"2021-05-05\",\"2021-05-06\",\"2021-05-07\",\"2021-05-10\",\"2021-05-11\",\"2021-05-12\",\"2021-05-13\",\"2021-05-14\",\"2021-05-17\",\"2021-05-18\",\"2021-05-19\",\"2021-05-20\",\"2021-05-21\",\"2021-05-24\",\"2021-05-25\",\"2021-05-26\",\"2021-05-27\",\"2021-05-28\",\"2021-06-01\",\"2021-06-02\",\"2021-06-03\",\"2021-06-04\",\"2021-06-07\",\"2021-06-08\",\"2021-06-09\",\"2021-06-10\",\"2021-06-11\",\"2021-06-14\",\"2021-06-15\",\"2021-06-16\",\"2021-06-17\",\"2021-06-18\",\"2021-06-21\",\"2021-06-22\",\"2021-06-23\",\"2021-06-24\",\"2021-06-25\",\"2021-06-28\",\"2021-06-29\",\"2021-06-30\",\"2021-07-01\",\"2021-07-02\",\"2021-07-06\",\"2021-07-07\",\"2021-07-08\",\"2021-07-09\",\"2021-07-12\",\"2021-07-13\",\"2021-07-14\",\"2021-07-15\",\"2021-07-16\",\"2021-07-19\",\"2021-07-20\",\"2021-07-21\",\"2021-07-22\",\"2021-07-23\",\"2021-07-26\",\"2021-07-27\",\"2021-07-28\",\"2021-07-29\",\"2021-07-30\",\"2021-08-02\",\"2021-08-03\",\"2021-08-04\",\"2021-08-05\",\"2021-08-06\",\"2021-08-09\",\"2021-08-10\",\"2021-08-11\",\"2021-08-12\",\"2021-08-13\",\"2021-08-16\",\"2021-08-17\",\"2021-08-18\",\"2021-08-19\",\"2021-08-20\",\"2021-08-23\",\"2021-08-24\",\"2021-08-25\",\"2021-08-26\",\"2021-08-27\",\"2021-08-30\",\"2021-08-31\",\"2021-09-01\",\"2021-09-02\",\"2021-09-03\",\"2021-09-07\",\"2021-09-08\",\"2021-09-09\",\"2021-09-10\",\"2021-09-13\",\"2021-09-14\",\"2021-09-15\",\"2021-09-16\",\"2021-09-17\",\"2021-09-20\",\"2021-09-21\",\"2021-09-22\",\"2021-09-23\",\"2021-09-24\",\"2021-09-27\",\"2021-09-28\",\"2021-09-29\",\"2021-09-30\",\"2021-10-01\",\"2021-10-04\",\"2021-10-05\",\"2021-10-06\",\"2021-10-07\",\"2021-10-08\",\"2021-10-11\",\"2021-10-12\",\"2021-10-13\",\"2021-10-14\",\"2021-10-15\",\"2021-10-18\",\"2021-10-19\",\"2021-10-20\",\"2021-10-21\",\"2021-10-22\",\"2021-10-25\",\"2021-10-26\",\"2021-10-27\",\"2021-10-28\",\"2021-10-29\",\"2021-11-01\",\"2021-11-02\",\"2021-11-03\",\"2021-11-04\",\"2021-11-05\",\"2021-11-08\",\"2021-11-09\",\"2021-11-10\",\"2021-11-11\",\"2021-11-12\",\"2021-11-15\",\"2021-11-16\",\"2021-11-17\",\"2021-11-18\",\"2021-11-19\",\"2021-11-22\",\"2021-11-23\",\"2021-11-24\",\"2021-11-26\",\"2021-11-29\",\"2021-11-30\",\"2021-12-01\",\"2021-12-02\",\"2021-12-03\",\"2021-12-06\",\"2021-12-07\",\"2021-12-08\",\"2021-12-09\",\"2021-12-10\",\"2021-12-13\",\"2021-12-14\",\"2021-12-15\",\"2021-12-16\",\"2021-12-17\",\"2021-12-20\",\"2021-12-21\",\"2021-12-22\",\"2021-12-23\",\"2021-12-27\",\"2021-12-28\",\"2021-12-29\",\"2021-12-30\",\"2021-12-31\",\"2022-01-03\",\"2022-01-04\",\"2022-01-05\",\"2022-01-06\",\"2022-01-07\",\"2022-01-10\",\"2022-01-11\",\"2022-01-12\",\"2022-01-13\",\"2022-01-14\",\"2022-01-18\",\"2022-01-19\",\"2022-01-20\",\"2022-01-21\",\"2022-01-24\",\"2022-01-25\",\"2022-01-26\",\"2022-01-27\",\"2022-01-28\",\"2022-01-31\",\"2022-02-01\",\"2022-02-02\",\"2022-02-03\",\"2022-02-04\",\"2022-02-07\",\"2022-02-08\",\"2022-02-09\",\"2022-02-10\",\"2022-02-11\"],\"xaxis\":\"x\",\"y\":[19802300,25996500,17957100,18958300,37269700,66606900,36767000,39023900,41089200,27136200,23732200,30208000,65919500,89396500,51787000,67523300,60605700,36253900,33583800,29335600,32195700,40372500,33224800,42894000,39512200,30491900,33795200,39224900,33852800,28637000,39432400,33337300,35298400,41842800,28271800,26309400,23924300,21437100,29135700,44652800,49017400,27848900,27979500,39686200,35609000,31215500,35590300,28370000,31038500,29437000,22271000,28845400,40758700,27043100,29739300,21901900,27784600,23469200,31392400,46503900,33823600,44184900,33370900,32390400,36830600,39578400,30821100,26030600,34558100,28005900,28639300,26370600,22737000,18084900,23302800,30111900,24036900,22543700,26053400,16584600,23919600,16205300,20424000,17764100,22144100,22701400,24560900,24812700,19158900,31099200,45982400,32496700,21628200,17381300,18924900,18634500,27054500,23284500,18792000,22773300,18140500,25927000,20966100,21641200,20209600,16371000,21297100,15487100,13953300,15105700,14604900,25336600,32813300,16006600,30394600,29600500,33615800,21620300,17002600,12919600,15576200,14715300,13432300,9800600,17459100,16698900,22677400,23721300,20349400,14313500,14781800,20264900,13083100,12645600,13214300,13762100,18604200,20855400,13204300,12777300,15246100,20039800,18793000,14077700,15114300,22952500,18524900,15357700,13923400,28204200,24757700,16330700,15126300,11947500,21373000,28070700,25381400,20942900,17956000,17031400,30483300,18432600,14632800,19195800,16711100,14200300,22020000,14120100,12247200,18818000,24207200,17381100,14032100,31481500,22880800,62852100,62415000,38526500,27213200,29918400,56048700,42737800,34628500,25397400,21579900,33445700,59105800,42802700,22396600,25182300,34775600,26542400,31445400,20898900,21642300,33072500,36171700,22560200,11680900,19464500,27092000,22816800,24371600,30696300,27221000,18694900,13968800,19812800,19855000,26198500,23602100,25056400,27590500,33479100,18826700,23839300,31211400,30904400,23715300,20108000,18718000,15680300,13577900,34643800,33416100,26706600,30112200,27919000,30605000,22021100,27913000,32403300,24246600,22247800,25147500,23496200,34472000,50521900,28865300,34955800,49036500,44929700,34812000,24379400,22264300,26285200,24472600,20331500,16909700,17419800,22042300,26492700],\"yaxis\":\"y\",\"type\":\"scatter\"}],                        {\"template\":{\"data\":{\"bar\":[{\"error_x\":{\"color\":\"#2a3f5f\"},\"error_y\":{\"color\":\"#2a3f5f\"},\"marker\":{\"line\":{\"color\":\"#E5ECF6\",\"width\":0.5},\"pattern\":{\"fillmode\":\"overlay\",\"size\":10,\"solidity\":0.2}},\"type\":\"bar\"}],\"barpolar\":[{\"marker\":{\"line\":{\"color\":\"#E5ECF6\",\"width\":0.5},\"pattern\":{\"fillmode\":\"overlay\",\"size\":10,\"solidity\":0.2}},\"type\":\"barpolar\"}],\"carpet\":[{\"aaxis\":{\"endlinecolor\":\"#2a3f5f\",\"gridcolor\":\"white\",\"linecolor\":\"white\",\"minorgridcolor\":\"white\",\"startlinecolor\":\"#2a3f5f\"},\"baxis\":{\"endlinecolor\":\"#2a3f5f\",\"gridcolor\":\"white\",\"linecolor\":\"white\",\"minorgridcolor\":\"white\",\"startlinecolor\":\"#2a3f5f\"},\"type\":\"carpet\"}],\"choropleth\":[{\"colorbar\":{\"outlinewidth\":0,\"ticks\":\"\"},\"type\":\"choropleth\"}],\"contour\":[{\"colorbar\":{\"outlinewidth\":0,\"ticks\":\"\"},\"colorscale\":[[0.0,\"#0d0887\"],[0.1111111111111111,\"#46039f\"],[0.2222222222222222,\"#7201a8\"],[0.3333333333333333,\"#9c179e\"],[0.4444444444444444,\"#bd3786\"],[0.5555555555555556,\"#d8576b\"],[0.6666666666666666,\"#ed7953\"],[0.7777777777777778,\"#fb9f3a\"],[0.8888888888888888,\"#fdca26\"],[1.0,\"#f0f921\"]],\"type\":\"contour\"}],\"contourcarpet\":[{\"colorbar\":{\"outlinewidth\":0,\"ticks\":\"\"},\"type\":\"contourcarpet\"}],\"heatmap\":[{\"colorbar\":{\"outlinewidth\":0,\"ticks\":\"\"},\"colorscale\":[[0.0,\"#0d0887\"],[0.1111111111111111,\"#46039f\"],[0.2222222222222222,\"#7201a8\"],[0.3333333333333333,\"#9c179e\"],[0.4444444444444444,\"#bd3786\"],[0.5555555555555556,\"#d8576b\"],[0.6666666666666666,\"#ed7953\"],[0.7777777777777778,\"#fb9f3a\"],[0.8888888888888888,\"#fdca26\"],[1.0,\"#f0f921\"]],\"type\":\"heatmap\"}],\"heatmapgl\":[{\"colorbar\":{\"outlinewidth\":0,\"ticks\":\"\"},\"colorscale\":[[0.0,\"#0d0887\"],[0.1111111111111111,\"#46039f\"],[0.2222222222222222,\"#7201a8\"],[0.3333333333333333,\"#9c179e\"],[0.4444444444444444,\"#bd3786\"],[0.5555555555555556,\"#d8576b\"],[0.6666666666666666,\"#ed7953\"],[0.7777777777777778,\"#fb9f3a\"],[0.8888888888888888,\"#fdca26\"],[1.0,\"#f0f921\"]],\"type\":\"heatmapgl\"}],\"histogram\":[{\"marker\":{\"pattern\":{\"fillmode\":\"overlay\",\"size\":10,\"solidity\":0.2}},\"type\":\"histogram\"}],\"histogram2d\":[{\"colorbar\":{\"outlinewidth\":0,\"ticks\":\"\"},\"colorscale\":[[0.0,\"#0d0887\"],[0.1111111111111111,\"#46039f\"],[0.2222222222222222,\"#7201a8\"],[0.3333333333333333,\"#9c179e\"],[0.4444444444444444,\"#bd3786\"],[0.5555555555555556,\"#d8576b\"],[0.6666666666666666,\"#ed7953\"],[0.7777777777777778,\"#fb9f3a\"],[0.8888888888888888,\"#fdca26\"],[1.0,\"#f0f921\"]],\"type\":\"histogram2d\"}],\"histogram2dcontour\":[{\"colorbar\":{\"outlinewidth\":0,\"ticks\":\"\"},\"colorscale\":[[0.0,\"#0d0887\"],[0.1111111111111111,\"#46039f\"],[0.2222222222222222,\"#7201a8\"],[0.3333333333333333,\"#9c179e\"],[0.4444444444444444,\"#bd3786\"],[0.5555555555555556,\"#d8576b\"],[0.6666666666666666,\"#ed7953\"],[0.7777777777777778,\"#fb9f3a\"],[0.8888888888888888,\"#fdca26\"],[1.0,\"#f0f921\"]],\"type\":\"histogram2dcontour\"}],\"mesh3d\":[{\"colorbar\":{\"outlinewidth\":0,\"ticks\":\"\"},\"type\":\"mesh3d\"}],\"parcoords\":[{\"line\":{\"colorbar\":{\"outlinewidth\":0,\"ticks\":\"\"}},\"type\":\"parcoords\"}],\"pie\":[{\"automargin\":true,\"type\":\"pie\"}],\"scatter\":[{\"marker\":{\"colorbar\":{\"outlinewidth\":0,\"ticks\":\"\"}},\"type\":\"scatter\"}],\"scatter3d\":[{\"line\":{\"colorbar\":{\"outlinewidth\":0,\"ticks\":\"\"}},\"marker\":{\"colorbar\":{\"outlinewidth\":0,\"ticks\":\"\"}},\"type\":\"scatter3d\"}],\"scattercarpet\":[{\"marker\":{\"colorbar\":{\"outlinewidth\":0,\"ticks\":\"\"}},\"type\":\"scattercarpet\"}],\"scattergeo\":[{\"marker\":{\"colorbar\":{\"outlinewidth\":0,\"ticks\":\"\"}},\"type\":\"scattergeo\"}],\"scattergl\":[{\"marker\":{\"colorbar\":{\"outlinewidth\":0,\"ticks\":\"\"}},\"type\":\"scattergl\"}],\"scattermapbox\":[{\"marker\":{\"colorbar\":{\"outlinewidth\":0,\"ticks\":\"\"}},\"type\":\"scattermapbox\"}],\"scatterpolar\":[{\"marker\":{\"colorbar\":{\"outlinewidth\":0,\"ticks\":\"\"}},\"type\":\"scatterpolar\"}],\"scatterpolargl\":[{\"marker\":{\"colorbar\":{\"outlinewidth\":0,\"ticks\":\"\"}},\"type\":\"scatterpolargl\"}],\"scatterternary\":[{\"marker\":{\"colorbar\":{\"outlinewidth\":0,\"ticks\":\"\"}},\"type\":\"scatterternary\"}],\"surface\":[{\"colorbar\":{\"outlinewidth\":0,\"ticks\":\"\"},\"colorscale\":[[0.0,\"#0d0887\"],[0.1111111111111111,\"#46039f\"],[0.2222222222222222,\"#7201a8\"],[0.3333333333333333,\"#9c179e\"],[0.4444444444444444,\"#bd3786\"],[0.5555555555555556,\"#d8576b\"],[0.6666666666666666,\"#ed7953\"],[0.7777777777777778,\"#fb9f3a\"],[0.8888888888888888,\"#fdca26\"],[1.0,\"#f0f921\"]],\"type\":\"surface\"}],\"table\":[{\"cells\":{\"fill\":{\"color\":\"#EBF0F8\"},\"line\":{\"color\":\"white\"}},\"header\":{\"fill\":{\"color\":\"#C8D4E3\"},\"line\":{\"color\":\"white\"}},\"type\":\"table\"}]},\"layout\":{\"annotationdefaults\":{\"arrowcolor\":\"#2a3f5f\",\"arrowhead\":0,\"arrowwidth\":1},\"autotypenumbers\":\"strict\",\"coloraxis\":{\"colorbar\":{\"outlinewidth\":0,\"ticks\":\"\"}},\"colorscale\":{\"diverging\":[[0,\"#8e0152\"],[0.1,\"#c51b7d\"],[0.2,\"#de77ae\"],[0.3,\"#f1b6da\"],[0.4,\"#fde0ef\"],[0.5,\"#f7f7f7\"],[0.6,\"#e6f5d0\"],[0.7,\"#b8e186\"],[0.8,\"#7fbc41\"],[0.9,\"#4d9221\"],[1,\"#276419\"]],\"sequential\":[[0.0,\"#0d0887\"],[0.1111111111111111,\"#46039f\"],[0.2222222222222222,\"#7201a8\"],[0.3333333333333333,\"#9c179e\"],[0.4444444444444444,\"#bd3786\"],[0.5555555555555556,\"#d8576b\"],[0.6666666666666666,\"#ed7953\"],[0.7777777777777778,\"#fb9f3a\"],[0.8888888888888888,\"#fdca26\"],[1.0,\"#f0f921\"]],\"sequentialminus\":[[0.0,\"#0d0887\"],[0.1111111111111111,\"#46039f\"],[0.2222222222222222,\"#7201a8\"],[0.3333333333333333,\"#9c179e\"],[0.4444444444444444,\"#bd3786\"],[0.5555555555555556,\"#d8576b\"],[0.6666666666666666,\"#ed7953\"],[0.7777777777777778,\"#fb9f3a\"],[0.8888888888888888,\"#fdca26\"],[1.0,\"#f0f921\"]]},\"colorway\":[\"#636efa\",\"#EF553B\",\"#00cc96\",\"#ab63fa\",\"#FFA15A\",\"#19d3f3\",\"#FF6692\",\"#B6E880\",\"#FF97FF\",\"#FECB52\"],\"font\":{\"color\":\"#2a3f5f\"},\"geo\":{\"bgcolor\":\"white\",\"lakecolor\":\"white\",\"landcolor\":\"#E5ECF6\",\"showlakes\":true,\"showland\":true,\"subunitcolor\":\"white\"},\"hoverlabel\":{\"align\":\"left\"},\"hovermode\":\"closest\",\"mapbox\":{\"style\":\"light\"},\"paper_bgcolor\":\"white\",\"plot_bgcolor\":\"#E5ECF6\",\"polar\":{\"angularaxis\":{\"gridcolor\":\"white\",\"linecolor\":\"white\",\"ticks\":\"\"},\"bgcolor\":\"#E5ECF6\",\"radialaxis\":{\"gridcolor\":\"white\",\"linecolor\":\"white\",\"ticks\":\"\"}},\"scene\":{\"xaxis\":{\"backgroundcolor\":\"#E5ECF6\",\"gridcolor\":\"white\",\"gridwidth\":2,\"linecolor\":\"white\",\"showbackground\":true,\"ticks\":\"\",\"zerolinecolor\":\"white\"},\"yaxis\":{\"backgroundcolor\":\"#E5ECF6\",\"gridcolor\":\"white\",\"gridwidth\":2,\"linecolor\":\"white\",\"showbackground\":true,\"ticks\":\"\",\"zerolinecolor\":\"white\"},\"zaxis\":{\"backgroundcolor\":\"#E5ECF6\",\"gridcolor\":\"white\",\"gridwidth\":2,\"linecolor\":\"white\",\"showbackground\":true,\"ticks\":\"\",\"zerolinecolor\":\"white\"}},\"shapedefaults\":{\"line\":{\"color\":\"#2a3f5f\"}},\"ternary\":{\"aaxis\":{\"gridcolor\":\"white\",\"linecolor\":\"white\",\"ticks\":\"\"},\"baxis\":{\"gridcolor\":\"white\",\"linecolor\":\"white\",\"ticks\":\"\"},\"bgcolor\":\"#E5ECF6\",\"caxis\":{\"gridcolor\":\"white\",\"linecolor\":\"white\",\"ticks\":\"\"}},\"title\":{\"x\":0.05},\"xaxis\":{\"automargin\":true,\"gridcolor\":\"white\",\"linecolor\":\"white\",\"ticks\":\"\",\"title\":{\"standoff\":15},\"zerolinecolor\":\"white\",\"zerolinewidth\":2},\"yaxis\":{\"automargin\":true,\"gridcolor\":\"white\",\"linecolor\":\"white\",\"ticks\":\"\",\"title\":{\"standoff\":15},\"zerolinecolor\":\"white\",\"zerolinewidth\":2}}},\"xaxis\":{\"anchor\":\"y\",\"domain\":[0.0,1.0],\"title\":{\"text\":\"Date\"}},\"yaxis\":{\"anchor\":\"x\",\"domain\":[0.0,1.0],\"title\":{\"text\":\"Volume\"}},\"legend\":{\"tracegroupgap\":0},\"margin\":{\"t\":60}},                        {\"responsive\": true}                    ).then(function(){\n",
              "                            \n",
              "var gd = document.getElementById('9d5347a5-e857-4206-91b2-4c7e6eefc5a2');\n",
              "var x = new MutationObserver(function (mutations, observer) {{\n",
              "        var display = window.getComputedStyle(gd).display;\n",
              "        if (!display || display === 'none') {{\n",
              "            console.log([gd, 'removed!']);\n",
              "            Plotly.purge(gd);\n",
              "            observer.disconnect();\n",
              "        }}\n",
              "}});\n",
              "\n",
              "// Listen for the removal of the full notebook cells\n",
              "var notebookContainer = gd.closest('#notebook-container');\n",
              "if (notebookContainer) {{\n",
              "    x.observe(notebookContainer, {childList: true});\n",
              "}}\n",
              "\n",
              "// Listen for the clearing of the current output cell\n",
              "var outputEl = gd.closest('.output');\n",
              "if (outputEl) {{\n",
              "    x.observe(outputEl, {childList: true});\n",
              "}}\n",
              "\n",
              "                        })                };                            </script>        </div>\n",
              "</body>\n",
              "</html>"
            ]
          },
          "metadata": {}
        }
      ]
    },
    {
      "cell_type": "code",
      "metadata": {
        "id": "CE08zJhPQoSb",
        "colab": {
          "base_uri": "https://localhost:8080/",
          "height": 542
        },
        "outputId": "0c87fb40-40a8-4076-9482-3dc6c32223d3"
      },
      "source": [
        "px.bar(df, y='Volume')"
      ],
      "execution_count": null,
      "outputs": [
        {
          "output_type": "display_data",
          "data": {
            "text/html": [
              "<html>\n",
              "<head><meta charset=\"utf-8\" /></head>\n",
              "<body>\n",
              "    <div>            <script src=\"https://cdnjs.cloudflare.com/ajax/libs/mathjax/2.7.5/MathJax.js?config=TeX-AMS-MML_SVG\"></script><script type=\"text/javascript\">if (window.MathJax) {MathJax.Hub.Config({SVG: {font: \"STIX-Web\"}});}</script>                <script type=\"text/javascript\">window.PlotlyConfig = {MathJaxConfig: 'local'};</script>\n",
              "        <script src=\"https://cdn.plot.ly/plotly-2.8.3.min.js\"></script>                <div id=\"6ca2b51e-cfe9-4e6c-9308-12c0731f3c8f\" class=\"plotly-graph-div\" style=\"height:525px; width:100%;\"></div>            <script type=\"text/javascript\">                                    window.PLOTLYENV=window.PLOTLYENV || {};                                    if (document.getElementById(\"6ca2b51e-cfe9-4e6c-9308-12c0731f3c8f\")) {                    Plotly.newPlot(                        \"6ca2b51e-cfe9-4e6c-9308-12c0731f3c8f\",                        [{\"alignmentgroup\":\"True\",\"hovertemplate\":\"index=%{x}<br>Volume=%{y}<extra></extra>\",\"legendgroup\":\"\",\"marker\":{\"color\":\"#636efa\",\"pattern\":{\"shape\":\"\"}},\"name\":\"\",\"offsetgroup\":\"\",\"orientation\":\"v\",\"showlegend\":false,\"textposition\":\"auto\",\"x\":[0,1,2,3,4,5,6,7,8,9,10,11,12,13,14,15,16,17,18,19,20,21,22,23,24,25,26,27,28,29,30,31,32,33,34,35,36,37,38,39,40,41,42,43,44,45,46,47,48,49,50,51,52,53,54,55,56,57,58,59,60,61,62,63,64,65,66,67,68,69,70,71,72,73,74,75,76,77,78,79,80,81,82,83,84,85,86,87,88,89,90,91,92,93,94,95,96,97,98,99,100,101,102,103,104,105,106,107,108,109,110,111,112,113,114,115,116,117,118,119,120,121,122,123,124,125,126,127,128,129,130,131,132,133,134,135,136,137,138,139,140,141,142,143,144,145,146,147,148,149,150,151,152,153,154,155,156,157,158,159,160,161,162,163,164,165,166,167,168,169,170,171,172,173,174,175,176,177,178,179,180,181,182,183,184,185,186,187,188,189,190,191,192,193,194,195,196,197,198,199,200,201,202,203,204,205,206,207,208,209,210,211,212,213,214,215,216,217,218,219,220,221,222,223,224,225,226,227,228,229,230,231,232,233,234,235,236,237,238,239,240,241,242,243,244,245,246,247,248,249,250,251],\"xaxis\":\"x\",\"y\":[19802300,25996500,17957100,18958300,37269700,66606900,36767000,39023900,41089200,27136200,23732200,30208000,65919500,89396500,51787000,67523300,60605700,36253900,33583800,29335600,32195700,40372500,33224800,42894000,39512200,30491900,33795200,39224900,33852800,28637000,39432400,33337300,35298400,41842800,28271800,26309400,23924300,21437100,29135700,44652800,49017400,27848900,27979500,39686200,35609000,31215500,35590300,28370000,31038500,29437000,22271000,28845400,40758700,27043100,29739300,21901900,27784600,23469200,31392400,46503900,33823600,44184900,33370900,32390400,36830600,39578400,30821100,26030600,34558100,28005900,28639300,26370600,22737000,18084900,23302800,30111900,24036900,22543700,26053400,16584600,23919600,16205300,20424000,17764100,22144100,22701400,24560900,24812700,19158900,31099200,45982400,32496700,21628200,17381300,18924900,18634500,27054500,23284500,18792000,22773300,18140500,25927000,20966100,21641200,20209600,16371000,21297100,15487100,13953300,15105700,14604900,25336600,32813300,16006600,30394600,29600500,33615800,21620300,17002600,12919600,15576200,14715300,13432300,9800600,17459100,16698900,22677400,23721300,20349400,14313500,14781800,20264900,13083100,12645600,13214300,13762100,18604200,20855400,13204300,12777300,15246100,20039800,18793000,14077700,15114300,22952500,18524900,15357700,13923400,28204200,24757700,16330700,15126300,11947500,21373000,28070700,25381400,20942900,17956000,17031400,30483300,18432600,14632800,19195800,16711100,14200300,22020000,14120100,12247200,18818000,24207200,17381100,14032100,31481500,22880800,62852100,62415000,38526500,27213200,29918400,56048700,42737800,34628500,25397400,21579900,33445700,59105800,42802700,22396600,25182300,34775600,26542400,31445400,20898900,21642300,33072500,36171700,22560200,11680900,19464500,27092000,22816800,24371600,30696300,27221000,18694900,13968800,19812800,19855000,26198500,23602100,25056400,27590500,33479100,18826700,23839300,31211400,30904400,23715300,20108000,18718000,15680300,13577900,34643800,33416100,26706600,30112200,27919000,30605000,22021100,27913000,32403300,24246600,22247800,25147500,23496200,34472000,50521900,28865300,34955800,49036500,44929700,34812000,24379400,22264300,26285200,24472600,20331500,16909700,17419800,22042300,26492700],\"yaxis\":\"y\",\"type\":\"bar\"}],                        {\"template\":{\"data\":{\"bar\":[{\"error_x\":{\"color\":\"#2a3f5f\"},\"error_y\":{\"color\":\"#2a3f5f\"},\"marker\":{\"line\":{\"color\":\"#E5ECF6\",\"width\":0.5},\"pattern\":{\"fillmode\":\"overlay\",\"size\":10,\"solidity\":0.2}},\"type\":\"bar\"}],\"barpolar\":[{\"marker\":{\"line\":{\"color\":\"#E5ECF6\",\"width\":0.5},\"pattern\":{\"fillmode\":\"overlay\",\"size\":10,\"solidity\":0.2}},\"type\":\"barpolar\"}],\"carpet\":[{\"aaxis\":{\"endlinecolor\":\"#2a3f5f\",\"gridcolor\":\"white\",\"linecolor\":\"white\",\"minorgridcolor\":\"white\",\"startlinecolor\":\"#2a3f5f\"},\"baxis\":{\"endlinecolor\":\"#2a3f5f\",\"gridcolor\":\"white\",\"linecolor\":\"white\",\"minorgridcolor\":\"white\",\"startlinecolor\":\"#2a3f5f\"},\"type\":\"carpet\"}],\"choropleth\":[{\"colorbar\":{\"outlinewidth\":0,\"ticks\":\"\"},\"type\":\"choropleth\"}],\"contour\":[{\"colorbar\":{\"outlinewidth\":0,\"ticks\":\"\"},\"colorscale\":[[0.0,\"#0d0887\"],[0.1111111111111111,\"#46039f\"],[0.2222222222222222,\"#7201a8\"],[0.3333333333333333,\"#9c179e\"],[0.4444444444444444,\"#bd3786\"],[0.5555555555555556,\"#d8576b\"],[0.6666666666666666,\"#ed7953\"],[0.7777777777777778,\"#fb9f3a\"],[0.8888888888888888,\"#fdca26\"],[1.0,\"#f0f921\"]],\"type\":\"contour\"}],\"contourcarpet\":[{\"colorbar\":{\"outlinewidth\":0,\"ticks\":\"\"},\"type\":\"contourcarpet\"}],\"heatmap\":[{\"colorbar\":{\"outlinewidth\":0,\"ticks\":\"\"},\"colorscale\":[[0.0,\"#0d0887\"],[0.1111111111111111,\"#46039f\"],[0.2222222222222222,\"#7201a8\"],[0.3333333333333333,\"#9c179e\"],[0.4444444444444444,\"#bd3786\"],[0.5555555555555556,\"#d8576b\"],[0.6666666666666666,\"#ed7953\"],[0.7777777777777778,\"#fb9f3a\"],[0.8888888888888888,\"#fdca26\"],[1.0,\"#f0f921\"]],\"type\":\"heatmap\"}],\"heatmapgl\":[{\"colorbar\":{\"outlinewidth\":0,\"ticks\":\"\"},\"colorscale\":[[0.0,\"#0d0887\"],[0.1111111111111111,\"#46039f\"],[0.2222222222222222,\"#7201a8\"],[0.3333333333333333,\"#9c179e\"],[0.4444444444444444,\"#bd3786\"],[0.5555555555555556,\"#d8576b\"],[0.6666666666666666,\"#ed7953\"],[0.7777777777777778,\"#fb9f3a\"],[0.8888888888888888,\"#fdca26\"],[1.0,\"#f0f921\"]],\"type\":\"heatmapgl\"}],\"histogram\":[{\"marker\":{\"pattern\":{\"fillmode\":\"overlay\",\"size\":10,\"solidity\":0.2}},\"type\":\"histogram\"}],\"histogram2d\":[{\"colorbar\":{\"outlinewidth\":0,\"ticks\":\"\"},\"colorscale\":[[0.0,\"#0d0887\"],[0.1111111111111111,\"#46039f\"],[0.2222222222222222,\"#7201a8\"],[0.3333333333333333,\"#9c179e\"],[0.4444444444444444,\"#bd3786\"],[0.5555555555555556,\"#d8576b\"],[0.6666666666666666,\"#ed7953\"],[0.7777777777777778,\"#fb9f3a\"],[0.8888888888888888,\"#fdca26\"],[1.0,\"#f0f921\"]],\"type\":\"histogram2d\"}],\"histogram2dcontour\":[{\"colorbar\":{\"outlinewidth\":0,\"ticks\":\"\"},\"colorscale\":[[0.0,\"#0d0887\"],[0.1111111111111111,\"#46039f\"],[0.2222222222222222,\"#7201a8\"],[0.3333333333333333,\"#9c179e\"],[0.4444444444444444,\"#bd3786\"],[0.5555555555555556,\"#d8576b\"],[0.6666666666666666,\"#ed7953\"],[0.7777777777777778,\"#fb9f3a\"],[0.8888888888888888,\"#fdca26\"],[1.0,\"#f0f921\"]],\"type\":\"histogram2dcontour\"}],\"mesh3d\":[{\"colorbar\":{\"outlinewidth\":0,\"ticks\":\"\"},\"type\":\"mesh3d\"}],\"parcoords\":[{\"line\":{\"colorbar\":{\"outlinewidth\":0,\"ticks\":\"\"}},\"type\":\"parcoords\"}],\"pie\":[{\"automargin\":true,\"type\":\"pie\"}],\"scatter\":[{\"marker\":{\"colorbar\":{\"outlinewidth\":0,\"ticks\":\"\"}},\"type\":\"scatter\"}],\"scatter3d\":[{\"line\":{\"colorbar\":{\"outlinewidth\":0,\"ticks\":\"\"}},\"marker\":{\"colorbar\":{\"outlinewidth\":0,\"ticks\":\"\"}},\"type\":\"scatter3d\"}],\"scattercarpet\":[{\"marker\":{\"colorbar\":{\"outlinewidth\":0,\"ticks\":\"\"}},\"type\":\"scattercarpet\"}],\"scattergeo\":[{\"marker\":{\"colorbar\":{\"outlinewidth\":0,\"ticks\":\"\"}},\"type\":\"scattergeo\"}],\"scattergl\":[{\"marker\":{\"colorbar\":{\"outlinewidth\":0,\"ticks\":\"\"}},\"type\":\"scattergl\"}],\"scattermapbox\":[{\"marker\":{\"colorbar\":{\"outlinewidth\":0,\"ticks\":\"\"}},\"type\":\"scattermapbox\"}],\"scatterpolar\":[{\"marker\":{\"colorbar\":{\"outlinewidth\":0,\"ticks\":\"\"}},\"type\":\"scatterpolar\"}],\"scatterpolargl\":[{\"marker\":{\"colorbar\":{\"outlinewidth\":0,\"ticks\":\"\"}},\"type\":\"scatterpolargl\"}],\"scatterternary\":[{\"marker\":{\"colorbar\":{\"outlinewidth\":0,\"ticks\":\"\"}},\"type\":\"scatterternary\"}],\"surface\":[{\"colorbar\":{\"outlinewidth\":0,\"ticks\":\"\"},\"colorscale\":[[0.0,\"#0d0887\"],[0.1111111111111111,\"#46039f\"],[0.2222222222222222,\"#7201a8\"],[0.3333333333333333,\"#9c179e\"],[0.4444444444444444,\"#bd3786\"],[0.5555555555555556,\"#d8576b\"],[0.6666666666666666,\"#ed7953\"],[0.7777777777777778,\"#fb9f3a\"],[0.8888888888888888,\"#fdca26\"],[1.0,\"#f0f921\"]],\"type\":\"surface\"}],\"table\":[{\"cells\":{\"fill\":{\"color\":\"#EBF0F8\"},\"line\":{\"color\":\"white\"}},\"header\":{\"fill\":{\"color\":\"#C8D4E3\"},\"line\":{\"color\":\"white\"}},\"type\":\"table\"}]},\"layout\":{\"annotationdefaults\":{\"arrowcolor\":\"#2a3f5f\",\"arrowhead\":0,\"arrowwidth\":1},\"autotypenumbers\":\"strict\",\"coloraxis\":{\"colorbar\":{\"outlinewidth\":0,\"ticks\":\"\"}},\"colorscale\":{\"diverging\":[[0,\"#8e0152\"],[0.1,\"#c51b7d\"],[0.2,\"#de77ae\"],[0.3,\"#f1b6da\"],[0.4,\"#fde0ef\"],[0.5,\"#f7f7f7\"],[0.6,\"#e6f5d0\"],[0.7,\"#b8e186\"],[0.8,\"#7fbc41\"],[0.9,\"#4d9221\"],[1,\"#276419\"]],\"sequential\":[[0.0,\"#0d0887\"],[0.1111111111111111,\"#46039f\"],[0.2222222222222222,\"#7201a8\"],[0.3333333333333333,\"#9c179e\"],[0.4444444444444444,\"#bd3786\"],[0.5555555555555556,\"#d8576b\"],[0.6666666666666666,\"#ed7953\"],[0.7777777777777778,\"#fb9f3a\"],[0.8888888888888888,\"#fdca26\"],[1.0,\"#f0f921\"]],\"sequentialminus\":[[0.0,\"#0d0887\"],[0.1111111111111111,\"#46039f\"],[0.2222222222222222,\"#7201a8\"],[0.3333333333333333,\"#9c179e\"],[0.4444444444444444,\"#bd3786\"],[0.5555555555555556,\"#d8576b\"],[0.6666666666666666,\"#ed7953\"],[0.7777777777777778,\"#fb9f3a\"],[0.8888888888888888,\"#fdca26\"],[1.0,\"#f0f921\"]]},\"colorway\":[\"#636efa\",\"#EF553B\",\"#00cc96\",\"#ab63fa\",\"#FFA15A\",\"#19d3f3\",\"#FF6692\",\"#B6E880\",\"#FF97FF\",\"#FECB52\"],\"font\":{\"color\":\"#2a3f5f\"},\"geo\":{\"bgcolor\":\"white\",\"lakecolor\":\"white\",\"landcolor\":\"#E5ECF6\",\"showlakes\":true,\"showland\":true,\"subunitcolor\":\"white\"},\"hoverlabel\":{\"align\":\"left\"},\"hovermode\":\"closest\",\"mapbox\":{\"style\":\"light\"},\"paper_bgcolor\":\"white\",\"plot_bgcolor\":\"#E5ECF6\",\"polar\":{\"angularaxis\":{\"gridcolor\":\"white\",\"linecolor\":\"white\",\"ticks\":\"\"},\"bgcolor\":\"#E5ECF6\",\"radialaxis\":{\"gridcolor\":\"white\",\"linecolor\":\"white\",\"ticks\":\"\"}},\"scene\":{\"xaxis\":{\"backgroundcolor\":\"#E5ECF6\",\"gridcolor\":\"white\",\"gridwidth\":2,\"linecolor\":\"white\",\"showbackground\":true,\"ticks\":\"\",\"zerolinecolor\":\"white\"},\"yaxis\":{\"backgroundcolor\":\"#E5ECF6\",\"gridcolor\":\"white\",\"gridwidth\":2,\"linecolor\":\"white\",\"showbackground\":true,\"ticks\":\"\",\"zerolinecolor\":\"white\"},\"zaxis\":{\"backgroundcolor\":\"#E5ECF6\",\"gridcolor\":\"white\",\"gridwidth\":2,\"linecolor\":\"white\",\"showbackground\":true,\"ticks\":\"\",\"zerolinecolor\":\"white\"}},\"shapedefaults\":{\"line\":{\"color\":\"#2a3f5f\"}},\"ternary\":{\"aaxis\":{\"gridcolor\":\"white\",\"linecolor\":\"white\",\"ticks\":\"\"},\"baxis\":{\"gridcolor\":\"white\",\"linecolor\":\"white\",\"ticks\":\"\"},\"bgcolor\":\"#E5ECF6\",\"caxis\":{\"gridcolor\":\"white\",\"linecolor\":\"white\",\"ticks\":\"\"}},\"title\":{\"x\":0.05},\"xaxis\":{\"automargin\":true,\"gridcolor\":\"white\",\"linecolor\":\"white\",\"ticks\":\"\",\"title\":{\"standoff\":15},\"zerolinecolor\":\"white\",\"zerolinewidth\":2},\"yaxis\":{\"automargin\":true,\"gridcolor\":\"white\",\"linecolor\":\"white\",\"ticks\":\"\",\"title\":{\"standoff\":15},\"zerolinecolor\":\"white\",\"zerolinewidth\":2}}},\"xaxis\":{\"anchor\":\"y\",\"domain\":[0.0,1.0],\"title\":{\"text\":\"index\"}},\"yaxis\":{\"anchor\":\"x\",\"domain\":[0.0,1.0],\"title\":{\"text\":\"Volume\"}},\"legend\":{\"tracegroupgap\":0},\"margin\":{\"t\":60},\"barmode\":\"relative\"},                        {\"responsive\": true}                    ).then(function(){\n",
              "                            \n",
              "var gd = document.getElementById('6ca2b51e-cfe9-4e6c-9308-12c0731f3c8f');\n",
              "var x = new MutationObserver(function (mutations, observer) {{\n",
              "        var display = window.getComputedStyle(gd).display;\n",
              "        if (!display || display === 'none') {{\n",
              "            console.log([gd, 'removed!']);\n",
              "            Plotly.purge(gd);\n",
              "            observer.disconnect();\n",
              "        }}\n",
              "}});\n",
              "\n",
              "// Listen for the removal of the full notebook cells\n",
              "var notebookContainer = gd.closest('#notebook-container');\n",
              "if (notebookContainer) {{\n",
              "    x.observe(notebookContainer, {childList: true});\n",
              "}}\n",
              "\n",
              "// Listen for the clearing of the current output cell\n",
              "var outputEl = gd.closest('.output');\n",
              "if (outputEl) {{\n",
              "    x.observe(outputEl, {childList: true});\n",
              "}}\n",
              "\n",
              "                        })                };                            </script>        </div>\n",
              "</body>\n",
              "</html>"
            ]
          },
          "metadata": {}
        }
      ]
    },
    {
      "cell_type": "code",
      "metadata": {
        "id": "Wr0QEYDM9AyV",
        "colab": {
          "base_uri": "https://localhost:8080/",
          "height": 542
        },
        "outputId": "61c356bf-9e44-452f-ff53-bdbae483882b"
      },
      "source": [
        "px.box(df, y='Close')"
      ],
      "execution_count": null,
      "outputs": [
        {
          "output_type": "display_data",
          "data": {
            "text/html": [
              "<html>\n",
              "<head><meta charset=\"utf-8\" /></head>\n",
              "<body>\n",
              "    <div>            <script src=\"https://cdnjs.cloudflare.com/ajax/libs/mathjax/2.7.5/MathJax.js?config=TeX-AMS-MML_SVG\"></script><script type=\"text/javascript\">if (window.MathJax) {MathJax.Hub.Config({SVG: {font: \"STIX-Web\"}});}</script>                <script type=\"text/javascript\">window.PlotlyConfig = {MathJaxConfig: 'local'};</script>\n",
              "        <script src=\"https://cdn.plot.ly/plotly-2.8.3.min.js\"></script>                <div id=\"25e5a8be-516d-4fb0-b55e-1336458c2419\" class=\"plotly-graph-div\" style=\"height:525px; width:100%;\"></div>            <script type=\"text/javascript\">                                    window.PLOTLYENV=window.PLOTLYENV || {};                                    if (document.getElementById(\"25e5a8be-516d-4fb0-b55e-1336458c2419\")) {                    Plotly.newPlot(                        \"25e5a8be-516d-4fb0-b55e-1336458c2419\",                        [{\"alignmentgroup\":\"True\",\"hovertemplate\":\"Close=%{y}<extra></extra>\",\"legendgroup\":\"\",\"marker\":{\"color\":\"#636efa\"},\"name\":\"\",\"notched\":false,\"offsetgroup\":\"\",\"orientation\":\"v\",\"showlegend\":false,\"x0\":\" \",\"xaxis\":\"x\",\"y\":[796.219971,798.150024,787.380005,781.299988,714.5,698.840027,742.02002,682.219971,675.5,718.429993,686.440002,653.200012,621.440002,597.950012,563.0,673.580017,668.059998,699.599976,693.72998,707.940002,676.880005,701.809998,653.159973,654.869995,670.0,662.159973,630.27002,640.390015,618.710022,611.289978,635.619995,667.929993,661.75,691.049988,691.619995,670.969971,683.799988,677.02002,701.97998,762.320007,732.22998,738.849976,739.780029,714.630005,718.98999,744.119995,719.690002,729.400024,738.200012,704.73999,694.400024,677.0,709.440002,684.900024,673.599976,670.940002,663.539978,672.369995,629.039978,617.200012,589.890015,571.690002,589.73999,576.830017,577.869995,563.460022,586.780029,580.880005,606.440002,604.690002,619.130005,630.849976,625.219971,623.900024,605.119995,572.840027,599.049988,605.130005,603.590027,598.780029,610.119995,609.890015,617.690002,599.359985,604.869995,616.599976,623.309998,620.830017,623.710022,656.570007,679.820007,671.869995,688.719971,680.76001,679.700012,677.919983,678.900024,659.580017,644.650024,652.809998,656.950012,685.700012,668.539978,653.380005,650.599976,644.219971,646.219971,660.5,655.289978,649.26001,643.380005,657.619995,644.780029,646.97998,677.349976,687.200012,709.669983,709.73999,710.919983,714.630005,699.099976,713.76001,709.98999,707.820007,722.25,717.169983,686.169983,665.710022,688.98999,673.469971,680.26001,706.299988,708.48999,711.200012,701.159973,711.919983,730.909973,735.719971,734.090027,732.390015,733.570007,752.919983,753.869995,754.859985,736.27002,743.0,744.48999,755.830017,756.98999,759.48999,730.169983,739.380005,751.940002,753.640015,774.390015,791.359985,777.559998,781.309998,775.47998,775.219971,781.530029,780.590027,782.75,793.609985,785.48999,791.940002,805.719971,811.080017,818.320007,843.030029,870.109985,864.27002,865.799988,894.0,909.679993,1024.859985,1018.429993,1037.859985,1077.040039,1114.0,1208.589966,1172.0,1213.859985,1229.910034,1222.089966,1162.939941,1023.5,1067.949951,1063.51001,1033.420044,1013.390015,1054.72998,1089.01001,1096.380005,1137.060059,1156.869995,1109.030029,1116.0,1081.920044,1136.98999,1144.76001,1095.0,1084.599976,1014.969971,1009.01001,1051.75,1068.959961,1003.799988,1017.030029,966.409973,958.51001,975.98999,926.919983,932.570007,899.940002,938.530029,1008.869995,1067.0,1093.939941,1088.469971,1086.189941,1070.339966,1056.780029,1199.780029,1149.589966,1088.119995,1064.699951,1026.959961,1058.119995,1064.400024,1106.219971,1031.560059,1049.609985,1030.51001,995.650024,996.27002,943.900024,930.0,918.400024,937.409973,829.099976,846.349976,936.719971,931.25,905.659973,891.140015,923.320007,907.340027,922.0,932.0,904.549988,860.0],\"y0\":\" \",\"yaxis\":\"y\",\"type\":\"box\"}],                        {\"template\":{\"data\":{\"bar\":[{\"error_x\":{\"color\":\"#2a3f5f\"},\"error_y\":{\"color\":\"#2a3f5f\"},\"marker\":{\"line\":{\"color\":\"#E5ECF6\",\"width\":0.5},\"pattern\":{\"fillmode\":\"overlay\",\"size\":10,\"solidity\":0.2}},\"type\":\"bar\"}],\"barpolar\":[{\"marker\":{\"line\":{\"color\":\"#E5ECF6\",\"width\":0.5},\"pattern\":{\"fillmode\":\"overlay\",\"size\":10,\"solidity\":0.2}},\"type\":\"barpolar\"}],\"carpet\":[{\"aaxis\":{\"endlinecolor\":\"#2a3f5f\",\"gridcolor\":\"white\",\"linecolor\":\"white\",\"minorgridcolor\":\"white\",\"startlinecolor\":\"#2a3f5f\"},\"baxis\":{\"endlinecolor\":\"#2a3f5f\",\"gridcolor\":\"white\",\"linecolor\":\"white\",\"minorgridcolor\":\"white\",\"startlinecolor\":\"#2a3f5f\"},\"type\":\"carpet\"}],\"choropleth\":[{\"colorbar\":{\"outlinewidth\":0,\"ticks\":\"\"},\"type\":\"choropleth\"}],\"contour\":[{\"colorbar\":{\"outlinewidth\":0,\"ticks\":\"\"},\"colorscale\":[[0.0,\"#0d0887\"],[0.1111111111111111,\"#46039f\"],[0.2222222222222222,\"#7201a8\"],[0.3333333333333333,\"#9c179e\"],[0.4444444444444444,\"#bd3786\"],[0.5555555555555556,\"#d8576b\"],[0.6666666666666666,\"#ed7953\"],[0.7777777777777778,\"#fb9f3a\"],[0.8888888888888888,\"#fdca26\"],[1.0,\"#f0f921\"]],\"type\":\"contour\"}],\"contourcarpet\":[{\"colorbar\":{\"outlinewidth\":0,\"ticks\":\"\"},\"type\":\"contourcarpet\"}],\"heatmap\":[{\"colorbar\":{\"outlinewidth\":0,\"ticks\":\"\"},\"colorscale\":[[0.0,\"#0d0887\"],[0.1111111111111111,\"#46039f\"],[0.2222222222222222,\"#7201a8\"],[0.3333333333333333,\"#9c179e\"],[0.4444444444444444,\"#bd3786\"],[0.5555555555555556,\"#d8576b\"],[0.6666666666666666,\"#ed7953\"],[0.7777777777777778,\"#fb9f3a\"],[0.8888888888888888,\"#fdca26\"],[1.0,\"#f0f921\"]],\"type\":\"heatmap\"}],\"heatmapgl\":[{\"colorbar\":{\"outlinewidth\":0,\"ticks\":\"\"},\"colorscale\":[[0.0,\"#0d0887\"],[0.1111111111111111,\"#46039f\"],[0.2222222222222222,\"#7201a8\"],[0.3333333333333333,\"#9c179e\"],[0.4444444444444444,\"#bd3786\"],[0.5555555555555556,\"#d8576b\"],[0.6666666666666666,\"#ed7953\"],[0.7777777777777778,\"#fb9f3a\"],[0.8888888888888888,\"#fdca26\"],[1.0,\"#f0f921\"]],\"type\":\"heatmapgl\"}],\"histogram\":[{\"marker\":{\"pattern\":{\"fillmode\":\"overlay\",\"size\":10,\"solidity\":0.2}},\"type\":\"histogram\"}],\"histogram2d\":[{\"colorbar\":{\"outlinewidth\":0,\"ticks\":\"\"},\"colorscale\":[[0.0,\"#0d0887\"],[0.1111111111111111,\"#46039f\"],[0.2222222222222222,\"#7201a8\"],[0.3333333333333333,\"#9c179e\"],[0.4444444444444444,\"#bd3786\"],[0.5555555555555556,\"#d8576b\"],[0.6666666666666666,\"#ed7953\"],[0.7777777777777778,\"#fb9f3a\"],[0.8888888888888888,\"#fdca26\"],[1.0,\"#f0f921\"]],\"type\":\"histogram2d\"}],\"histogram2dcontour\":[{\"colorbar\":{\"outlinewidth\":0,\"ticks\":\"\"},\"colorscale\":[[0.0,\"#0d0887\"],[0.1111111111111111,\"#46039f\"],[0.2222222222222222,\"#7201a8\"],[0.3333333333333333,\"#9c179e\"],[0.4444444444444444,\"#bd3786\"],[0.5555555555555556,\"#d8576b\"],[0.6666666666666666,\"#ed7953\"],[0.7777777777777778,\"#fb9f3a\"],[0.8888888888888888,\"#fdca26\"],[1.0,\"#f0f921\"]],\"type\":\"histogram2dcontour\"}],\"mesh3d\":[{\"colorbar\":{\"outlinewidth\":0,\"ticks\":\"\"},\"type\":\"mesh3d\"}],\"parcoords\":[{\"line\":{\"colorbar\":{\"outlinewidth\":0,\"ticks\":\"\"}},\"type\":\"parcoords\"}],\"pie\":[{\"automargin\":true,\"type\":\"pie\"}],\"scatter\":[{\"marker\":{\"colorbar\":{\"outlinewidth\":0,\"ticks\":\"\"}},\"type\":\"scatter\"}],\"scatter3d\":[{\"line\":{\"colorbar\":{\"outlinewidth\":0,\"ticks\":\"\"}},\"marker\":{\"colorbar\":{\"outlinewidth\":0,\"ticks\":\"\"}},\"type\":\"scatter3d\"}],\"scattercarpet\":[{\"marker\":{\"colorbar\":{\"outlinewidth\":0,\"ticks\":\"\"}},\"type\":\"scattercarpet\"}],\"scattergeo\":[{\"marker\":{\"colorbar\":{\"outlinewidth\":0,\"ticks\":\"\"}},\"type\":\"scattergeo\"}],\"scattergl\":[{\"marker\":{\"colorbar\":{\"outlinewidth\":0,\"ticks\":\"\"}},\"type\":\"scattergl\"}],\"scattermapbox\":[{\"marker\":{\"colorbar\":{\"outlinewidth\":0,\"ticks\":\"\"}},\"type\":\"scattermapbox\"}],\"scatterpolar\":[{\"marker\":{\"colorbar\":{\"outlinewidth\":0,\"ticks\":\"\"}},\"type\":\"scatterpolar\"}],\"scatterpolargl\":[{\"marker\":{\"colorbar\":{\"outlinewidth\":0,\"ticks\":\"\"}},\"type\":\"scatterpolargl\"}],\"scatterternary\":[{\"marker\":{\"colorbar\":{\"outlinewidth\":0,\"ticks\":\"\"}},\"type\":\"scatterternary\"}],\"surface\":[{\"colorbar\":{\"outlinewidth\":0,\"ticks\":\"\"},\"colorscale\":[[0.0,\"#0d0887\"],[0.1111111111111111,\"#46039f\"],[0.2222222222222222,\"#7201a8\"],[0.3333333333333333,\"#9c179e\"],[0.4444444444444444,\"#bd3786\"],[0.5555555555555556,\"#d8576b\"],[0.6666666666666666,\"#ed7953\"],[0.7777777777777778,\"#fb9f3a\"],[0.8888888888888888,\"#fdca26\"],[1.0,\"#f0f921\"]],\"type\":\"surface\"}],\"table\":[{\"cells\":{\"fill\":{\"color\":\"#EBF0F8\"},\"line\":{\"color\":\"white\"}},\"header\":{\"fill\":{\"color\":\"#C8D4E3\"},\"line\":{\"color\":\"white\"}},\"type\":\"table\"}]},\"layout\":{\"annotationdefaults\":{\"arrowcolor\":\"#2a3f5f\",\"arrowhead\":0,\"arrowwidth\":1},\"autotypenumbers\":\"strict\",\"coloraxis\":{\"colorbar\":{\"outlinewidth\":0,\"ticks\":\"\"}},\"colorscale\":{\"diverging\":[[0,\"#8e0152\"],[0.1,\"#c51b7d\"],[0.2,\"#de77ae\"],[0.3,\"#f1b6da\"],[0.4,\"#fde0ef\"],[0.5,\"#f7f7f7\"],[0.6,\"#e6f5d0\"],[0.7,\"#b8e186\"],[0.8,\"#7fbc41\"],[0.9,\"#4d9221\"],[1,\"#276419\"]],\"sequential\":[[0.0,\"#0d0887\"],[0.1111111111111111,\"#46039f\"],[0.2222222222222222,\"#7201a8\"],[0.3333333333333333,\"#9c179e\"],[0.4444444444444444,\"#bd3786\"],[0.5555555555555556,\"#d8576b\"],[0.6666666666666666,\"#ed7953\"],[0.7777777777777778,\"#fb9f3a\"],[0.8888888888888888,\"#fdca26\"],[1.0,\"#f0f921\"]],\"sequentialminus\":[[0.0,\"#0d0887\"],[0.1111111111111111,\"#46039f\"],[0.2222222222222222,\"#7201a8\"],[0.3333333333333333,\"#9c179e\"],[0.4444444444444444,\"#bd3786\"],[0.5555555555555556,\"#d8576b\"],[0.6666666666666666,\"#ed7953\"],[0.7777777777777778,\"#fb9f3a\"],[0.8888888888888888,\"#fdca26\"],[1.0,\"#f0f921\"]]},\"colorway\":[\"#636efa\",\"#EF553B\",\"#00cc96\",\"#ab63fa\",\"#FFA15A\",\"#19d3f3\",\"#FF6692\",\"#B6E880\",\"#FF97FF\",\"#FECB52\"],\"font\":{\"color\":\"#2a3f5f\"},\"geo\":{\"bgcolor\":\"white\",\"lakecolor\":\"white\",\"landcolor\":\"#E5ECF6\",\"showlakes\":true,\"showland\":true,\"subunitcolor\":\"white\"},\"hoverlabel\":{\"align\":\"left\"},\"hovermode\":\"closest\",\"mapbox\":{\"style\":\"light\"},\"paper_bgcolor\":\"white\",\"plot_bgcolor\":\"#E5ECF6\",\"polar\":{\"angularaxis\":{\"gridcolor\":\"white\",\"linecolor\":\"white\",\"ticks\":\"\"},\"bgcolor\":\"#E5ECF6\",\"radialaxis\":{\"gridcolor\":\"white\",\"linecolor\":\"white\",\"ticks\":\"\"}},\"scene\":{\"xaxis\":{\"backgroundcolor\":\"#E5ECF6\",\"gridcolor\":\"white\",\"gridwidth\":2,\"linecolor\":\"white\",\"showbackground\":true,\"ticks\":\"\",\"zerolinecolor\":\"white\"},\"yaxis\":{\"backgroundcolor\":\"#E5ECF6\",\"gridcolor\":\"white\",\"gridwidth\":2,\"linecolor\":\"white\",\"showbackground\":true,\"ticks\":\"\",\"zerolinecolor\":\"white\"},\"zaxis\":{\"backgroundcolor\":\"#E5ECF6\",\"gridcolor\":\"white\",\"gridwidth\":2,\"linecolor\":\"white\",\"showbackground\":true,\"ticks\":\"\",\"zerolinecolor\":\"white\"}},\"shapedefaults\":{\"line\":{\"color\":\"#2a3f5f\"}},\"ternary\":{\"aaxis\":{\"gridcolor\":\"white\",\"linecolor\":\"white\",\"ticks\":\"\"},\"baxis\":{\"gridcolor\":\"white\",\"linecolor\":\"white\",\"ticks\":\"\"},\"bgcolor\":\"#E5ECF6\",\"caxis\":{\"gridcolor\":\"white\",\"linecolor\":\"white\",\"ticks\":\"\"}},\"title\":{\"x\":0.05},\"xaxis\":{\"automargin\":true,\"gridcolor\":\"white\",\"linecolor\":\"white\",\"ticks\":\"\",\"title\":{\"standoff\":15},\"zerolinecolor\":\"white\",\"zerolinewidth\":2},\"yaxis\":{\"automargin\":true,\"gridcolor\":\"white\",\"linecolor\":\"white\",\"ticks\":\"\",\"title\":{\"standoff\":15},\"zerolinecolor\":\"white\",\"zerolinewidth\":2}}},\"xaxis\":{\"anchor\":\"y\",\"domain\":[0.0,1.0]},\"yaxis\":{\"anchor\":\"x\",\"domain\":[0.0,1.0],\"title\":{\"text\":\"Close\"}},\"legend\":{\"tracegroupgap\":0},\"margin\":{\"t\":60},\"boxmode\":\"group\"},                        {\"responsive\": true}                    ).then(function(){\n",
              "                            \n",
              "var gd = document.getElementById('25e5a8be-516d-4fb0-b55e-1336458c2419');\n",
              "var x = new MutationObserver(function (mutations, observer) {{\n",
              "        var display = window.getComputedStyle(gd).display;\n",
              "        if (!display || display === 'none') {{\n",
              "            console.log([gd, 'removed!']);\n",
              "            Plotly.purge(gd);\n",
              "            observer.disconnect();\n",
              "        }}\n",
              "}});\n",
              "\n",
              "// Listen for the removal of the full notebook cells\n",
              "var notebookContainer = gd.closest('#notebook-container');\n",
              "if (notebookContainer) {{\n",
              "    x.observe(notebookContainer, {childList: true});\n",
              "}}\n",
              "\n",
              "// Listen for the clearing of the current output cell\n",
              "var outputEl = gd.closest('.output');\n",
              "if (outputEl) {{\n",
              "    x.observe(outputEl, {childList: true});\n",
              "}}\n",
              "\n",
              "                        })                };                            </script>        </div>\n",
              "</body>\n",
              "</html>"
            ]
          },
          "metadata": {}
        }
      ]
    },
    {
      "cell_type": "markdown",
      "metadata": {
        "id": "kkljOEhbcmXW"
      },
      "source": [
        "# Understanding Facebook Prophet"
      ]
    },
    {
      "cell_type": "markdown",
      "metadata": {
        "id": "VXv_Vi7c9cAb"
      },
      "source": [
        "![Facebook Prophet.jpg](data:image/jpeg;base64,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)"
      ]
    },
    {
      "cell_type": "markdown",
      "metadata": {
        "id": "ASIJnLjScv9B"
      },
      "source": [
        "## Data Preperation"
      ]
    },
    {
      "cell_type": "code",
      "metadata": {
        "id": "8VU3NvfDczau"
      },
      "source": [
        "columns = ['Date', 'Close']\n",
        "ndf = pd.DataFrame(df, columns=columns)"
      ],
      "execution_count": null,
      "outputs": []
    },
    {
      "cell_type": "code",
      "source": [
        "ndf.head()"
      ],
      "metadata": {
        "colab": {
          "base_uri": "https://localhost:8080/",
          "height": 204
        },
        "id": "3mNcygXYGxjK",
        "outputId": "911376f6-a714-4263-e6cb-efc6590c4a39"
      },
      "execution_count": null,
      "outputs": [
        {
          "output_type": "execute_result",
          "data": {
            "text/html": [
              "\n",
              "  <div id=\"df-9e0dde54-4f8c-4eda-a9a7-4c57a1e352b9\">\n",
              "    <div class=\"colab-df-container\">\n",
              "      <div>\n",
              "<style scoped>\n",
              "    .dataframe tbody tr th:only-of-type {\n",
              "        vertical-align: middle;\n",
              "    }\n",
              "\n",
              "    .dataframe tbody tr th {\n",
              "        vertical-align: top;\n",
              "    }\n",
              "\n",
              "    .dataframe thead th {\n",
              "        text-align: right;\n",
              "    }\n",
              "</style>\n",
              "<table border=\"1\" class=\"dataframe\">\n",
              "  <thead>\n",
              "    <tr style=\"text-align: right;\">\n",
              "      <th></th>\n",
              "      <th>Date</th>\n",
              "      <th>Close</th>\n",
              "    </tr>\n",
              "  </thead>\n",
              "  <tbody>\n",
              "    <tr>\n",
              "      <th>0</th>\n",
              "      <td>2021-02-16</td>\n",
              "      <td>796.219971</td>\n",
              "    </tr>\n",
              "    <tr>\n",
              "      <th>1</th>\n",
              "      <td>2021-02-17</td>\n",
              "      <td>798.150024</td>\n",
              "    </tr>\n",
              "    <tr>\n",
              "      <th>2</th>\n",
              "      <td>2021-02-18</td>\n",
              "      <td>787.380005</td>\n",
              "    </tr>\n",
              "    <tr>\n",
              "      <th>3</th>\n",
              "      <td>2021-02-19</td>\n",
              "      <td>781.299988</td>\n",
              "    </tr>\n",
              "    <tr>\n",
              "      <th>4</th>\n",
              "      <td>2021-02-22</td>\n",
              "      <td>714.500000</td>\n",
              "    </tr>\n",
              "  </tbody>\n",
              "</table>\n",
              "</div>\n",
              "      <button class=\"colab-df-convert\" onclick=\"convertToInteractive('df-9e0dde54-4f8c-4eda-a9a7-4c57a1e352b9')\"\n",
              "              title=\"Convert this dataframe to an interactive table.\"\n",
              "              style=\"display:none;\">\n",
              "        \n",
              "  <svg xmlns=\"http://www.w3.org/2000/svg\" height=\"24px\"viewBox=\"0 0 24 24\"\n",
              "       width=\"24px\">\n",
              "    <path d=\"M0 0h24v24H0V0z\" fill=\"none\"/>\n",
              "    <path d=\"M18.56 5.44l.94 2.06.94-2.06 2.06-.94-2.06-.94-.94-2.06-.94 2.06-2.06.94zm-11 1L8.5 8.5l.94-2.06 2.06-.94-2.06-.94L8.5 2.5l-.94 2.06-2.06.94zm10 10l.94 2.06.94-2.06 2.06-.94-2.06-.94-.94-2.06-.94 2.06-2.06.94z\"/><path d=\"M17.41 7.96l-1.37-1.37c-.4-.4-.92-.59-1.43-.59-.52 0-1.04.2-1.43.59L10.3 9.45l-7.72 7.72c-.78.78-.78 2.05 0 2.83L4 21.41c.39.39.9.59 1.41.59.51 0 1.02-.2 1.41-.59l7.78-7.78 2.81-2.81c.8-.78.8-2.07 0-2.86zM5.41 20L4 18.59l7.72-7.72 1.47 1.35L5.41 20z\"/>\n",
              "  </svg>\n",
              "      </button>\n",
              "      \n",
              "  <style>\n",
              "    .colab-df-container {\n",
              "      display:flex;\n",
              "      flex-wrap:wrap;\n",
              "      gap: 12px;\n",
              "    }\n",
              "\n",
              "    .colab-df-convert {\n",
              "      background-color: #E8F0FE;\n",
              "      border: none;\n",
              "      border-radius: 50%;\n",
              "      cursor: pointer;\n",
              "      display: none;\n",
              "      fill: #1967D2;\n",
              "      height: 32px;\n",
              "      padding: 0 0 0 0;\n",
              "      width: 32px;\n",
              "    }\n",
              "\n",
              "    .colab-df-convert:hover {\n",
              "      background-color: #E2EBFA;\n",
              "      box-shadow: 0px 1px 2px rgba(60, 64, 67, 0.3), 0px 1px 3px 1px rgba(60, 64, 67, 0.15);\n",
              "      fill: #174EA6;\n",
              "    }\n",
              "\n",
              "    [theme=dark] .colab-df-convert {\n",
              "      background-color: #3B4455;\n",
              "      fill: #D2E3FC;\n",
              "    }\n",
              "\n",
              "    [theme=dark] .colab-df-convert:hover {\n",
              "      background-color: #434B5C;\n",
              "      box-shadow: 0px 1px 3px 1px rgba(0, 0, 0, 0.15);\n",
              "      filter: drop-shadow(0px 1px 2px rgba(0, 0, 0, 0.3));\n",
              "      fill: #FFFFFF;\n",
              "    }\n",
              "  </style>\n",
              "\n",
              "      <script>\n",
              "        const buttonEl =\n",
              "          document.querySelector('#df-9e0dde54-4f8c-4eda-a9a7-4c57a1e352b9 button.colab-df-convert');\n",
              "        buttonEl.style.display =\n",
              "          google.colab.kernel.accessAllowed ? 'block' : 'none';\n",
              "\n",
              "        async function convertToInteractive(key) {\n",
              "          const element = document.querySelector('#df-9e0dde54-4f8c-4eda-a9a7-4c57a1e352b9');\n",
              "          const dataTable =\n",
              "            await google.colab.kernel.invokeFunction('convertToInteractive',\n",
              "                                                     [key], {});\n",
              "          if (!dataTable) return;\n",
              "\n",
              "          const docLinkHtml = 'Like what you see? Visit the ' +\n",
              "            '<a target=\"_blank\" href=https://colab.research.google.com/notebooks/data_table.ipynb>data table notebook</a>'\n",
              "            + ' to learn more about interactive tables.';\n",
              "          element.innerHTML = '';\n",
              "          dataTable['output_type'] = 'display_data';\n",
              "          await google.colab.output.renderOutput(dataTable, element);\n",
              "          const docLink = document.createElement('div');\n",
              "          docLink.innerHTML = docLinkHtml;\n",
              "          element.appendChild(docLink);\n",
              "        }\n",
              "      </script>\n",
              "    </div>\n",
              "  </div>\n",
              "  "
            ],
            "text/plain": [
              "         Date       Close\n",
              "0  2021-02-16  796.219971\n",
              "1  2021-02-17  798.150024\n",
              "2  2021-02-18  787.380005\n",
              "3  2021-02-19  781.299988\n",
              "4  2021-02-22  714.500000"
            ]
          },
          "metadata": {},
          "execution_count": 22
        }
      ]
    },
    {
      "cell_type": "code",
      "source": [
        "prophet_df = ndf.rename(columns={'Date':\"ds\", 'Close':'y'})"
      ],
      "metadata": {
        "id": "I_hpRYDjGxpS"
      },
      "execution_count": null,
      "outputs": []
    },
    {
      "cell_type": "code",
      "metadata": {
        "id": "sO8g9RCI95Xe",
        "colab": {
          "base_uri": "https://localhost:8080/",
          "height": 204
        },
        "outputId": "63fb6bcf-2867-4749-91f3-0c2a1a995b1e"
      },
      "source": [
        "prophet_df.head()"
      ],
      "execution_count": null,
      "outputs": [
        {
          "output_type": "execute_result",
          "data": {
            "text/html": [
              "\n",
              "  <div id=\"df-c69a3f27-73c2-4496-b2cc-79f56d467ec1\">\n",
              "    <div class=\"colab-df-container\">\n",
              "      <div>\n",
              "<style scoped>\n",
              "    .dataframe tbody tr th:only-of-type {\n",
              "        vertical-align: middle;\n",
              "    }\n",
              "\n",
              "    .dataframe tbody tr th {\n",
              "        vertical-align: top;\n",
              "    }\n",
              "\n",
              "    .dataframe thead th {\n",
              "        text-align: right;\n",
              "    }\n",
              "</style>\n",
              "<table border=\"1\" class=\"dataframe\">\n",
              "  <thead>\n",
              "    <tr style=\"text-align: right;\">\n",
              "      <th></th>\n",
              "      <th>ds</th>\n",
              "      <th>y</th>\n",
              "    </tr>\n",
              "  </thead>\n",
              "  <tbody>\n",
              "    <tr>\n",
              "      <th>0</th>\n",
              "      <td>2021-02-16</td>\n",
              "      <td>796.219971</td>\n",
              "    </tr>\n",
              "    <tr>\n",
              "      <th>1</th>\n",
              "      <td>2021-02-17</td>\n",
              "      <td>798.150024</td>\n",
              "    </tr>\n",
              "    <tr>\n",
              "      <th>2</th>\n",
              "      <td>2021-02-18</td>\n",
              "      <td>787.380005</td>\n",
              "    </tr>\n",
              "    <tr>\n",
              "      <th>3</th>\n",
              "      <td>2021-02-19</td>\n",
              "      <td>781.299988</td>\n",
              "    </tr>\n",
              "    <tr>\n",
              "      <th>4</th>\n",
              "      <td>2021-02-22</td>\n",
              "      <td>714.500000</td>\n",
              "    </tr>\n",
              "  </tbody>\n",
              "</table>\n",
              "</div>\n",
              "      <button class=\"colab-df-convert\" onclick=\"convertToInteractive('df-c69a3f27-73c2-4496-b2cc-79f56d467ec1')\"\n",
              "              title=\"Convert this dataframe to an interactive table.\"\n",
              "              style=\"display:none;\">\n",
              "        \n",
              "  <svg xmlns=\"http://www.w3.org/2000/svg\" height=\"24px\"viewBox=\"0 0 24 24\"\n",
              "       width=\"24px\">\n",
              "    <path d=\"M0 0h24v24H0V0z\" fill=\"none\"/>\n",
              "    <path d=\"M18.56 5.44l.94 2.06.94-2.06 2.06-.94-2.06-.94-.94-2.06-.94 2.06-2.06.94zm-11 1L8.5 8.5l.94-2.06 2.06-.94-2.06-.94L8.5 2.5l-.94 2.06-2.06.94zm10 10l.94 2.06.94-2.06 2.06-.94-2.06-.94-.94-2.06-.94 2.06-2.06.94z\"/><path d=\"M17.41 7.96l-1.37-1.37c-.4-.4-.92-.59-1.43-.59-.52 0-1.04.2-1.43.59L10.3 9.45l-7.72 7.72c-.78.78-.78 2.05 0 2.83L4 21.41c.39.39.9.59 1.41.59.51 0 1.02-.2 1.41-.59l7.78-7.78 2.81-2.81c.8-.78.8-2.07 0-2.86zM5.41 20L4 18.59l7.72-7.72 1.47 1.35L5.41 20z\"/>\n",
              "  </svg>\n",
              "      </button>\n",
              "      \n",
              "  <style>\n",
              "    .colab-df-container {\n",
              "      display:flex;\n",
              "      flex-wrap:wrap;\n",
              "      gap: 12px;\n",
              "    }\n",
              "\n",
              "    .colab-df-convert {\n",
              "      background-color: #E8F0FE;\n",
              "      border: none;\n",
              "      border-radius: 50%;\n",
              "      cursor: pointer;\n",
              "      display: none;\n",
              "      fill: #1967D2;\n",
              "      height: 32px;\n",
              "      padding: 0 0 0 0;\n",
              "      width: 32px;\n",
              "    }\n",
              "\n",
              "    .colab-df-convert:hover {\n",
              "      background-color: #E2EBFA;\n",
              "      box-shadow: 0px 1px 2px rgba(60, 64, 67, 0.3), 0px 1px 3px 1px rgba(60, 64, 67, 0.15);\n",
              "      fill: #174EA6;\n",
              "    }\n",
              "\n",
              "    [theme=dark] .colab-df-convert {\n",
              "      background-color: #3B4455;\n",
              "      fill: #D2E3FC;\n",
              "    }\n",
              "\n",
              "    [theme=dark] .colab-df-convert:hover {\n",
              "      background-color: #434B5C;\n",
              "      box-shadow: 0px 1px 3px 1px rgba(0, 0, 0, 0.15);\n",
              "      filter: drop-shadow(0px 1px 2px rgba(0, 0, 0, 0.3));\n",
              "      fill: #FFFFFF;\n",
              "    }\n",
              "  </style>\n",
              "\n",
              "      <script>\n",
              "        const buttonEl =\n",
              "          document.querySelector('#df-c69a3f27-73c2-4496-b2cc-79f56d467ec1 button.colab-df-convert');\n",
              "        buttonEl.style.display =\n",
              "          google.colab.kernel.accessAllowed ? 'block' : 'none';\n",
              "\n",
              "        async function convertToInteractive(key) {\n",
              "          const element = document.querySelector('#df-c69a3f27-73c2-4496-b2cc-79f56d467ec1');\n",
              "          const dataTable =\n",
              "            await google.colab.kernel.invokeFunction('convertToInteractive',\n",
              "                                                     [key], {});\n",
              "          if (!dataTable) return;\n",
              "\n",
              "          const docLinkHtml = 'Like what you see? Visit the ' +\n",
              "            '<a target=\"_blank\" href=https://colab.research.google.com/notebooks/data_table.ipynb>data table notebook</a>'\n",
              "            + ' to learn more about interactive tables.';\n",
              "          element.innerHTML = '';\n",
              "          dataTable['output_type'] = 'display_data';\n",
              "          await google.colab.output.renderOutput(dataTable, element);\n",
              "          const docLink = document.createElement('div');\n",
              "          docLink.innerHTML = docLinkHtml;\n",
              "          element.appendChild(docLink);\n",
              "        }\n",
              "      </script>\n",
              "    </div>\n",
              "  </div>\n",
              "  "
            ],
            "text/plain": [
              "           ds           y\n",
              "0  2021-02-16  796.219971\n",
              "1  2021-02-17  798.150024\n",
              "2  2021-02-18  787.380005\n",
              "3  2021-02-19  781.299988\n",
              "4  2021-02-22  714.500000"
            ]
          },
          "metadata": {},
          "execution_count": 24
        }
      ]
    },
    {
      "cell_type": "markdown",
      "metadata": {
        "id": "j57-ly4Jc5va"
      },
      "source": [
        "## Creating Facebook Prophet Model"
      ]
    },
    {
      "cell_type": "code",
      "metadata": {
        "id": "GdFXAfTFc7iw",
        "colab": {
          "base_uri": "https://localhost:8080/"
        },
        "outputId": "93c7c309-03b6-4198-b6f7-a9a2625be1cd"
      },
      "source": [
        "m = Prophet()\n",
        "m.fit(prophet_df)"
      ],
      "execution_count": null,
      "outputs": [
        {
          "output_type": "stream",
          "name": "stderr",
          "text": [
            "INFO:fbprophet:Disabling yearly seasonality. Run prophet with yearly_seasonality=True to override this.\n",
            "INFO:fbprophet:Disabling daily seasonality. Run prophet with daily_seasonality=True to override this.\n"
          ]
        },
        {
          "output_type": "execute_result",
          "data": {
            "text/plain": [
              "<fbprophet.forecaster.Prophet at 0x7f8c932dd850>"
            ]
          },
          "metadata": {},
          "execution_count": 25
        }
      ]
    },
    {
      "cell_type": "markdown",
      "metadata": {
        "id": "T-0eY9xOdA4S"
      },
      "source": [
        "##Forecasting"
      ]
    },
    {
      "cell_type": "code",
      "metadata": {
        "id": "qGPpV0kmdCjh"
      },
      "source": [
        "future = m.make_future_dataframe(periods=30)\n",
        "forecast = m.predict(future)"
      ],
      "execution_count": null,
      "outputs": []
    },
    {
      "cell_type": "code",
      "metadata": {
        "id": "JzPozfvMDUUX",
        "colab": {
          "base_uri": "https://localhost:8080/",
          "height": 353
        },
        "outputId": "3ba6fe3e-2231-4de9-f916-acd0717e01d5"
      },
      "source": [
        "forecast.head()"
      ],
      "execution_count": null,
      "outputs": [
        {
          "output_type": "execute_result",
          "data": {
            "text/html": [
              "\n",
              "  <div id=\"df-763f7ac2-3264-408a-933b-f2c182b947d1\">\n",
              "    <div class=\"colab-df-container\">\n",
              "      <div>\n",
              "<style scoped>\n",
              "    .dataframe tbody tr th:only-of-type {\n",
              "        vertical-align: middle;\n",
              "    }\n",
              "\n",
              "    .dataframe tbody tr th {\n",
              "        vertical-align: top;\n",
              "    }\n",
              "\n",
              "    .dataframe thead th {\n",
              "        text-align: right;\n",
              "    }\n",
              "</style>\n",
              "<table border=\"1\" class=\"dataframe\">\n",
              "  <thead>\n",
              "    <tr style=\"text-align: right;\">\n",
              "      <th></th>\n",
              "      <th>ds</th>\n",
              "      <th>trend</th>\n",
              "      <th>yhat_lower</th>\n",
              "      <th>yhat_upper</th>\n",
              "      <th>trend_lower</th>\n",
              "      <th>trend_upper</th>\n",
              "      <th>additive_terms</th>\n",
              "      <th>additive_terms_lower</th>\n",
              "      <th>additive_terms_upper</th>\n",
              "      <th>weekly</th>\n",
              "      <th>weekly_lower</th>\n",
              "      <th>weekly_upper</th>\n",
              "      <th>multiplicative_terms</th>\n",
              "      <th>multiplicative_terms_lower</th>\n",
              "      <th>multiplicative_terms_upper</th>\n",
              "      <th>yhat</th>\n",
              "    </tr>\n",
              "  </thead>\n",
              "  <tbody>\n",
              "    <tr>\n",
              "      <th>0</th>\n",
              "      <td>2021-02-16</td>\n",
              "      <td>719.352536</td>\n",
              "      <td>631.981620</td>\n",
              "      <td>779.820108</td>\n",
              "      <td>719.352536</td>\n",
              "      <td>719.352536</td>\n",
              "      <td>-13.130217</td>\n",
              "      <td>-13.130217</td>\n",
              "      <td>-13.130217</td>\n",
              "      <td>-13.130217</td>\n",
              "      <td>-13.130217</td>\n",
              "      <td>-13.130217</td>\n",
              "      <td>0.0</td>\n",
              "      <td>0.0</td>\n",
              "      <td>0.0</td>\n",
              "      <td>706.222319</td>\n",
              "    </tr>\n",
              "    <tr>\n",
              "      <th>1</th>\n",
              "      <td>2021-02-17</td>\n",
              "      <td>718.671943</td>\n",
              "      <td>632.526737</td>\n",
              "      <td>782.162188</td>\n",
              "      <td>718.671943</td>\n",
              "      <td>718.671943</td>\n",
              "      <td>-10.782467</td>\n",
              "      <td>-10.782467</td>\n",
              "      <td>-10.782467</td>\n",
              "      <td>-10.782467</td>\n",
              "      <td>-10.782467</td>\n",
              "      <td>-10.782467</td>\n",
              "      <td>0.0</td>\n",
              "      <td>0.0</td>\n",
              "      <td>0.0</td>\n",
              "      <td>707.889477</td>\n",
              "    </tr>\n",
              "    <tr>\n",
              "      <th>2</th>\n",
              "      <td>2021-02-18</td>\n",
              "      <td>717.991350</td>\n",
              "      <td>619.813366</td>\n",
              "      <td>774.023401</td>\n",
              "      <td>717.991350</td>\n",
              "      <td>717.991350</td>\n",
              "      <td>-18.764503</td>\n",
              "      <td>-18.764503</td>\n",
              "      <td>-18.764503</td>\n",
              "      <td>-18.764503</td>\n",
              "      <td>-18.764503</td>\n",
              "      <td>-18.764503</td>\n",
              "      <td>0.0</td>\n",
              "      <td>0.0</td>\n",
              "      <td>0.0</td>\n",
              "      <td>699.226847</td>\n",
              "    </tr>\n",
              "    <tr>\n",
              "      <th>3</th>\n",
              "      <td>2021-02-19</td>\n",
              "      <td>717.310757</td>\n",
              "      <td>613.428284</td>\n",
              "      <td>771.711524</td>\n",
              "      <td>717.310757</td>\n",
              "      <td>717.310757</td>\n",
              "      <td>-20.473519</td>\n",
              "      <td>-20.473519</td>\n",
              "      <td>-20.473519</td>\n",
              "      <td>-20.473519</td>\n",
              "      <td>-20.473519</td>\n",
              "      <td>-20.473519</td>\n",
              "      <td>0.0</td>\n",
              "      <td>0.0</td>\n",
              "      <td>0.0</td>\n",
              "      <td>696.837238</td>\n",
              "    </tr>\n",
              "    <tr>\n",
              "      <th>4</th>\n",
              "      <td>2021-02-22</td>\n",
              "      <td>715.268978</td>\n",
              "      <td>626.462247</td>\n",
              "      <td>780.322469</td>\n",
              "      <td>715.268978</td>\n",
              "      <td>715.268978</td>\n",
              "      <td>-11.842332</td>\n",
              "      <td>-11.842332</td>\n",
              "      <td>-11.842332</td>\n",
              "      <td>-11.842332</td>\n",
              "      <td>-11.842332</td>\n",
              "      <td>-11.842332</td>\n",
              "      <td>0.0</td>\n",
              "      <td>0.0</td>\n",
              "      <td>0.0</td>\n",
              "      <td>703.426646</td>\n",
              "    </tr>\n",
              "  </tbody>\n",
              "</table>\n",
              "</div>\n",
              "      <button class=\"colab-df-convert\" onclick=\"convertToInteractive('df-763f7ac2-3264-408a-933b-f2c182b947d1')\"\n",
              "              title=\"Convert this dataframe to an interactive table.\"\n",
              "              style=\"display:none;\">\n",
              "        \n",
              "  <svg xmlns=\"http://www.w3.org/2000/svg\" height=\"24px\"viewBox=\"0 0 24 24\"\n",
              "       width=\"24px\">\n",
              "    <path d=\"M0 0h24v24H0V0z\" fill=\"none\"/>\n",
              "    <path d=\"M18.56 5.44l.94 2.06.94-2.06 2.06-.94-2.06-.94-.94-2.06-.94 2.06-2.06.94zm-11 1L8.5 8.5l.94-2.06 2.06-.94-2.06-.94L8.5 2.5l-.94 2.06-2.06.94zm10 10l.94 2.06.94-2.06 2.06-.94-2.06-.94-.94-2.06-.94 2.06-2.06.94z\"/><path d=\"M17.41 7.96l-1.37-1.37c-.4-.4-.92-.59-1.43-.59-.52 0-1.04.2-1.43.59L10.3 9.45l-7.72 7.72c-.78.78-.78 2.05 0 2.83L4 21.41c.39.39.9.59 1.41.59.51 0 1.02-.2 1.41-.59l7.78-7.78 2.81-2.81c.8-.78.8-2.07 0-2.86zM5.41 20L4 18.59l7.72-7.72 1.47 1.35L5.41 20z\"/>\n",
              "  </svg>\n",
              "      </button>\n",
              "      \n",
              "  <style>\n",
              "    .colab-df-container {\n",
              "      display:flex;\n",
              "      flex-wrap:wrap;\n",
              "      gap: 12px;\n",
              "    }\n",
              "\n",
              "    .colab-df-convert {\n",
              "      background-color: #E8F0FE;\n",
              "      border: none;\n",
              "      border-radius: 50%;\n",
              "      cursor: pointer;\n",
              "      display: none;\n",
              "      fill: #1967D2;\n",
              "      height: 32px;\n",
              "      padding: 0 0 0 0;\n",
              "      width: 32px;\n",
              "    }\n",
              "\n",
              "    .colab-df-convert:hover {\n",
              "      background-color: #E2EBFA;\n",
              "      box-shadow: 0px 1px 2px rgba(60, 64, 67, 0.3), 0px 1px 3px 1px rgba(60, 64, 67, 0.15);\n",
              "      fill: #174EA6;\n",
              "    }\n",
              "\n",
              "    [theme=dark] .colab-df-convert {\n",
              "      background-color: #3B4455;\n",
              "      fill: #D2E3FC;\n",
              "    }\n",
              "\n",
              "    [theme=dark] .colab-df-convert:hover {\n",
              "      background-color: #434B5C;\n",
              "      box-shadow: 0px 1px 3px 1px rgba(0, 0, 0, 0.15);\n",
              "      filter: drop-shadow(0px 1px 2px rgba(0, 0, 0, 0.3));\n",
              "      fill: #FFFFFF;\n",
              "    }\n",
              "  </style>\n",
              "\n",
              "      <script>\n",
              "        const buttonEl =\n",
              "          document.querySelector('#df-763f7ac2-3264-408a-933b-f2c182b947d1 button.colab-df-convert');\n",
              "        buttonEl.style.display =\n",
              "          google.colab.kernel.accessAllowed ? 'block' : 'none';\n",
              "\n",
              "        async function convertToInteractive(key) {\n",
              "          const element = document.querySelector('#df-763f7ac2-3264-408a-933b-f2c182b947d1');\n",
              "          const dataTable =\n",
              "            await google.colab.kernel.invokeFunction('convertToInteractive',\n",
              "                                                     [key], {});\n",
              "          if (!dataTable) return;\n",
              "\n",
              "          const docLinkHtml = 'Like what you see? Visit the ' +\n",
              "            '<a target=\"_blank\" href=https://colab.research.google.com/notebooks/data_table.ipynb>data table notebook</a>'\n",
              "            + ' to learn more about interactive tables.';\n",
              "          element.innerHTML = '';\n",
              "          dataTable['output_type'] = 'display_data';\n",
              "          await google.colab.output.renderOutput(dataTable, element);\n",
              "          const docLink = document.createElement('div');\n",
              "          docLink.innerHTML = docLinkHtml;\n",
              "          element.appendChild(docLink);\n",
              "        }\n",
              "      </script>\n",
              "    </div>\n",
              "  </div>\n",
              "  "
            ],
            "text/plain": [
              "          ds       trend  ...  multiplicative_terms_upper        yhat\n",
              "0 2021-02-16  719.352536  ...                         0.0  706.222319\n",
              "1 2021-02-17  718.671943  ...                         0.0  707.889477\n",
              "2 2021-02-18  717.991350  ...                         0.0  699.226847\n",
              "3 2021-02-19  717.310757  ...                         0.0  696.837238\n",
              "4 2021-02-22  715.268978  ...                         0.0  703.426646\n",
              "\n",
              "[5 rows x 16 columns]"
            ]
          },
          "metadata": {},
          "execution_count": 27
        }
      ]
    },
    {
      "cell_type": "code",
      "metadata": {
        "id": "19-Qc5qDdH8K",
        "colab": {
          "base_uri": "https://localhost:8080/",
          "height": 542
        },
        "outputId": "b7c96eb4-b646-4612-a099-8635abaa3df4"
      },
      "source": [
        "px.line(forecast, x='ds', y='yhat')"
      ],
      "execution_count": null,
      "outputs": [
        {
          "output_type": "display_data",
          "data": {
            "text/html": [
              "<html>\n",
              "<head><meta charset=\"utf-8\" /></head>\n",
              "<body>\n",
              "    <div>            <script src=\"https://cdnjs.cloudflare.com/ajax/libs/mathjax/2.7.5/MathJax.js?config=TeX-AMS-MML_SVG\"></script><script type=\"text/javascript\">if (window.MathJax) {MathJax.Hub.Config({SVG: {font: \"STIX-Web\"}});}</script>                <script type=\"text/javascript\">window.PlotlyConfig = {MathJaxConfig: 'local'};</script>\n",
              "        <script src=\"https://cdn.plot.ly/plotly-2.8.3.min.js\"></script>                <div id=\"4afe6f7b-481b-4e4a-b9b3-ed7d8e14ac42\" class=\"plotly-graph-div\" style=\"height:525px; width:100%;\"></div>            <script type=\"text/javascript\">                                    window.PLOTLYENV=window.PLOTLYENV || {};                                    if (document.getElementById(\"4afe6f7b-481b-4e4a-b9b3-ed7d8e14ac42\")) {                    Plotly.newPlot(                        \"4afe6f7b-481b-4e4a-b9b3-ed7d8e14ac42\",                        [{\"hovertemplate\":\"ds=%{x}<br>yhat=%{y}<extra></extra>\",\"legendgroup\":\"\",\"line\":{\"color\":\"#636efa\",\"dash\":\"solid\"},\"marker\":{\"symbol\":\"circle\"},\"mode\":\"lines\",\"name\":\"\",\"orientation\":\"v\",\"showlegend\":false,\"x\":[\"2021-02-16T00:00:00\",\"2021-02-17T00:00:00\",\"2021-02-18T00:00:00\",\"2021-02-19T00:00:00\",\"2021-02-22T00:00:00\",\"2021-02-23T00:00:00\",\"2021-02-24T00:00:00\",\"2021-02-25T00:00:00\",\"2021-02-26T00:00:00\",\"2021-03-01T00:00:00\",\"2021-03-02T00:00:00\",\"2021-03-03T00:00:00\",\"2021-03-04T00:00:00\",\"2021-03-05T00:00:00\",\"2021-03-08T00:00:00\",\"2021-03-09T00:00:00\",\"2021-03-10T00:00:00\",\"2021-03-11T00:00:00\",\"2021-03-12T00:00:00\",\"2021-03-15T00:00:00\",\"2021-03-16T00:00:00\",\"2021-03-17T00:00:00\",\"2021-03-18T00:00:00\",\"2021-03-19T00:00:00\",\"2021-03-22T00:00:00\",\"2021-03-23T00:00:00\",\"2021-03-24T00:00:00\",\"2021-03-25T00:00:00\",\"2021-03-26T00:00:00\",\"2021-03-29T00:00:00\",\"2021-03-30T00:00:00\",\"2021-03-31T00:00:00\",\"2021-04-01T00:00:00\",\"2021-04-05T00:00:00\",\"2021-04-06T00:00:00\",\"2021-04-07T00:00:00\",\"2021-04-08T00:00:00\",\"2021-04-09T00:00:00\",\"2021-04-12T00:00:00\",\"2021-04-13T00:00:00\",\"2021-04-14T00:00:00\",\"2021-04-15T00:00:00\",\"2021-04-16T00:00:00\",\"2021-04-19T00:00:00\",\"2021-04-20T00:00:00\",\"2021-04-21T00:00:00\",\"2021-04-22T00:00:00\",\"2021-04-23T00:00:00\",\"2021-04-26T00:00:00\",\"2021-04-27T00:00:00\",\"2021-04-28T00:00:00\",\"2021-04-29T00:00:00\",\"2021-04-30T00:00:00\",\"2021-05-03T00:00:00\",\"2021-05-04T00:00:00\",\"2021-05-05T00:00:00\",\"2021-05-06T00:00:00\",\"2021-05-07T00:00:00\",\"2021-05-10T00:00:00\",\"2021-05-11T00:00:00\",\"2021-05-12T00:00:00\",\"2021-05-13T00:00:00\",\"2021-05-14T00:00:00\",\"2021-05-17T00:00:00\",\"2021-05-18T00:00:00\",\"2021-05-19T00:00:00\",\"2021-05-20T00:00:00\",\"2021-05-21T00:00:00\",\"2021-05-24T00:00:00\",\"2021-05-25T00:00:00\",\"2021-05-26T00:00:00\",\"2021-05-27T00:00:00\",\"2021-05-28T00:00:00\",\"2021-06-01T00:00:00\",\"2021-06-02T00:00:00\",\"2021-06-03T00:00:00\",\"2021-06-04T00:00:00\",\"2021-06-07T00:00:00\",\"2021-06-08T00:00:00\",\"2021-06-09T00:00:00\",\"2021-06-10T00:00:00\",\"2021-06-11T00:00:00\",\"2021-06-14T00:00:00\",\"2021-06-15T00:00:00\",\"2021-06-16T00:00:00\",\"2021-06-17T00:00:00\",\"2021-06-18T00:00:00\",\"2021-06-21T00:00:00\",\"2021-06-22T00:00:00\",\"2021-06-23T00:00:00\",\"2021-06-24T00:00:00\",\"2021-06-25T00:00:00\",\"2021-06-28T00:00:00\",\"2021-06-29T00:00:00\",\"2021-06-30T00:00:00\",\"2021-07-01T00:00:00\",\"2021-07-02T00:00:00\",\"2021-07-06T00:00:00\",\"2021-07-07T00:00:00\",\"2021-07-08T00:00:00\",\"2021-07-09T00:00:00\",\"2021-07-12T00:00:00\",\"2021-07-13T00:00:00\",\"2021-07-14T00:00:00\",\"2021-07-15T00:00:00\",\"2021-07-16T00:00:00\",\"2021-07-19T00:00:00\",\"2021-07-20T00:00:00\",\"2021-07-21T00:00:00\",\"2021-07-22T00:00:00\",\"2021-07-23T00:00:00\",\"2021-07-26T00:00:00\",\"2021-07-27T00:00:00\",\"2021-07-28T00:00:00\",\"2021-07-29T00:00:00\",\"2021-07-30T00:00:00\",\"2021-08-02T00:00:00\",\"2021-08-03T00:00:00\",\"2021-08-04T00:00:00\",\"2021-08-05T00:00:00\",\"2021-08-06T00:00:00\",\"2021-08-09T00:00:00\",\"2021-08-10T00:00:00\",\"2021-08-11T00:00:00\",\"2021-08-12T00:00:00\",\"2021-08-13T00:00:00\",\"2021-08-16T00:00:00\",\"2021-08-17T00:00:00\",\"2021-08-18T00:00:00\",\"2021-08-19T00:00:00\",\"2021-08-20T00:00:00\",\"2021-08-23T00:00:00\",\"2021-08-24T00:00:00\",\"2021-08-25T00:00:00\",\"2021-08-26T00:00:00\",\"2021-08-27T00:00:00\",\"2021-08-30T00:00:00\",\"2021-08-31T00:00:00\",\"2021-09-01T00:00:00\",\"2021-09-02T00:00:00\",\"2021-09-03T00:00:00\",\"2021-09-07T00:00:00\",\"2021-09-08T00:00:00\",\"2021-09-09T00:00:00\",\"2021-09-10T00:00:00\",\"2021-09-13T00:00:00\",\"2021-09-14T00:00:00\",\"2021-09-15T00:00:00\",\"2021-09-16T00:00:00\",\"2021-09-17T00:00:00\",\"2021-09-20T00:00:00\",\"2021-09-21T00:00:00\",\"2021-09-22T00:00:00\",\"2021-09-23T00:00:00\",\"2021-09-24T00:00:00\",\"2021-09-27T00:00:00\",\"2021-09-28T00:00:00\",\"2021-09-29T00:00:00\",\"2021-09-30T00:00:00\",\"2021-10-01T00:00:00\",\"2021-10-04T00:00:00\",\"2021-10-05T00:00:00\",\"2021-10-06T00:00:00\",\"2021-10-07T00:00:00\",\"2021-10-08T00:00:00\",\"2021-10-11T00:00:00\",\"2021-10-12T00:00:00\",\"2021-10-13T00:00:00\",\"2021-10-14T00:00:00\",\"2021-10-15T00:00:00\",\"2021-10-18T00:00:00\",\"2021-10-19T00:00:00\",\"2021-10-20T00:00:00\",\"2021-10-21T00:00:00\",\"2021-10-22T00:00:00\",\"2021-10-25T00:00:00\",\"2021-10-26T00:00:00\",\"2021-10-27T00:00:00\",\"2021-10-28T00:00:00\",\"2021-10-29T00:00:00\",\"2021-11-01T00:00:00\",\"2021-11-02T00:00:00\",\"2021-11-03T00:00:00\",\"2021-11-04T00:00:00\",\"2021-11-05T00:00:00\",\"2021-11-08T00:00:00\",\"2021-11-09T00:00:00\",\"2021-11-10T00:00:00\",\"2021-11-11T00:00:00\",\"2021-11-12T00:00:00\",\"2021-11-15T00:00:00\",\"2021-11-16T00:00:00\",\"2021-11-17T00:00:00\",\"2021-11-18T00:00:00\",\"2021-11-19T00:00:00\",\"2021-11-22T00:00:00\",\"2021-11-23T00:00:00\",\"2021-11-24T00:00:00\",\"2021-11-26T00:00:00\",\"2021-11-29T00:00:00\",\"2021-11-30T00:00:00\",\"2021-12-01T00:00:00\",\"2021-12-02T00:00:00\",\"2021-12-03T00:00:00\",\"2021-12-06T00:00:00\",\"2021-12-07T00:00:00\",\"2021-12-08T00:00:00\",\"2021-12-09T00:00:00\",\"2021-12-10T00:00:00\",\"2021-12-13T00:00:00\",\"2021-12-14T00:00:00\",\"2021-12-15T00:00:00\",\"2021-12-16T00:00:00\",\"2021-12-17T00:00:00\",\"2021-12-20T00:00:00\",\"2021-12-21T00:00:00\",\"2021-12-22T00:00:00\",\"2021-12-23T00:00:00\",\"2021-12-27T00:00:00\",\"2021-12-28T00:00:00\",\"2021-12-29T00:00:00\",\"2021-12-30T00:00:00\",\"2021-12-31T00:00:00\",\"2022-01-03T00:00:00\",\"2022-01-04T00:00:00\",\"2022-01-05T00:00:00\",\"2022-01-06T00:00:00\",\"2022-01-07T00:00:00\",\"2022-01-10T00:00:00\",\"2022-01-11T00:00:00\",\"2022-01-12T00:00:00\",\"2022-01-13T00:00:00\",\"2022-01-14T00:00:00\",\"2022-01-18T00:00:00\",\"2022-01-19T00:00:00\",\"2022-01-20T00:00:00\",\"2022-01-21T00:00:00\",\"2022-01-24T00:00:00\",\"2022-01-25T00:00:00\",\"2022-01-26T00:00:00\",\"2022-01-27T00:00:00\",\"2022-01-28T00:00:00\",\"2022-01-31T00:00:00\",\"2022-02-01T00:00:00\",\"2022-02-02T00:00:00\",\"2022-02-03T00:00:00\",\"2022-02-04T00:00:00\",\"2022-02-07T00:00:00\",\"2022-02-08T00:00:00\",\"2022-02-09T00:00:00\",\"2022-02-10T00:00:00\",\"2022-02-11T00:00:00\",\"2022-02-12T00:00:00\",\"2022-02-13T00:00:00\",\"2022-02-14T00:00:00\",\"2022-02-15T00:00:00\",\"2022-02-16T00:00:00\",\"2022-02-17T00:00:00\",\"2022-02-18T00:00:00\",\"2022-02-19T00:00:00\",\"2022-02-20T00:00:00\",\"2022-02-21T00:00:00\",\"2022-02-22T00:00:00\",\"2022-02-23T00:00:00\",\"2022-02-24T00:00:00\",\"2022-02-25T00:00:00\",\"2022-02-26T00:00:00\",\"2022-02-27T00:00:00\",\"2022-02-28T00:00:00\",\"2022-03-01T00:00:00\",\"2022-03-02T00:00:00\",\"2022-03-03T00:00:00\",\"2022-03-04T00:00:00\",\"2022-03-05T00:00:00\",\"2022-03-06T00:00:00\",\"2022-03-07T00:00:00\",\"2022-03-08T00:00:00\",\"2022-03-09T00:00:00\",\"2022-03-10T00:00:00\",\"2022-03-11T00:00:00\",\"2022-03-12T00:00:00\",\"2022-03-13T00:00:00\"],\"xaxis\":\"x\",\"y\":[706.2223189192882,707.8894767328115,699.2268468117956,696.8372378997528,703.4266457344804,701.458167644031,703.1253254576129,694.4626955365945,692.0730866246037,698.6624945024672,696.6940164262235,698.3611742541316,689.6985443474416,687.30893544967,693.8983433276261,691.9298652514356,693.5970230793209,684.9343931706393,682.5447842709324,689.1341921429289,687.1657140648203,688.8328718907288,680.170241982028,677.7806330823639,684.3700409544405,682.4015629091873,684.0687207680768,675.4060908923519,673.0164820257094,679.6058899966863,677.6374119514751,679.3045698103259,670.6419399345717,674.8417392494451,672.8732612569447,674.5404191684445,665.8777893454138,663.488180531253,670.0775886602156,668.1091106676673,669.7762685792093,661.1136387426802,658.7240299151094,665.313438003551,663.3449599975327,665.012117895565,656.3494880590246,653.9598792314806,660.5492873198763,658.5808093035105,660.2479671911287,651.5853373442474,649.19572850625,655.7851365633982,653.8166585470606,655.4838164346892,646.8211865877976,644.4315780398464,651.0209869669836,649.052509240501,650.7196674181191,642.0570378611849,639.6674293132605,646.2568382403881,644.2883605139475,646.0755966530518,637.5330450576399,635.2635144711378,642.2131572829227,640.3647575180802,642.1519936572039,633.6094420617635,631.3399114752881,637.7960753565399,639.9220417042975,631.7182203174465,629.7874199396309,637.753253377085,636.2435838208394,638.3695501685834,630.165728781703,628.7905429269056,638.4232199332605,637.4691649000504,640.150745770763,632.5025389069335,631.1273530519355,640.7600300583831,639.8059750251363,642.7927475473426,635.4497323349459,634.3797381314353,644.9279900923052,644.2791267103846,647.2658992325522,639.9228840201351,638.8528898166766,649.1933338135963,652.2903701902695,645.0576188323445,644.097888483416,654.9769320076788,654.4383324803428,657.5353688570104,650.3026174991456,649.540833859393,661.0137175112727,660.6730646930012,663.9680477788589,656.9332431301791,656.1714594904441,667.6443431423143,667.3036903240846,670.9099927460843,664.1865074335558,663.7360431298989,676.142884790367,676.1135513083824,679.7198537303756,672.9963684178535,672.5459041142394,686.0550020709056,686.393087354284,690.3668085417391,684.0107419946078,683.9276964564568,697.4367944130879,697.7748796964831,701.7486008839329,696.091517681976,696.7074554890546,712.3135034812124,713.3505721099001,718.0232766425388,712.3661934406414,712.9821312476671,728.588179239815,730.43724828311,735.921953230358,731.0768704430825,732.5048086647918,752.3959269440631,757.8806318912723,753.0355491039675,754.4634873257125,774.6483461599025,777.2116850691016,783.410659882428,779.2798469611707,781.4220550488453,801.6069138830911,804.1702527923546,810.3692276057006,806.8484700664036,809.6007335361186,831.6157585162955,834.7891528075644,841.5981830028761,838.0774254635766,840.8296889333346,862.8447139134403,866.4471114176876,873.6851448259108,870.593390499507,873.7746571820621,897.0766918012113,900.6790893053605,907.9171227135521,904.8253683872346,908.0066350622185,931.3086696585927,934.9110671551452,942.1491005558536,939.0573462219559,942.2386128969666,965.5406474933308,969.1430449899253,976.3810783870131,973.2893240495135,976.4705907209946,999.7726253065059,1003.3750227995836,1010.6130561966737,1007.5213018592423,1010.7025685306703,1028.909441913921,1030.8134523395981,1036.3530986692656,1031.5629572643977,1033.0458368684765,1051.252710251782,1053.1567206773611,1058.6963670070058,1051.4566172323466,1050.4898884666902,1061.3479367406726,1060.8023387964975,1063.8923767563579,1055.6858982159101,1066.543946489949,1065.9983485458383,1066.726527347862,1057.1249184153337,1053.7963304917525,1057.568801292215,1054.6613441902346,1055.3895229922844,1045.787914059736,1042.4593261362068,1046.2317969366345,1043.3243398346458,1044.052518636698,1034.450909704138,1031.122321780636,1034.8947925809812,1031.987335479082,1032.7155142811116,1023.11390534862,1023.5577882254006,1020.6503311234285,1021.3785099255253,1011.7769009930312,1008.448313069544,1012.2207838699347,1009.3133267678895,1010.041505569948,1000.4398966374246,997.1113087139731,1000.8837795143179,997.9763224123009,998.7045012143615,989.1028922818357,985.7743043582637,986.6393180567119,987.367496858792,977.7658879262378,974.4373000027177,978.2097708032713,975.3023137011733,976.0304925032058,966.4288835706401,963.100295647172,966.8727664476544,963.9653093455844,964.6934881476282,955.0918792150422,951.7632912914376,955.5357620920373,952.6283049900208,953.356483792033,943.7548748595332,940.4262869359168,996.7767536627972,995.1571815017752,944.1987577364204,941.291300634392,942.0194794364555,932.4178705039355,929.0892825803459,985.4397493072381,983.8201771461761,932.8617533808398,929.9542962788282,930.682475080878,921.0808661483376,917.7522782247999,974.1027449515109,972.4831727906853,921.5247490251866,918.6172919232393,919.3454707252827,909.7438617928196,906.4152738692542,962.765740595952,961.1461684350461,910.1877446696058,907.2802875676756,908.0084663697222,898.4068574372309,895.0782695137084,951.4287362404293,949.8091640794872],\"yaxis\":\"y\",\"type\":\"scatter\"}],                        {\"template\":{\"data\":{\"bar\":[{\"error_x\":{\"color\":\"#2a3f5f\"},\"error_y\":{\"color\":\"#2a3f5f\"},\"marker\":{\"line\":{\"color\":\"#E5ECF6\",\"width\":0.5},\"pattern\":{\"fillmode\":\"overlay\",\"size\":10,\"solidity\":0.2}},\"type\":\"bar\"}],\"barpolar\":[{\"marker\":{\"line\":{\"color\":\"#E5ECF6\",\"width\":0.5},\"pattern\":{\"fillmode\":\"overlay\",\"size\":10,\"solidity\":0.2}},\"type\":\"barpolar\"}],\"carpet\":[{\"aaxis\":{\"endlinecolor\":\"#2a3f5f\",\"gridcolor\":\"white\",\"linecolor\":\"white\",\"minorgridcolor\":\"white\",\"startlinecolor\":\"#2a3f5f\"},\"baxis\":{\"endlinecolor\":\"#2a3f5f\",\"gridcolor\":\"white\",\"linecolor\":\"white\",\"minorgridcolor\":\"white\",\"startlinecolor\":\"#2a3f5f\"},\"type\":\"carpet\"}],\"choropleth\":[{\"colorbar\":{\"outlinewidth\":0,\"ticks\":\"\"},\"type\":\"choropleth\"}],\"contour\":[{\"colorbar\":{\"outlinewidth\":0,\"ticks\":\"\"},\"colorscale\":[[0.0,\"#0d0887\"],[0.1111111111111111,\"#46039f\"],[0.2222222222222222,\"#7201a8\"],[0.3333333333333333,\"#9c179e\"],[0.4444444444444444,\"#bd3786\"],[0.5555555555555556,\"#d8576b\"],[0.6666666666666666,\"#ed7953\"],[0.7777777777777778,\"#fb9f3a\"],[0.8888888888888888,\"#fdca26\"],[1.0,\"#f0f921\"]],\"type\":\"contour\"}],\"contourcarpet\":[{\"colorbar\":{\"outlinewidth\":0,\"ticks\":\"\"},\"type\":\"contourcarpet\"}],\"heatmap\":[{\"colorbar\":{\"outlinewidth\":0,\"ticks\":\"\"},\"colorscale\":[[0.0,\"#0d0887\"],[0.1111111111111111,\"#46039f\"],[0.2222222222222222,\"#7201a8\"],[0.3333333333333333,\"#9c179e\"],[0.4444444444444444,\"#bd3786\"],[0.5555555555555556,\"#d8576b\"],[0.6666666666666666,\"#ed7953\"],[0.7777777777777778,\"#fb9f3a\"],[0.8888888888888888,\"#fdca26\"],[1.0,\"#f0f921\"]],\"type\":\"heatmap\"}],\"heatmapgl\":[{\"colorbar\":{\"outlinewidth\":0,\"ticks\":\"\"},\"colorscale\":[[0.0,\"#0d0887\"],[0.1111111111111111,\"#46039f\"],[0.2222222222222222,\"#7201a8\"],[0.3333333333333333,\"#9c179e\"],[0.4444444444444444,\"#bd3786\"],[0.5555555555555556,\"#d8576b\"],[0.6666666666666666,\"#ed7953\"],[0.7777777777777778,\"#fb9f3a\"],[0.8888888888888888,\"#fdca26\"],[1.0,\"#f0f921\"]],\"type\":\"heatmapgl\"}],\"histogram\":[{\"marker\":{\"pattern\":{\"fillmode\":\"overlay\",\"size\":10,\"solidity\":0.2}},\"type\":\"histogram\"}],\"histogram2d\":[{\"colorbar\":{\"outlinewidth\":0,\"ticks\":\"\"},\"colorscale\":[[0.0,\"#0d0887\"],[0.1111111111111111,\"#46039f\"],[0.2222222222222222,\"#7201a8\"],[0.3333333333333333,\"#9c179e\"],[0.4444444444444444,\"#bd3786\"],[0.5555555555555556,\"#d8576b\"],[0.6666666666666666,\"#ed7953\"],[0.7777777777777778,\"#fb9f3a\"],[0.8888888888888888,\"#fdca26\"],[1.0,\"#f0f921\"]],\"type\":\"histogram2d\"}],\"histogram2dcontour\":[{\"colorbar\":{\"outlinewidth\":0,\"ticks\":\"\"},\"colorscale\":[[0.0,\"#0d0887\"],[0.1111111111111111,\"#46039f\"],[0.2222222222222222,\"#7201a8\"],[0.3333333333333333,\"#9c179e\"],[0.4444444444444444,\"#bd3786\"],[0.5555555555555556,\"#d8576b\"],[0.6666666666666666,\"#ed7953\"],[0.7777777777777778,\"#fb9f3a\"],[0.8888888888888888,\"#fdca26\"],[1.0,\"#f0f921\"]],\"type\":\"histogram2dcontour\"}],\"mesh3d\":[{\"colorbar\":{\"outlinewidth\":0,\"ticks\":\"\"},\"type\":\"mesh3d\"}],\"parcoords\":[{\"line\":{\"colorbar\":{\"outlinewidth\":0,\"ticks\":\"\"}},\"type\":\"parcoords\"}],\"pie\":[{\"automargin\":true,\"type\":\"pie\"}],\"scatter\":[{\"marker\":{\"colorbar\":{\"outlinewidth\":0,\"ticks\":\"\"}},\"type\":\"scatter\"}],\"scatter3d\":[{\"line\":{\"colorbar\":{\"outlinewidth\":0,\"ticks\":\"\"}},\"marker\":{\"colorbar\":{\"outlinewidth\":0,\"ticks\":\"\"}},\"type\":\"scatter3d\"}],\"scattercarpet\":[{\"marker\":{\"colorbar\":{\"outlinewidth\":0,\"ticks\":\"\"}},\"type\":\"scattercarpet\"}],\"scattergeo\":[{\"marker\":{\"colorbar\":{\"outlinewidth\":0,\"ticks\":\"\"}},\"type\":\"scattergeo\"}],\"scattergl\":[{\"marker\":{\"colorbar\":{\"outlinewidth\":0,\"ticks\":\"\"}},\"type\":\"scattergl\"}],\"scattermapbox\":[{\"marker\":{\"colorbar\":{\"outlinewidth\":0,\"ticks\":\"\"}},\"type\":\"scattermapbox\"}],\"scatterpolar\":[{\"marker\":{\"colorbar\":{\"outlinewidth\":0,\"ticks\":\"\"}},\"type\":\"scatterpolar\"}],\"scatterpolargl\":[{\"marker\":{\"colorbar\":{\"outlinewidth\":0,\"ticks\":\"\"}},\"type\":\"scatterpolargl\"}],\"scatterternary\":[{\"marker\":{\"colorbar\":{\"outlinewidth\":0,\"ticks\":\"\"}},\"type\":\"scatterternary\"}],\"surface\":[{\"colorbar\":{\"outlinewidth\":0,\"ticks\":\"\"},\"colorscale\":[[0.0,\"#0d0887\"],[0.1111111111111111,\"#46039f\"],[0.2222222222222222,\"#7201a8\"],[0.3333333333333333,\"#9c179e\"],[0.4444444444444444,\"#bd3786\"],[0.5555555555555556,\"#d8576b\"],[0.6666666666666666,\"#ed7953\"],[0.7777777777777778,\"#fb9f3a\"],[0.8888888888888888,\"#fdca26\"],[1.0,\"#f0f921\"]],\"type\":\"surface\"}],\"table\":[{\"cells\":{\"fill\":{\"color\":\"#EBF0F8\"},\"line\":{\"color\":\"white\"}},\"header\":{\"fill\":{\"color\":\"#C8D4E3\"},\"line\":{\"color\":\"white\"}},\"type\":\"table\"}]},\"layout\":{\"annotationdefaults\":{\"arrowcolor\":\"#2a3f5f\",\"arrowhead\":0,\"arrowwidth\":1},\"autotypenumbers\":\"strict\",\"coloraxis\":{\"colorbar\":{\"outlinewidth\":0,\"ticks\":\"\"}},\"colorscale\":{\"diverging\":[[0,\"#8e0152\"],[0.1,\"#c51b7d\"],[0.2,\"#de77ae\"],[0.3,\"#f1b6da\"],[0.4,\"#fde0ef\"],[0.5,\"#f7f7f7\"],[0.6,\"#e6f5d0\"],[0.7,\"#b8e186\"],[0.8,\"#7fbc41\"],[0.9,\"#4d9221\"],[1,\"#276419\"]],\"sequential\":[[0.0,\"#0d0887\"],[0.1111111111111111,\"#46039f\"],[0.2222222222222222,\"#7201a8\"],[0.3333333333333333,\"#9c179e\"],[0.4444444444444444,\"#bd3786\"],[0.5555555555555556,\"#d8576b\"],[0.6666666666666666,\"#ed7953\"],[0.7777777777777778,\"#fb9f3a\"],[0.8888888888888888,\"#fdca26\"],[1.0,\"#f0f921\"]],\"sequentialminus\":[[0.0,\"#0d0887\"],[0.1111111111111111,\"#46039f\"],[0.2222222222222222,\"#7201a8\"],[0.3333333333333333,\"#9c179e\"],[0.4444444444444444,\"#bd3786\"],[0.5555555555555556,\"#d8576b\"],[0.6666666666666666,\"#ed7953\"],[0.7777777777777778,\"#fb9f3a\"],[0.8888888888888888,\"#fdca26\"],[1.0,\"#f0f921\"]]},\"colorway\":[\"#636efa\",\"#EF553B\",\"#00cc96\",\"#ab63fa\",\"#FFA15A\",\"#19d3f3\",\"#FF6692\",\"#B6E880\",\"#FF97FF\",\"#FECB52\"],\"font\":{\"color\":\"#2a3f5f\"},\"geo\":{\"bgcolor\":\"white\",\"lakecolor\":\"white\",\"landcolor\":\"#E5ECF6\",\"showlakes\":true,\"showland\":true,\"subunitcolor\":\"white\"},\"hoverlabel\":{\"align\":\"left\"},\"hovermode\":\"closest\",\"mapbox\":{\"style\":\"light\"},\"paper_bgcolor\":\"white\",\"plot_bgcolor\":\"#E5ECF6\",\"polar\":{\"angularaxis\":{\"gridcolor\":\"white\",\"linecolor\":\"white\",\"ticks\":\"\"},\"bgcolor\":\"#E5ECF6\",\"radialaxis\":{\"gridcolor\":\"white\",\"linecolor\":\"white\",\"ticks\":\"\"}},\"scene\":{\"xaxis\":{\"backgroundcolor\":\"#E5ECF6\",\"gridcolor\":\"white\",\"gridwidth\":2,\"linecolor\":\"white\",\"showbackground\":true,\"ticks\":\"\",\"zerolinecolor\":\"white\"},\"yaxis\":{\"backgroundcolor\":\"#E5ECF6\",\"gridcolor\":\"white\",\"gridwidth\":2,\"linecolor\":\"white\",\"showbackground\":true,\"ticks\":\"\",\"zerolinecolor\":\"white\"},\"zaxis\":{\"backgroundcolor\":\"#E5ECF6\",\"gridcolor\":\"white\",\"gridwidth\":2,\"linecolor\":\"white\",\"showbackground\":true,\"ticks\":\"\",\"zerolinecolor\":\"white\"}},\"shapedefaults\":{\"line\":{\"color\":\"#2a3f5f\"}},\"ternary\":{\"aaxis\":{\"gridcolor\":\"white\",\"linecolor\":\"white\",\"ticks\":\"\"},\"baxis\":{\"gridcolor\":\"white\",\"linecolor\":\"white\",\"ticks\":\"\"},\"bgcolor\":\"#E5ECF6\",\"caxis\":{\"gridcolor\":\"white\",\"linecolor\":\"white\",\"ticks\":\"\"}},\"title\":{\"x\":0.05},\"xaxis\":{\"automargin\":true,\"gridcolor\":\"white\",\"linecolor\":\"white\",\"ticks\":\"\",\"title\":{\"standoff\":15},\"zerolinecolor\":\"white\",\"zerolinewidth\":2},\"yaxis\":{\"automargin\":true,\"gridcolor\":\"white\",\"linecolor\":\"white\",\"ticks\":\"\",\"title\":{\"standoff\":15},\"zerolinecolor\":\"white\",\"zerolinewidth\":2}}},\"xaxis\":{\"anchor\":\"y\",\"domain\":[0.0,1.0],\"title\":{\"text\":\"ds\"}},\"yaxis\":{\"anchor\":\"x\",\"domain\":[0.0,1.0],\"title\":{\"text\":\"yhat\"}},\"legend\":{\"tracegroupgap\":0},\"margin\":{\"t\":60}},                        {\"responsive\": true}                    ).then(function(){\n",
              "                            \n",
              "var gd = document.getElementById('4afe6f7b-481b-4e4a-b9b3-ed7d8e14ac42');\n",
              "var x = new MutationObserver(function (mutations, observer) {{\n",
              "        var display = window.getComputedStyle(gd).display;\n",
              "        if (!display || display === 'none') {{\n",
              "            console.log([gd, 'removed!']);\n",
              "            Plotly.purge(gd);\n",
              "            observer.disconnect();\n",
              "        }}\n",
              "}});\n",
              "\n",
              "// Listen for the removal of the full notebook cells\n",
              "var notebookContainer = gd.closest('#notebook-container');\n",
              "if (notebookContainer) {{\n",
              "    x.observe(notebookContainer, {childList: true});\n",
              "}}\n",
              "\n",
              "// Listen for the clearing of the current output cell\n",
              "var outputEl = gd.closest('.output');\n",
              "if (outputEl) {{\n",
              "    x.observe(outputEl, {childList: true});\n",
              "}}\n",
              "\n",
              "                        })                };                            </script>        </div>\n",
              "</body>\n",
              "</html>"
            ]
          },
          "metadata": {}
        }
      ]
    },
    {
      "cell_type": "code",
      "source": [
        "figure = m.plot(forecast, xlabel='ds', ylabel='y')"
      ],
      "metadata": {
        "colab": {
          "base_uri": "https://localhost:8080/",
          "height": 441
        },
        "id": "lIu-WIs-LRHm",
        "outputId": "edf314e1-471f-4e89-a234-3407fa9884cc"
      },
      "execution_count": null,
      "outputs": [
        {
          "output_type": "display_data",
          "data": {
            "image/png": "[encoded data removed]",
            "text/plain": [
              "<Figure size 720x432 with 1 Axes>"
            ]
          },
          "metadata": {}
        }
      ]
    },
    {
      "cell_type": "code",
      "source": [
        "figure2 = m.plot_components(forecast)"
      ],
      "metadata": {
        "colab": {
          "base_uri": "https://localhost:8080/",
          "height": 441
        },
        "id": "MhZBWnWyLRKu",
        "outputId": "1a4918e6-f0b3-4e42-9fee-3d99fe30c717"
      },
      "execution_count": null,
      "outputs": [
        {
          "output_type": "display_data",
          "data": {
            "image/png": "[encoded data removed]",
            "text/plain": [
              "<Figure size 648x432 with 2 Axes>"
            ]
          },
          "metadata": {}
        }
      ]
    },
    {
      "cell_type": "markdown",
      "metadata": {
        "id": "6csAGFe7DTij"
      },
      "source": [
        "##Downloading the Forecast data"
      ]
    },
    {
      "cell_type": "code",
      "metadata": {
        "id": "FFchZPzWDY9c",
        "colab": {
          "base_uri": "https://localhost:8080/",
          "height": 17
        },
        "outputId": "f4c3312d-fc81-440c-9ed6-0c7b907f5b0f"
      },
      "source": [
        "from google.colab import files\n",
        "forecast.to_csv('forecast.csv')\n",
        "files.download('forecast.csv')"
      ],
      "execution_count": null,
      "outputs": [
        {
          "output_type": "display_data",
          "data": {
            "application/javascript": [
              "\n",
              "    async function download(id, filename, size) {\n",
              "      if (!google.colab.kernel.accessAllowed) {\n",
              "        return;\n",
              "      }\n",
              "      const div = document.createElement('div');\n",
              "      const label = document.createElement('label');\n",
              "      label.textContent = `Downloading \"${filename}\": `;\n",
              "      div.appendChild(label);\n",
              "      const progress = document.createElement('progress');\n",
              "      progress.max = size;\n",
              "      div.appendChild(progress);\n",
              "      document.body.appendChild(div);\n",
              "\n",
              "      const buffers = [];\n",
              "      let downloaded = 0;\n",
              "\n",
              "      const channel = await google.colab.kernel.comms.open(id);\n",
              "      // Send a message to notify the kernel that we're ready.\n",
              "      channel.send({})\n",
              "\n",
              "      for await (const message of channel.messages) {\n",
              "        // Send a message to notify the kernel that we're ready.\n",
              "        channel.send({})\n",
              "        if (message.buffers) {\n",
              "          for (const buffer of message.buffers) {\n",
              "            buffers.push(buffer);\n",
              "            downloaded += buffer.byteLength;\n",
              "            progress.value = downloaded;\n",
              "          }\n",
              "        }\n",
              "      }\n",
              "      const blob = new Blob(buffers, {type: 'application/binary'});\n",
              "      const a = document.createElement('a');\n",
              "      a.href = window.URL.createObjectURL(blob);\n",
              "      a.download = filename;\n",
              "      div.appendChild(a);\n",
              "      a.click();\n",
              "      div.remove();\n",
              "    }\n",
              "  "
            ],
            "text/plain": [
              "<IPython.core.display.Javascript object>"
            ]
          },
          "metadata": {}
        },
        {
          "output_type": "display_data",
          "data": {
            "application/javascript": [
              "download(\"download_a3c7fac6-3709-451c-acea-af8d8c5e5fc4\", \"forecast.csv\", 71460)"
            ],
            "text/plain": [
              "<IPython.core.display.Javascript object>"
            ]
          },
          "metadata": {}
        }
      ]
    }
  ]
}