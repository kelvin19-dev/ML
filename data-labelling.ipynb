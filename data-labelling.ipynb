{
 "cells": [
  {
   "cell_type": "markdown",
   "id": "b6705c2b",
   "metadata": {
    "papermill": {
     "duration": 0.049506,
     "end_time": "2022-02-17T22:05:20.893992",
     "exception": false,
     "start_time": "2022-02-17T22:05:20.844486",
     "status": "completed"
    },
    "tags": []
   },
   "source": [
    "# Data Labeling\n",
    "\n",
    "\n",
    "\n",
    "**The main objective of this note book is to compare performance across labeling options to understand the role that good labeling plays on the performance of Machine Learning models**, these options are:\n",
    "1. Randomly generated labels (performance lower bound)\n",
    "2. Automatic generated labels based on three different label strategies\n",
    "3. True labels (performance upper bound)\n",
    "\n",
    "In this notebook we will be working with text data, concretely we will be using a dataset containing comments from the 2015 top 5 most popular Youtube videos. Each comment has been labeled as `spam` or `not_spam` depending on its contents."
   ]
  },
  {
   "cell_type": "code",
   "execution_count": 1,
   "id": "84ddb69d",
   "metadata": {
    "execution": {
     "iopub.execute_input": "2022-02-17T22:05:20.998173Z",
     "iopub.status.busy": "2022-02-17T22:05:20.997041Z",
     "iopub.status.idle": "2022-02-17T22:05:21.006296Z",
     "shell.execute_reply": "2022-02-17T22:05:21.006893Z",
     "shell.execute_reply.started": "2022-02-17T22:03:21.583755Z"
    },
    "papermill": {
     "duration": 0.064026,
     "end_time": "2022-02-17T22:05:21.007192",
     "exception": false,
     "start_time": "2022-02-17T22:05:20.943166",
     "status": "completed"
    },
    "tags": []
   },
   "outputs": [],
   "source": [
    "import os\n",
    "import numpy as np\n",
    "import pandas as pd\n",
    "import matplotlib.pyplot as plt"
   ]
  },
  {
   "cell_type": "code",
   "execution_count": 2,
   "id": "8b50a796",
   "metadata": {
    "_kg_hide-output": false,
    "execution": {
     "iopub.execute_input": "2022-02-17T22:05:21.107177Z",
     "iopub.status.busy": "2022-02-17T22:05:21.106506Z",
     "iopub.status.idle": "2022-02-17T22:05:21.122822Z",
     "shell.execute_reply": "2022-02-17T22:05:21.123566Z",
     "shell.execute_reply.started": "2022-02-17T22:03:21.590634Z"
    },
    "papermill": {
     "duration": 0.068076,
     "end_time": "2022-02-17T22:05:21.123787",
     "exception": false,
     "start_time": "2022-02-17T22:05:21.055711",
     "status": "completed"
    },
    "tags": []
   },
   "outputs": [
    {
     "name": "stdout",
     "output_type": "stream",
     "text": [
      "/kaggle/input/images/Youtube05-Shakira.csv\n",
      "/kaggle/input/images/Youtube03-LMFAO.csv\n",
      "/kaggle/input/images/Youtube02-KatyPerry.csv\n",
      "/kaggle/input/images/Youtube01-Psy.csv\n",
      "/kaggle/input/images/Youtube04-Eminem.csv\n",
      "/kaggle/input/images/youtube-spam-collection-v1/Youtube05-Shakira.csv\n",
      "/kaggle/input/images/youtube-spam-collection-v1/Youtube03-LMFAO.csv\n",
      "/kaggle/input/images/youtube-spam-collection-v1/Youtube02-KatyPerry.csv\n",
      "/kaggle/input/images/youtube-spam-collection-v1/Youtube01-Psy.csv\n",
      "/kaggle/input/images/youtube-spam-collection-v1/Youtube04-Eminem.csv\n"
     ]
    }
   ],
   "source": [
    "import os\n",
    "for dirname, _, filenames in os.walk('/kaggle/input'):\n",
    "    for filename in filenames:\n",
    "        print(os.path.join(dirname, filename))"
   ]
  },
  {
   "cell_type": "markdown",
   "id": "979eb724",
   "metadata": {
    "papermill": {
     "duration": 0.049179,
     "end_time": "2022-02-17T22:05:21.223405",
     "exception": false,
     "start_time": "2022-02-17T22:05:21.174226",
     "status": "completed"
    },
    "tags": []
   },
   "source": [
    "## Loading the dataset\n",
    "\n",
    "The dataset consists of 5 CSV files, one for each video. Pandas `DataFrame` are very powerful to handle data in CSV format. The following helper function will load the data using pandas:"
   ]
  },
  {
   "cell_type": "code",
   "execution_count": 3,
   "id": "ae259864",
   "metadata": {
    "execution": {
     "iopub.execute_input": "2022-02-17T22:05:21.323291Z",
     "iopub.status.busy": "2022-02-17T22:05:21.322588Z",
     "iopub.status.idle": "2022-02-17T22:05:21.389368Z",
     "shell.execute_reply": "2022-02-17T22:05:21.388182Z",
     "shell.execute_reply.started": "2022-02-17T22:03:21.610054Z"
    },
    "papermill": {
     "duration": 0.11771,
     "end_time": "2022-02-17T22:05:21.389533",
     "exception": false,
     "start_time": "2022-02-17T22:05:21.271823",
     "status": "completed"
    },
    "tags": []
   },
   "outputs": [],
   "source": [
    "def load_labeled_spam_dataset():\n",
    "    \"\"\"Load labeled spam dataset.\"\"\"\n",
    "\n",
    "    # Path where csv files are located\n",
    "    \n",
    "    # List of csv files with full path\n",
    "    csv_files = [i for i in (os.path.join(dirname, f) for f in os.listdir(dirname)) if os.path.isfile(i)]\n",
    "    # List of dataframes for each file\n",
    "    dfs = [pd.read_csv(filename) for filename in csv_files]\n",
    "\n",
    "    # Concatenate dataframes into a single one\n",
    "    df = pd.concat(dfs)\n",
    "\n",
    "    # Rename columns\n",
    "    df = df.rename(columns={\"CONTENT\": \"text\", \"CLASS\": \"label\"})\n",
    "\n",
    "    # Set a seed for the order of rows\n",
    "    df = df.sample(frac=1, random_state=824)\n",
    "    \n",
    "    return df.reset_index()\n",
    "\n",
    "\n",
    "# Save the dataframe into the df_labeled variable\n",
    "df_labeled = load_labeled_spam_dataset()"
   ]
  },
  {
   "cell_type": "markdown",
   "id": "d11a5330",
   "metadata": {
    "papermill": {
     "duration": 0.047809,
     "end_time": "2022-02-17T22:05:21.486515",
     "exception": false,
     "start_time": "2022-02-17T22:05:21.438706",
     "status": "completed"
    },
    "tags": []
   },
   "source": [
    "To have a feeling of how the data is organized, let's inspect the top 5 rows of the data:"
   ]
  },
  {
   "cell_type": "code",
   "execution_count": 4,
   "id": "60e1f7f0",
   "metadata": {
    "execution": {
     "iopub.execute_input": "2022-02-17T22:05:21.590346Z",
     "iopub.status.busy": "2022-02-17T22:05:21.589582Z",
     "iopub.status.idle": "2022-02-17T22:05:21.604232Z",
     "shell.execute_reply": "2022-02-17T22:05:21.603698Z",
     "shell.execute_reply.started": "2022-02-17T22:03:21.652732Z"
    },
    "papermill": {
     "duration": 0.069362,
     "end_time": "2022-02-17T22:05:21.604385",
     "exception": false,
     "start_time": "2022-02-17T22:05:21.535023",
     "status": "completed"
    },
    "tags": []
   },
   "outputs": [
    {
     "data": {
      "text/html": [
       "<div>\n",
       "<style scoped>\n",
       "    .dataframe tbody tr th:only-of-type {\n",
       "        vertical-align: middle;\n",
       "    }\n",
       "\n",
       "    .dataframe tbody tr th {\n",
       "        vertical-align: top;\n",
       "    }\n",
       "\n",
       "    .dataframe thead th {\n",
       "        text-align: right;\n",
       "    }\n",
       "</style>\n",
       "<table border=\"1\" class=\"dataframe\">\n",
       "  <thead>\n",
       "    <tr style=\"text-align: right;\">\n",
       "      <th></th>\n",
       "      <th>index</th>\n",
       "      <th>COMMENT_ID</th>\n",
       "      <th>AUTHOR</th>\n",
       "      <th>DATE</th>\n",
       "      <th>text</th>\n",
       "      <th>label</th>\n",
       "    </tr>\n",
       "  </thead>\n",
       "  <tbody>\n",
       "    <tr>\n",
       "      <th>0</th>\n",
       "      <td>86</td>\n",
       "      <td>z12uzb3oxy23cbikz23qsjczaxz5wh1t5</td>\n",
       "      <td>luisel Tutoriales Gameplays (luisel Tutoriales)</td>\n",
       "      <td>2015-05-23T18:56:07.484000</td>\n",
       "      <td>music yeah﻿</td>\n",
       "      <td>0</td>\n",
       "    </tr>\n",
       "    <tr>\n",
       "      <th>1</th>\n",
       "      <td>291</td>\n",
       "      <td>z122z5pa2wyofbjj304cgfwrrmvjgn0pohc</td>\n",
       "      <td>Mia Aspinall</td>\n",
       "      <td>2014-11-08T10:30:35</td>\n",
       "      <td>2 billion views, only 2 million shares﻿</td>\n",
       "      <td>0</td>\n",
       "    </tr>\n",
       "    <tr>\n",
       "      <th>2</th>\n",
       "      <td>142</td>\n",
       "      <td>z13bttm5gxecfvrqq04cevkpuxj5s1u5ys40k</td>\n",
       "      <td>Vane Cavazos</td>\n",
       "      <td>2014-09-20T15:39:44</td>\n",
       "      <td>Katycat! https://m.facebook.com/profile.php?id...</td>\n",
       "      <td>1</td>\n",
       "    </tr>\n",
       "    <tr>\n",
       "      <th>3</th>\n",
       "      <td>147</td>\n",
       "      <td>z132zl1rupqcylbep23jgfig3um3ct5vv</td>\n",
       "      <td>KatyPerry TheQueenOfPop</td>\n",
       "      <td>2014-09-22T06:50:24</td>\n",
       "      <td>--&amp;gt;ATTENTION KATYCATS! Katy leads with 7 no...</td>\n",
       "      <td>1</td>\n",
       "    </tr>\n",
       "    <tr>\n",
       "      <th>4</th>\n",
       "      <td>326</td>\n",
       "      <td>z12usr54ppaxxf1dl23nhbybruapdnixw04</td>\n",
       "      <td>Arthur Teixeira</td>\n",
       "      <td>2014-11-12T20:12:47</td>\n",
       "      <td>I wanted to know the name of the guy that danc...</td>\n",
       "      <td>0</td>\n",
       "    </tr>\n",
       "  </tbody>\n",
       "</table>\n",
       "</div>"
      ],
      "text/plain": [
       "   index                             COMMENT_ID  \\\n",
       "0     86      z12uzb3oxy23cbikz23qsjczaxz5wh1t5   \n",
       "1    291    z122z5pa2wyofbjj304cgfwrrmvjgn0pohc   \n",
       "2    142  z13bttm5gxecfvrqq04cevkpuxj5s1u5ys40k   \n",
       "3    147      z132zl1rupqcylbep23jgfig3um3ct5vv   \n",
       "4    326    z12usr54ppaxxf1dl23nhbybruapdnixw04   \n",
       "\n",
       "                                            AUTHOR  \\\n",
       "0  luisel Tutoriales Gameplays (luisel Tutoriales)   \n",
       "1                                     Mia Aspinall   \n",
       "2                                     Vane Cavazos   \n",
       "3                          KatyPerry TheQueenOfPop   \n",
       "4                                  Arthur Teixeira   \n",
       "\n",
       "                         DATE  \\\n",
       "0  2015-05-23T18:56:07.484000   \n",
       "1         2014-11-08T10:30:35   \n",
       "2         2014-09-20T15:39:44   \n",
       "3         2014-09-22T06:50:24   \n",
       "4         2014-11-12T20:12:47   \n",
       "\n",
       "                                                text  label  \n",
       "0                                        music yeah﻿      0  \n",
       "1            2 billion views, only 2 million shares﻿      0  \n",
       "2  Katycat! https://m.facebook.com/profile.php?id...      1  \n",
       "3  --&gt;ATTENTION KATYCATS! Katy leads with 7 no...      1  \n",
       "4  I wanted to know the name of the guy that danc...      0  "
      ]
     },
     "execution_count": 4,
     "metadata": {},
     "output_type": "execute_result"
    }
   ],
   "source": [
    "# Take a look at the first 5 rows\n",
    "df_labeled.head()"
   ]
  },
  {
   "cell_type": "markdown",
   "id": "36dc1735",
   "metadata": {
    "papermill": {
     "duration": 0.048525,
     "end_time": "2022-02-17T22:05:21.702716",
     "exception": false,
     "start_time": "2022-02-17T22:05:21.654191",
     "status": "completed"
    },
    "tags": []
   },
   "source": [
    "## Further inspection and preprocessing\n",
    "\n",
    "\n",
    "### Checking for data imbalance\n",
    "\n",
    "It is fairly common to assume that the data you are working on is balanced. This means that the dataset contains a similar proportion of examples for all classes. Before moving forward let's actually test this assumption:"
   ]
  },
  {
   "cell_type": "code",
   "execution_count": 5,
   "id": "83a4d754",
   "metadata": {
    "execution": {
     "iopub.execute_input": "2022-02-17T22:05:21.804298Z",
     "iopub.status.busy": "2022-02-17T22:05:21.803639Z",
     "iopub.status.idle": "2022-02-17T22:05:21.975216Z",
     "shell.execute_reply": "2022-02-17T22:05:21.976063Z",
     "shell.execute_reply.started": "2022-02-17T22:03:21.666310Z"
    },
    "papermill": {
     "duration": 0.2238,
     "end_time": "2022-02-17T22:05:21.976359",
     "exception": false,
     "start_time": "2022-02-17T22:05:21.752559",
     "status": "completed"
    },
    "tags": []
   },
   "outputs": [
    {
     "name": "stdout",
     "output_type": "stream",
     "text": [
      "Value counts for each class:\n",
      "\n",
      "1    1005\n",
      "0     951\n",
      "Name: label, dtype: int64\n",
      "\n"
     ]
    },
    {
     "data": {
      "image/png": "[encoded data removed]",
      "text/plain": [
       "<Figure size 432x288 with 1 Axes>"
      ]
     },
     "metadata": {},
     "output_type": "display_data"
    }
   ],
   "source": [
    "# Print actual value count\n",
    "print(f\"Value counts for each class:\\n\\n{df_labeled.label.value_counts()}\\n\")\n",
    "\n",
    "# Display pie chart to visually check the proportion\n",
    "df_labeled.label.value_counts().plot.pie(y='label', title='Proportion of each class')\n",
    "plt.show()"
   ]
  },
  {
   "cell_type": "markdown",
   "id": "21bbddc1",
   "metadata": {
    "papermill": {
     "duration": 0.050222,
     "end_time": "2022-02-17T22:05:22.111863",
     "exception": false,
     "start_time": "2022-02-17T22:05:22.061641",
     "status": "completed"
    },
    "tags": []
   },
   "source": [
    "There is roughly the same number of data points for each class so class imbalance is not an issue for this particular dataset.\n",
    "\n",
    "\n",
    "### Cleaning the dataset\n",
    "\n",
    "If you scroll back to the cell where  you inspected the data, you will realize that the dataframe includes information that is not relevant for the task at hand. At the moment, you are only interested in the comments and the corresponding labels (the video that each comment belongs to will be used later). Let's drop the remaining columns."
   ]
  },
  {
   "cell_type": "code",
   "execution_count": 6,
   "id": "2b69417b",
   "metadata": {
    "execution": {
     "iopub.execute_input": "2022-02-17T22:05:22.234987Z",
     "iopub.status.busy": "2022-02-17T22:05:22.234288Z",
     "iopub.status.idle": "2022-02-17T22:05:22.244813Z",
     "shell.execute_reply": "2022-02-17T22:05:22.245531Z",
     "shell.execute_reply.started": "2022-02-17T22:03:21.754736Z"
    },
    "papermill": {
     "duration": 0.082215,
     "end_time": "2022-02-17T22:05:22.245716",
     "exception": false,
     "start_time": "2022-02-17T22:05:22.163501",
     "status": "completed"
    },
    "tags": []
   },
   "outputs": [
    {
     "data": {
      "text/html": [
       "<div>\n",
       "<style scoped>\n",
       "    .dataframe tbody tr th:only-of-type {\n",
       "        vertical-align: middle;\n",
       "    }\n",
       "\n",
       "    .dataframe tbody tr th {\n",
       "        vertical-align: top;\n",
       "    }\n",
       "\n",
       "    .dataframe thead th {\n",
       "        text-align: right;\n",
       "    }\n",
       "</style>\n",
       "<table border=\"1\" class=\"dataframe\">\n",
       "  <thead>\n",
       "    <tr style=\"text-align: right;\">\n",
       "      <th></th>\n",
       "      <th>text</th>\n",
       "      <th>label</th>\n",
       "    </tr>\n",
       "  </thead>\n",
       "  <tbody>\n",
       "    <tr>\n",
       "      <th>0</th>\n",
       "      <td>music yeah﻿</td>\n",
       "      <td>0</td>\n",
       "    </tr>\n",
       "    <tr>\n",
       "      <th>1</th>\n",
       "      <td>2 billion views, only 2 million shares﻿</td>\n",
       "      <td>0</td>\n",
       "    </tr>\n",
       "    <tr>\n",
       "      <th>2</th>\n",
       "      <td>Katycat! https://m.facebook.com/profile.php?id...</td>\n",
       "      <td>1</td>\n",
       "    </tr>\n",
       "    <tr>\n",
       "      <th>3</th>\n",
       "      <td>--&amp;gt;ATTENTION KATYCATS! Katy leads with 7 no...</td>\n",
       "      <td>1</td>\n",
       "    </tr>\n",
       "    <tr>\n",
       "      <th>4</th>\n",
       "      <td>I wanted to know the name of the guy that danc...</td>\n",
       "      <td>0</td>\n",
       "    </tr>\n",
       "  </tbody>\n",
       "</table>\n",
       "</div>"
      ],
      "text/plain": [
       "                                                text  label\n",
       "0                                        music yeah﻿      0\n",
       "1            2 billion views, only 2 million shares﻿      0\n",
       "2  Katycat! https://m.facebook.com/profile.php?id...      1\n",
       "3  --&gt;ATTENTION KATYCATS! Katy leads with 7 no...      1\n",
       "4  I wanted to know the name of the guy that danc...      0"
      ]
     },
     "execution_count": 6,
     "metadata": {},
     "output_type": "execute_result"
    }
   ],
   "source": [
    "# Drop unused columns\n",
    "df_labeled = df_labeled.drop(['index', 'COMMENT_ID', 'AUTHOR', 'DATE'], axis=1)\n",
    "\n",
    "# Look at the cleaned dataset\n",
    "df_labeled.head()"
   ]
  },
  {
   "cell_type": "markdown",
   "id": "98852b50",
   "metadata": {
    "papermill": {
     "duration": 0.054416,
     "end_time": "2022-02-17T22:05:22.355775",
     "exception": false,
     "start_time": "2022-02-17T22:05:22.301359",
     "status": "completed"
    },
    "tags": []
   },
   "source": [
    "Now the dataset only includes the information you are going to use moving forward.\n",
    "\n",
    "### Splitting the dataset\n",
    "\n",
    "Before jumping to the data labeling section let's split the data into training and test sets so you can use the latter to measure the performance of models that were trained using data labeled through different methods. As a safety measure when doing this split, remember to use stratification so the proportion of classes is maintained within each split."
   ]
  },
  {
   "cell_type": "code",
   "execution_count": 7,
   "id": "458601ed",
   "metadata": {
    "execution": {
     "iopub.execute_input": "2022-02-17T22:05:22.476134Z",
     "iopub.status.busy": "2022-02-17T22:05:22.475074Z",
     "iopub.status.idle": "2022-02-17T22:05:23.648124Z",
     "shell.execute_reply": "2022-02-17T22:05:23.647375Z",
     "shell.execute_reply.started": "2022-02-17T22:03:21.769417Z"
    },
    "papermill": {
     "duration": 1.239889,
     "end_time": "2022-02-17T22:05:23.648338",
     "exception": false,
     "start_time": "2022-02-17T22:05:22.408449",
     "status": "completed"
    },
    "tags": []
   },
   "outputs": [
    {
     "name": "stdout",
     "output_type": "stream",
     "text": [
      "There are 1564 comments for training.\n",
      "There are 392 comments for testing\n"
     ]
    }
   ],
   "source": [
    "from sklearn.model_selection import train_test_split\n",
    "\n",
    "# Save the text into the X variable\n",
    "X = df_labeled.drop(\"label\", axis=1)\n",
    "\n",
    "# Save the true labels into the y variable\n",
    "y = df_labeled[\"label\"]\n",
    "\n",
    "# Use 1/5 of the data for testing later\n",
    "X_train, X_test, y_train, y_test = train_test_split(X, y, test_size=0.2, random_state=42, stratify=y)\n",
    "\n",
    "# Print number of comments for each set\n",
    "print(f\"There are {X_train.shape[0]} comments for training.\")\n",
    "print(f\"There are {X_test.shape[0]} comments for testing\")"
   ]
  },
  {
   "cell_type": "markdown",
   "id": "5530821a",
   "metadata": {
    "papermill": {
     "duration": 0.051436,
     "end_time": "2022-02-17T22:05:23.752484",
     "exception": false,
     "start_time": "2022-02-17T22:05:23.701048",
     "status": "completed"
    },
    "tags": []
   },
   "source": [
    "Let's do a visual to check that the stratification actually worked:"
   ]
  },
  {
   "cell_type": "code",
   "execution_count": 8,
   "id": "b45acf1c",
   "metadata": {
    "execution": {
     "iopub.execute_input": "2022-02-17T22:05:23.859012Z",
     "iopub.status.busy": "2022-02-17T22:05:23.857801Z",
     "iopub.status.idle": "2022-02-17T22:05:24.112037Z",
     "shell.execute_reply": "2022-02-17T22:05:24.113000Z",
     "shell.execute_reply.started": "2022-02-17T22:03:21.791241Z"
    },
    "papermill": {
     "duration": 0.309792,
     "end_time": "2022-02-17T22:05:24.113313",
     "exception": false,
     "start_time": "2022-02-17T22:05:23.803521",
     "status": "completed"
    },
    "tags": []
   },
   "outputs": [
    {
     "data": {
      "image/png": "[encoded data removed]",
      "text/plain": [
       "<Figure size 720x432 with 2 Axes>"
      ]
     },
     "metadata": {},
     "output_type": "display_data"
    }
   ],
   "source": [
    "plt.subplot(1, 3, 1)\n",
    "y_train.value_counts().plot.pie(y='label', title='Proportion of each class for train set', figsize=(10, 6))\n",
    "\n",
    "plt.subplot(1, 3, 3)\n",
    "y_test.value_counts().plot.pie(y='label', title='Proportion of each class for test set', figsize=(10, 6))\n",
    "\n",
    "plt.tight_layout()\n",
    "plt.show()"
   ]
  },
  {
   "cell_type": "markdown",
   "id": "31203bc9",
   "metadata": {
    "papermill": {
     "duration": 0.051459,
     "end_time": "2022-02-17T22:05:24.241888",
     "exception": false,
     "start_time": "2022-02-17T22:05:24.190429",
     "status": "completed"
    },
    "tags": []
   },
   "source": [
    "Both, the training and test sets a balanced proportion of examples per class. So, the code successfully implemented stratification.  \n",
    "\n",
    "Let's get going!"
   ]
  },
  {
   "cell_type": "markdown",
   "id": "864972d0",
   "metadata": {
    "papermill": {
     "duration": 0.052614,
     "end_time": "2022-02-17T22:05:24.346612",
     "exception": false,
     "start_time": "2022-02-17T22:05:24.293998",
     "status": "completed"
    },
    "tags": []
   },
   "source": [
    "## Data Labeling \n",
    "\n",
    "### Establishing performance lower and upper bounds for reference\n",
    "\n",
    "To properly compare different labeling strategies you need to establish a baseline for model accuracy, in this case you will establish both a lower and an upper bound to compare against. \n",
    "\n"
   ]
  },
  {
   "cell_type": "markdown",
   "id": "723c5674",
   "metadata": {
    "papermill": {
     "duration": 0.051765,
     "end_time": "2022-02-17T22:05:24.453105",
     "exception": false,
     "start_time": "2022-02-17T22:05:24.401340",
     "status": "completed"
    },
    "tags": []
   },
   "source": [
    "### Calculate accuracy of a labeling strategy\n",
    "\n",
    "[CountVectorizer](https://scikit-learn.org/stable/modules/generated/sklearn.feature_extraction.text.CountVectorizer.html#sklearn.feature_extraction.text.CountVectorizer) is a handy tool included in the sklearn ecosystem to encode text based data.\n",
    "\n",
    "For more information on how to work with text data using sklearn check out this [resource](https://scikit-learn.org/stable/tutorial/text_analytics/working_with_text_data.html)."
   ]
  },
  {
   "cell_type": "code",
   "execution_count": 9,
   "id": "38566673",
   "metadata": {
    "execution": {
     "iopub.execute_input": "2022-02-17T22:05:24.563039Z",
     "iopub.status.busy": "2022-02-17T22:05:24.562158Z",
     "iopub.status.idle": "2022-02-17T22:05:24.577647Z",
     "shell.execute_reply": "2022-02-17T22:05:24.578195Z",
     "shell.execute_reply.started": "2022-02-17T22:03:21.976426Z"
    },
    "papermill": {
     "duration": 0.073252,
     "end_time": "2022-02-17T22:05:24.578387",
     "exception": false,
     "start_time": "2022-02-17T22:05:24.505135",
     "status": "completed"
    },
    "tags": []
   },
   "outputs": [],
   "source": [
    "from sklearn.feature_extraction.text import CountVectorizer\n",
    "\n",
    "# Allow unigrams and bigrams\n",
    "vectorizer = CountVectorizer(ngram_range=(1, 5))"
   ]
  },
  {
   "cell_type": "markdown",
   "id": "61cb3c63",
   "metadata": {
    "papermill": {
     "duration": 0.052403,
     "end_time": "2022-02-17T22:05:24.682791",
     "exception": false,
     "start_time": "2022-02-17T22:05:24.630388",
     "status": "completed"
    },
    "tags": []
   },
   "source": [
    "Now that the text encoding is defined, you need to select a model to make predictions. For simplicity you will use a [Multinomial Naive Bayes](https://scikit-learn.org/stable/modules/generated/sklearn.naive_bayes.MultinomialNB.html) classifier. This model is well suited for text classification and is fairly quick to train.\n",
    "\n",
    "Let's define a function which will handle the model fitting and print out the accuracy on the test data:"
   ]
  },
  {
   "cell_type": "code",
   "execution_count": 10,
   "id": "458fe625",
   "metadata": {
    "execution": {
     "iopub.execute_input": "2022-02-17T22:05:24.791246Z",
     "iopub.status.busy": "2022-02-17T22:05:24.790139Z",
     "iopub.status.idle": "2022-02-17T22:05:24.799986Z",
     "shell.execute_reply": "2022-02-17T22:05:24.800552Z",
     "shell.execute_reply.started": "2022-02-17T22:03:21.983635Z"
    },
    "papermill": {
     "duration": 0.065952,
     "end_time": "2022-02-17T22:05:24.800729",
     "exception": false,
     "start_time": "2022-02-17T22:05:24.734777",
     "status": "completed"
    },
    "tags": []
   },
   "outputs": [],
   "source": [
    "from sklearn.metrics import accuracy_score\n",
    "from sklearn.naive_bayes import MultinomialNB\n",
    "\n",
    "\n",
    "def calculate_accuracy(X_tr, y_tr, X_te=X_test, y_te=y_test, \n",
    "                       clf=MultinomialNB(), vectorizer=vectorizer):\n",
    "    \n",
    "    # Encode train text\n",
    "    X_train_vect = vectorizer.fit_transform(X_tr.text.tolist())\n",
    "    \n",
    "    # Fit model\n",
    "    clf.fit(X=X_train_vect, y=y_tr)\n",
    "    \n",
    "    # Vectorize test text\n",
    "    X_test_vect = vectorizer.transform(X_te.text.tolist())\n",
    "    \n",
    "    # Make predictions for the test set\n",
    "    preds = clf.predict(X_test_vect)\n",
    "    \n",
    "    # Return accuracy score\n",
    "    return accuracy_score(preds, y_te)\n"
   ]
  },
  {
   "cell_type": "markdown",
   "id": "75d73f54",
   "metadata": {
    "papermill": {
     "duration": 0.051891,
     "end_time": "2022-02-17T22:05:24.905306",
     "exception": false,
     "start_time": "2022-02-17T22:05:24.853415",
     "status": "completed"
    },
    "tags": []
   },
   "source": [
    "Now let's create a dictionary  to store the accuracy of each labeling method:"
   ]
  },
  {
   "cell_type": "code",
   "execution_count": 11,
   "id": "13a5eb57",
   "metadata": {
    "execution": {
     "iopub.execute_input": "2022-02-17T22:05:25.014361Z",
     "iopub.status.busy": "2022-02-17T22:05:25.013334Z",
     "iopub.status.idle": "2022-02-17T22:05:25.016999Z",
     "shell.execute_reply": "2022-02-17T22:05:25.017624Z",
     "shell.execute_reply.started": "2022-02-17T22:03:22.000421Z"
    },
    "papermill": {
     "duration": 0.06056,
     "end_time": "2022-02-17T22:05:25.017802",
     "exception": false,
     "start_time": "2022-02-17T22:05:24.957242",
     "status": "completed"
    },
    "tags": []
   },
   "outputs": [],
   "source": [
    "# Empty dictionary\n",
    "accs = dict()"
   ]
  },
  {
   "cell_type": "markdown",
   "id": "c50754ec",
   "metadata": {
    "papermill": {
     "duration": 0.053093,
     "end_time": "2022-02-17T22:05:25.123448",
     "exception": false,
     "start_time": "2022-02-17T22:05:25.070355",
     "status": "completed"
    },
    "tags": []
   },
   "source": [
    "### Random Labeling\n",
    "\n",
    "Generating random labels is a natural way to establish a lower bound. You will expect that any successful alternative labeling model to outperform randomly generated labels. \n",
    "\n",
    "Now let's calculate the accuracy for the random labeling method"
   ]
  },
  {
   "cell_type": "code",
   "execution_count": 12,
   "id": "1cb42ab1",
   "metadata": {
    "execution": {
     "iopub.execute_input": "2022-02-17T22:05:25.230860Z",
     "iopub.status.busy": "2022-02-17T22:05:25.229828Z",
     "iopub.status.idle": "2022-02-17T22:05:25.636109Z",
     "shell.execute_reply": "2022-02-17T22:05:25.636757Z",
     "shell.execute_reply.started": "2022-02-17T22:03:22.013652Z"
    },
    "papermill": {
     "duration": 0.461698,
     "end_time": "2022-02-17T22:05:25.636925",
     "exception": false,
     "start_time": "2022-02-17T22:05:25.175227",
     "status": "completed"
    },
    "tags": []
   },
   "outputs": [
    {
     "data": {
      "text/plain": [
       "0.4005102040816326"
      ]
     },
     "execution_count": 12,
     "metadata": {},
     "output_type": "execute_result"
    }
   ],
   "source": [
    "# Calculate random labels\n",
    "rnd_labels = np.random.randint(0, 2, X_train.shape[0])\n",
    "\n",
    "# Feed them alongside X_train to calculate_accuracy function\n",
    "rnd_acc = calculate_accuracy(X_train, rnd_labels)\n",
    "\n",
    "rnd_acc"
   ]
  },
  {
   "cell_type": "markdown",
   "id": "15374279",
   "metadata": {
    "papermill": {
     "duration": 0.052551,
     "end_time": "2022-02-17T22:05:25.742861",
     "exception": false,
     "start_time": "2022-02-17T22:05:25.690310",
     "status": "completed"
    },
    "tags": []
   },
   "source": [
    "You will see a different accuracy everytime you run the previous cell. This is due to the fact that the labeling is done randomly. Remember, this is a binary classification problem and both classes are balanced, so you can expect to see accuracies that revolve around 50%.\n",
    "\n",
    "To further gain intuition let's look at the average accuracy over 10 runs:"
   ]
  },
  {
   "cell_type": "code",
   "execution_count": 13,
   "id": "69ebaaea",
   "metadata": {
    "execution": {
     "iopub.execute_input": "2022-02-17T22:05:25.851645Z",
     "iopub.status.busy": "2022-02-17T22:05:25.850625Z",
     "iopub.status.idle": "2022-02-17T22:05:29.757513Z",
     "shell.execute_reply": "2022-02-17T22:05:29.758121Z",
     "shell.execute_reply.started": "2022-02-17T22:03:22.414242Z"
    },
    "papermill": {
     "duration": 3.963112,
     "end_time": "2022-02-17T22:05:29.758326",
     "exception": false,
     "start_time": "2022-02-17T22:05:25.795214",
     "status": "completed"
    },
    "tags": []
   },
   "outputs": [
    {
     "name": "stdout",
     "output_type": "stream",
     "text": [
      "The random labelling method achieved and accuracy of 51.86%\n"
     ]
    }
   ],
   "source": [
    "# Empty list to save accuracies\n",
    "rnd_accs = []\n",
    "\n",
    "for _ in range(10):\n",
    "    # Add every accuracy to the list\n",
    "    rnd_accs.append(calculate_accuracy(X_train, np.random.randint(0, 2, X_train.shape[0])))\n",
    "\n",
    "# Save result in accs dictionary\n",
    "accs['random-labels'] = sum(rnd_accs)/len(rnd_accs)\n",
    "\n",
    "# Print result\n",
    "print(f\"The random labelling method achieved and accuracy of {accs['random-labels']*100:.2f}%\")"
   ]
  },
  {
   "cell_type": "markdown",
   "id": "04c70899",
   "metadata": {
    "papermill": {
     "duration": 0.052698,
     "end_time": "2022-02-17T22:05:29.863763",
     "exception": false,
     "start_time": "2022-02-17T22:05:29.811065",
     "status": "completed"
    },
    "tags": []
   },
   "source": [
    "Random labelling is completely disregarding the information from the solution space you are working on, and is just guessing the correct label. You can't probably do worse than this (or maybe you can). For this reason, this method serves as reference for comparing other labeling methods\n",
    "\n",
    "\n",
    "### Labeling with true values\n",
    "\n",
    "Now let's look at the other end of the spectrum, this is using the correct labels for your data points. Let's retrain the Multinomial Naive Bayes classifier with the actual labels "
   ]
  },
  {
   "cell_type": "code",
   "execution_count": 14,
   "id": "17b06996",
   "metadata": {
    "execution": {
     "iopub.execute_input": "2022-02-17T22:05:29.975942Z",
     "iopub.status.busy": "2022-02-17T22:05:29.974920Z",
     "iopub.status.idle": "2022-02-17T22:05:30.365135Z",
     "shell.execute_reply": "2022-02-17T22:05:30.365649Z",
     "shell.execute_reply.started": "2022-02-17T22:03:26.339164Z"
    },
    "papermill": {
     "duration": 0.447595,
     "end_time": "2022-02-17T22:05:30.365822",
     "exception": false,
     "start_time": "2022-02-17T22:05:29.918227",
     "status": "completed"
    },
    "tags": []
   },
   "outputs": [
    {
     "name": "stdout",
     "output_type": "stream",
     "text": [
      "The true labelling method achieved and accuracy of 91.58%\n"
     ]
    }
   ],
   "source": [
    "# Calculate accuracy when using the true labels\n",
    "true_acc = calculate_accuracy(X_train, y_train)\n",
    "\n",
    "# Save the result\n",
    "accs['true-labels'] = true_acc\n",
    "\n",
    "print(f\"The true labelling method achieved and accuracy of {accs['true-labels']*100:.2f}%\")"
   ]
  },
  {
   "cell_type": "markdown",
   "id": "65e52593",
   "metadata": {
    "papermill": {
     "duration": 0.053528,
     "end_time": "2022-02-17T22:05:30.473748",
     "exception": false,
     "start_time": "2022-02-17T22:05:30.420220",
     "status": "completed"
    },
    "tags": []
   },
   "source": [
    "Training with the true labels produced a noticeable boost in accuracy. This is expected as the classifier is now able to properly identify patterns in the training data which were lacking with randomly generated labels. \n",
    "\n",
    "Achieving higher accuracy is possible by either fine-tunning the model or even selecting a different one. For the time being you will keep the model as it is and use this accuracy as what we should strive for with the automatic labeling algorithms you will see next."
   ]
  },
  {
   "cell_type": "markdown",
   "id": "cd0bed4c",
   "metadata": {
    "papermill": {
     "duration": 0.053925,
     "end_time": "2022-02-17T22:05:30.582876",
     "exception": false,
     "start_time": "2022-02-17T22:05:30.528951",
     "status": "completed"
    },
    "tags": []
   },
   "source": [
    "## Automatic labeling - Trying out different labeling strategies"
   ]
  },
  {
   "cell_type": "markdown",
   "id": "410e04be",
   "metadata": {
    "papermill": {
     "duration": 0.053578,
     "end_time": "2022-02-17T22:05:30.690674",
     "exception": false,
     "start_time": "2022-02-17T22:05:30.637096",
     "status": "completed"
    },
    "tags": []
   },
   "source": [
    "Let's suppose that for some reason you don't have access to the true labels associated with each data point in this dataset. It is a natural idea to think that there are patterns in the data that will provide clues of which are the correct labels. This is of course very dependant on the kind of data you are working with and to even hypothesize which patterns exist requires great domain knowledge.\n",
    "\n",
    "The dataset used in this lab was used for this reason. It is reasonable for many people to come up with rules that might help identify a spam comment from a non-spam one for a Youtube video. In the following section you will be performing automatic labeling using such rules. **You can think of each iteration of this process as a labeler with different criteria for labeling** and your job is to hire the most promising one.\n",
    "\n",
    "Notice the word **rules**. In order to perform automatic labeling you will define some rules such as \"if the comment contains the word 'free' classify it as spam\".\n",
    "\n",
    "First things first. Let's define how we are going to encode the labeling:\n",
    "- `SPAM` is represented by 1\n",
    "\n",
    "\n",
    "- `NOT_SPAM` by 0 \n",
    "\n",
    "\n",
    "- `NO_LABEL` as -1\n",
    "\n",
    "\n",
    "You might be wondering about the `NO_LABEL` keyword. Depending on the rules you come up with, these might not be applicable to some data points. For such cases it is better to refuse from giving a label rather than guessing, which you already saw yields poor results."
   ]
  },
  {
   "cell_type": "markdown",
   "id": "562e149c",
   "metadata": {
    "papermill": {
     "duration": 0.054624,
     "end_time": "2022-02-17T22:05:30.799994",
     "exception": false,
     "start_time": "2022-02-17T22:05:30.745370",
     "status": "completed"
    },
    "tags": []
   },
   "source": [
    "### First iteration - Define some rules\n",
    "\n",
    "For this first iteration you will create three  rules based on the intuition of common patterns that appear on spam comments. The rules are simple, classify as SPAM if any of the following patterns is present within the comment or NO_LABEL otherwise:\n",
    "- `free` - spam comments usually lure users by promoting free stuff\n",
    "- `subs` - spam comments tend to ask users to subscribe to some website or channel\n",
    "- `http` - spam comments include links very frequently"
   ]
  },
  {
   "cell_type": "code",
   "execution_count": 15,
   "id": "836e6702",
   "metadata": {
    "execution": {
     "iopub.execute_input": "2022-02-17T22:05:30.912718Z",
     "iopub.status.busy": "2022-02-17T22:05:30.911707Z",
     "iopub.status.idle": "2022-02-17T22:05:30.916453Z",
     "shell.execute_reply": "2022-02-17T22:05:30.916993Z",
     "shell.execute_reply.started": "2022-02-17T22:03:26.752810Z"
    },
    "papermill": {
     "duration": 0.062579,
     "end_time": "2022-02-17T22:05:30.917167",
     "exception": false,
     "start_time": "2022-02-17T22:05:30.854588",
     "status": "completed"
    },
    "tags": []
   },
   "outputs": [],
   "source": [
    "def labeling_rules_1(x):\n",
    "    \n",
    "    # Convert text to lowercase\n",
    "    x = x.lower()\n",
    "    \n",
    "    # Define list of rules\n",
    "    rules = [\n",
    "        \"free\" in x,\n",
    "        \"subs\" in x,\n",
    "        \"http\" in x\n",
    "    ]\n",
    "    \n",
    "    # If the comment falls under any of the rules classify as SPAM\n",
    "    if any(rules):\n",
    "        return 1\n",
    "    \n",
    "    # Otherwise, NO_LABEL\n",
    "    return -1"
   ]
  },
  {
   "cell_type": "code",
   "execution_count": 16,
   "id": "60d26dd6",
   "metadata": {
    "execution": {
     "iopub.execute_input": "2022-02-17T22:05:31.033564Z",
     "iopub.status.busy": "2022-02-17T22:05:31.032874Z",
     "iopub.status.idle": "2022-02-17T22:05:31.036446Z",
     "shell.execute_reply": "2022-02-17T22:05:31.036955Z",
     "shell.execute_reply.started": "2022-02-17T22:03:26.762529Z"
    },
    "papermill": {
     "duration": 0.066501,
     "end_time": "2022-02-17T22:05:31.037132",
     "exception": false,
     "start_time": "2022-02-17T22:05:30.970631",
     "status": "completed"
    },
    "tags": []
   },
   "outputs": [
    {
     "data": {
      "text/plain": [
       "array([-1, -1, -1, ..., -1, -1,  1])"
      ]
     },
     "execution_count": 16,
     "metadata": {},
     "output_type": "execute_result"
    }
   ],
   "source": [
    "# Apply the rules the comments in the train set\n",
    "labels = [labeling_rules_1(label) for label in X_train.text]\n",
    "\n",
    "# Convert to a numpy array\n",
    "labels = np.asarray(labels)\n",
    "\n",
    "# Take a look at the automatic labels\n",
    "labels"
   ]
  },
  {
   "cell_type": "markdown",
   "id": "248c970c",
   "metadata": {
    "papermill": {
     "duration": 0.053218,
     "end_time": "2022-02-17T22:05:31.144210",
     "exception": false,
     "start_time": "2022-02-17T22:05:31.090992",
     "status": "completed"
    },
    "tags": []
   },
   "source": [
    "For lots of points the automatic labeling algorithm decided to not settle for a label, this is expected given the nature of the rules that were defined. These points should be deleted since they don't provide information about the classification process and tend to hurt performance."
   ]
  },
  {
   "cell_type": "code",
   "execution_count": 17,
   "id": "7e533bb5",
   "metadata": {
    "execution": {
     "iopub.execute_input": "2022-02-17T22:05:31.255944Z",
     "iopub.status.busy": "2022-02-17T22:05:31.255253Z",
     "iopub.status.idle": "2022-02-17T22:05:31.262829Z",
     "shell.execute_reply": "2022-02-17T22:05:31.263551Z",
     "shell.execute_reply.started": "2022-02-17T22:03:26.780579Z"
    },
    "papermill": {
     "duration": 0.065868,
     "end_time": "2022-02-17T22:05:31.263730",
     "exception": false,
     "start_time": "2022-02-17T22:05:31.197862",
     "status": "completed"
    },
    "tags": []
   },
   "outputs": [
    {
     "name": "stdout",
     "output_type": "stream",
     "text": [
      "Predictions with concrete label have shape: (379,)\n",
      "Proportion of data points kept: 24.23%\n"
     ]
    }
   ],
   "source": [
    "# Create the automatic labeled version of X_train by removing points with NO_LABEL label\n",
    "X_train_al = X_train[labels != -1]\n",
    "\n",
    "# Remove predictions with NO_LABEL label\n",
    "labels_al = labels[labels != -1]\n",
    "\n",
    "print(f\"Predictions with concrete label have shape: {labels_al.shape}\")\n",
    "\n",
    "print(f\"Proportion of data points kept: {labels_al.shape[0]/labels.shape[0]*100:.2f}%\")"
   ]
  },
  {
   "cell_type": "markdown",
   "id": "11c39ca2",
   "metadata": {
    "papermill": {
     "duration": 0.05334,
     "end_time": "2022-02-17T22:05:31.372111",
     "exception": false,
     "start_time": "2022-02-17T22:05:31.318771",
     "status": "completed"
    },
    "tags": []
   },
   "source": [
    "Notice that only 379 data points remained out of the original 1564. The rules defined didn't provide enough context for the labeling algorithm to settle on a label, so around 75% of the data has been trimmed.\n",
    "\n",
    "Let's test the accuracy of the model when using these automatic generated labels:"
   ]
  },
  {
   "cell_type": "code",
   "execution_count": 18,
   "id": "65f12788",
   "metadata": {
    "execution": {
     "iopub.execute_input": "2022-02-17T22:05:31.485108Z",
     "iopub.status.busy": "2022-02-17T22:05:31.484457Z",
     "iopub.status.idle": "2022-02-17T22:05:31.694886Z",
     "shell.execute_reply": "2022-02-17T22:05:31.694298Z",
     "shell.execute_reply.started": "2022-02-17T22:03:26.796059Z"
    },
    "papermill": {
     "duration": 0.267431,
     "end_time": "2022-02-17T22:05:31.695037",
     "exception": false,
     "start_time": "2022-02-17T22:05:31.427606",
     "status": "completed"
    },
    "tags": []
   },
   "outputs": [
    {
     "name": "stdout",
     "output_type": "stream",
     "text": [
      "First iteration of automatic labeling has an accuracy of 51.28%\n"
     ]
    }
   ],
   "source": [
    "# Compute accuracy when using these labels\n",
    "iter_1_acc = calculate_accuracy(X_train_al, labels_al)\n",
    "\n",
    "# Display accuracy\n",
    "print(f\"First iteration of automatic labeling has an accuracy of {iter_1_acc*100:.2f}%\")\n",
    "\n",
    "# Save the result\n",
    "accs['first-iteration'] = iter_1_acc"
   ]
  },
  {
   "cell_type": "markdown",
   "id": "332e10ad",
   "metadata": {
    "papermill": {
     "duration": 0.054642,
     "end_time": "2022-02-17T22:05:31.804629",
     "exception": false,
     "start_time": "2022-02-17T22:05:31.749987",
     "status": "completed"
    },
    "tags": []
   },
   "source": [
    "Let's compare this accuracy to the baselines by plotting:"
   ]
  },
  {
   "cell_type": "code",
   "execution_count": 19,
   "id": "32b4e9c3",
   "metadata": {
    "execution": {
     "iopub.execute_input": "2022-02-17T22:05:31.936019Z",
     "iopub.status.busy": "2022-02-17T22:05:31.930286Z",
     "iopub.status.idle": "2022-02-17T22:05:32.170154Z",
     "shell.execute_reply": "2022-02-17T22:05:32.169615Z",
     "shell.execute_reply.started": "2022-02-17T22:03:26.981629Z"
    },
    "papermill": {
     "duration": 0.310877,
     "end_time": "2022-02-17T22:05:32.170317",
     "exception": false,
     "start_time": "2022-02-17T22:05:31.859440",
     "status": "completed"
    },
    "tags": []
   },
   "outputs": [
    {
     "data": {
      "image/png": "[encoded data removed]",
      "text/plain": [
       "<Figure size 432x288 with 1 Axes>"
      ]
     },
     "metadata": {
      "needs_background": "light"
     },
     "output_type": "display_data"
    }
   ],
   "source": [
    "def plot_accuracies(accs=accs):\n",
    "    colors = list(\"rgbcmy\")\n",
    "    items_num = len(accs)\n",
    "    cont = 1\n",
    "\n",
    "    for x, y in accs.items():\n",
    "        if x in ['true-labels', 'random-labels', 'true-labels-best-clf']:\n",
    "            plt.hlines(y, 0, (items_num-2)*2, colors=colors.pop())\n",
    "        else:\n",
    "            plt.scatter(cont, y, s=100)\n",
    "            cont+=2\n",
    "    plt.legend(accs.keys(), loc=\"center left\",bbox_to_anchor=(1, 0.5))\n",
    "    plt.show()\n",
    "    \n",
    "plot_accuracies()"
   ]
  },
  {
   "cell_type": "markdown",
   "id": "ec956860",
   "metadata": {
    "papermill": {
     "duration": 0.055296,
     "end_time": "2022-02-17T22:05:32.281094",
     "exception": false,
     "start_time": "2022-02-17T22:05:32.225798",
     "status": "completed"
    },
    "tags": []
   },
   "source": [
    "This first iteration had an accuracy very close to the random labeling, we should strive to do better than this. "
   ]
  },
  {
   "cell_type": "markdown",
   "id": "5f50bb47",
   "metadata": {
    "papermill": {
     "duration": 0.055091,
     "end_time": "2022-02-17T22:05:32.392073",
     "exception": false,
     "start_time": "2022-02-17T22:05:32.336982",
     "status": "completed"
    },
    "tags": []
   },
   "source": [
    "Before moving forward let's define the `label_given_rules` function that performs all of the steps you just saw, these are: \n",
    "- Apply the rules to a dataframe of comments\n",
    "- Cast the resulting labels to a numpy array\n",
    "- Delete all data points with NO_LABEL as label\n",
    "- Calculate the accuracy of the model using the automatic labels\n",
    "- Save the accuracy for plotting\n",
    "- Print some useful metrics of the process"
   ]
  },
  {
   "cell_type": "code",
   "execution_count": 20,
   "id": "c948911e",
   "metadata": {
    "execution": {
     "iopub.execute_input": "2022-02-17T22:05:32.508836Z",
     "iopub.status.busy": "2022-02-17T22:05:32.508034Z",
     "iopub.status.idle": "2022-02-17T22:05:32.514876Z",
     "shell.execute_reply": "2022-02-17T22:05:32.515400Z",
     "shell.execute_reply.started": "2022-02-17T22:03:27.165371Z"
    },
    "papermill": {
     "duration": 0.06676,
     "end_time": "2022-02-17T22:05:32.515567",
     "exception": false,
     "start_time": "2022-02-17T22:05:32.448807",
     "status": "completed"
    },
    "tags": []
   },
   "outputs": [],
   "source": [
    "def label_given_rules(df, rules_function, name, \n",
    "                      accs_dict=accs, verbose=True):\n",
    "    \n",
    "    # Apply labeling rules to the comments\n",
    "    labels = [rules_function(label) for label in df.text]\n",
    "    \n",
    "    # Convert to a numpy array\n",
    "    labels = np.asarray(labels)\n",
    "    \n",
    "    # Save initial number of data points\n",
    "    initial_size = labels.shape[0]\n",
    "    \n",
    "    # Trim points with NO_LABEL label\n",
    "    X_train_al = df[labels != -1]\n",
    "    labels = labels[labels != -1]\n",
    "    \n",
    "    # Save number of data points after trimming\n",
    "    final_size = labels.shape[0]\n",
    "    \n",
    "    # Compute accuracy\n",
    "    acc = calculate_accuracy(X_train_al, labels)\n",
    "    \n",
    "    # Print useful information\n",
    "    if verbose:\n",
    "        print(f\"Proportion of data points kept: {final_size/initial_size*100:.2f}%\\n\")\n",
    "        print(f\"{name} labeling has an accuracy of {acc*100:.2f}%\\n\")\n",
    "        \n",
    "    # Save accuracy to accuracies dictionary\n",
    "    accs_dict[name] = acc\n",
    "    \n",
    "    return X_train_al, labels, acc"
   ]
  },
  {
   "cell_type": "markdown",
   "id": "2aa7773e",
   "metadata": {
    "papermill": {
     "duration": 0.05578,
     "end_time": "2022-02-17T22:05:32.627887",
     "exception": false,
     "start_time": "2022-02-17T22:05:32.572107",
     "status": "completed"
    },
    "tags": []
   },
   "source": [
    "Going forward we should come up with rules that have a better coverage of the training data, thus making pattern discovery an easier task. Also notice how the rules were only able to label as either SPAM or NO_LABEL, we should also create some rules that help the identification of NOT_SPAM comments."
   ]
  },
  {
   "cell_type": "markdown",
   "id": "9f94bf52",
   "metadata": {
    "papermill": {
     "duration": 0.055272,
     "end_time": "2022-02-17T22:05:32.738317",
     "exception": false,
     "start_time": "2022-02-17T22:05:32.683045",
     "status": "completed"
    },
    "tags": []
   },
   "source": [
    "### Second iteration - Coming up with better rules\n",
    "\n",
    "If you inspect the comments in the dataset you might be able to distinguish certain patterns at a glimpse. For example, not spam comments often make references to either the number of views since these were the most watched videos of 2015 or the song in the video and its contents . As for spam comments other common patterns are to promote gifts or ask to follow some channel or website.\n",
    "\n",
    "Let's create some new rules that include these patterns:"
   ]
  },
  {
   "cell_type": "code",
   "execution_count": 21,
   "id": "2204d86d",
   "metadata": {
    "execution": {
     "iopub.execute_input": "2022-02-17T22:05:32.853709Z",
     "iopub.status.busy": "2022-02-17T22:05:32.852985Z",
     "iopub.status.idle": "2022-02-17T22:05:32.858376Z",
     "shell.execute_reply": "2022-02-17T22:05:32.858880Z",
     "shell.execute_reply.started": "2022-02-17T22:03:27.176118Z"
    },
    "papermill": {
     "duration": 0.065076,
     "end_time": "2022-02-17T22:05:32.859048",
     "exception": false,
     "start_time": "2022-02-17T22:05:32.793972",
     "status": "completed"
    },
    "tags": []
   },
   "outputs": [],
   "source": [
    "def labeling_rules_2(x):\n",
    "    \n",
    "    # Convert text to lowercase\n",
    "    x = x.lower()\n",
    "    \n",
    "    # Define list of rules to classify as NOT_SPAM\n",
    "    not_spam_rules = [\n",
    "        \"view\" in x,\n",
    "        \"song\" in x\n",
    "    ]\n",
    "    \n",
    "    # Define list of rules to classify as SPAM\n",
    "    spam_rules = [\n",
    "        \"free\" in x,\n",
    "        \"subs\" in x,\n",
    "        \"gift\" in x,\n",
    "        \"follow\" in x,\n",
    "        \"http\" in x\n",
    "    ]\n",
    "    \n",
    "    # Classify depending on the rules\n",
    "    if any(not_spam_rules):\n",
    "        return 0\n",
    "    \n",
    "    if any(spam_rules):\n",
    "        return 1\n",
    "    \n",
    "    return -1"
   ]
  },
  {
   "cell_type": "markdown",
   "id": "825de991",
   "metadata": {
    "papermill": {
     "duration": 0.055266,
     "end_time": "2022-02-17T22:05:32.969594",
     "exception": false,
     "start_time": "2022-02-17T22:05:32.914328",
     "status": "completed"
    },
    "tags": []
   },
   "source": [
    "This new set of rules looks more promising as it includes more patterns to classify as SPAM as well as some patterns to classify as NOT_SPAM. This should result in more data points with a label different to NO_LABEL.\n",
    "\n",
    "Let's check if this is the case."
   ]
  },
  {
   "cell_type": "code",
   "execution_count": 22,
   "id": "1fd52494",
   "metadata": {
    "execution": {
     "iopub.execute_input": "2022-02-17T22:05:33.084966Z",
     "iopub.status.busy": "2022-02-17T22:05:33.084315Z",
     "iopub.status.idle": "2022-02-17T22:05:33.598987Z",
     "shell.execute_reply": "2022-02-17T22:05:33.598426Z",
     "shell.execute_reply.started": "2022-02-17T22:03:27.188438Z"
    },
    "papermill": {
     "duration": 0.573035,
     "end_time": "2022-02-17T22:05:33.599126",
     "exception": false,
     "start_time": "2022-02-17T22:05:33.026091",
     "status": "completed"
    },
    "tags": []
   },
   "outputs": [
    {
     "name": "stdout",
     "output_type": "stream",
     "text": [
      "Proportion of data points kept: 44.12%\n",
      "\n",
      "second-iteration labeling has an accuracy of 70.92%\n",
      "\n"
     ]
    },
    {
     "data": {
      "image/png": "[encoded data removed]",
      "text/plain": [
       "<Figure size 432x288 with 1 Axes>"
      ]
     },
     "metadata": {
      "needs_background": "light"
     },
     "output_type": "display_data"
    }
   ],
   "source": [
    "label_given_rules(X_train, labeling_rules_2, \"second-iteration\")\n",
    "\n",
    "plot_accuracies()"
   ]
  },
  {
   "cell_type": "markdown",
   "id": "0f31ca10",
   "metadata": {
    "papermill": {
     "duration": 0.056766,
     "end_time": "2022-02-17T22:05:33.712501",
     "exception": false,
     "start_time": "2022-02-17T22:05:33.655735",
     "status": "completed"
    },
    "tags": []
   },
   "source": [
    "This time 44% of the original dataset was given a decisive label and there were data points for both labels, this helped the model reach a higher accuracy when compared to the first iteration. Now the accuracy is considerably higher than the random labeling but it is still very far away from the upper bound.\n",
    "\n",
    "Let's see if we can make it even better!"
   ]
  },
  {
   "cell_type": "markdown",
   "id": "60664faa",
   "metadata": {
    "papermill": {
     "duration": 0.056618,
     "end_time": "2022-02-17T22:05:33.827593",
     "exception": false,
     "start_time": "2022-02-17T22:05:33.770975",
     "status": "completed"
    },
    "tags": []
   },
   "source": [
    "### Third Iteration - Even more rules\n",
    "\n",
    "The rules we have defined so far are doing a fair job. Let's add two additional rules, one for classifying SPAM comments and the other for the opposite task.\n",
    "\n",
    "At a glimpse it looks like NOT_SPAM comments are usually shorter. This may be due to them not including hyperlinks but also in general they tend to be more concrete such as \"I love this song!\".\n",
    "\n",
    "Let's take a look at the average number of characters for SPAM comments vs NOT_SPAM oned:"
   ]
  },
  {
   "cell_type": "code",
   "execution_count": 23,
   "id": "e75dc363",
   "metadata": {
    "execution": {
     "iopub.execute_input": "2022-02-17T22:05:33.945614Z",
     "iopub.status.busy": "2022-02-17T22:05:33.944925Z",
     "iopub.status.idle": "2022-02-17T22:05:33.957816Z",
     "shell.execute_reply": "2022-02-17T22:05:33.957112Z",
     "shell.execute_reply.started": "2022-02-17T22:03:27.659063Z"
    },
    "papermill": {
     "duration": 0.073321,
     "end_time": "2022-02-17T22:05:33.957958",
     "exception": false,
     "start_time": "2022-02-17T22:05:33.884637",
     "status": "completed"
    },
    "tags": []
   },
   "outputs": [
    {
     "name": "stdout",
     "output_type": "stream",
     "text": [
      "NOT_SPAM comments have an average of 49.64 characters.\n",
      "SPAM comments have an average of 137.34 characters.\n"
     ]
    }
   ],
   "source": [
    "from statistics import mean\n",
    "\n",
    "print(f\"NOT_SPAM comments have an average of {mean([len(t) for t in df_labeled[df_labeled.label==0].text]):.2f} characters.\")\n",
    "print(f\"SPAM comments have an average of {mean([len(t) for t in df_labeled[df_labeled.label==1].text]):.2f} characters.\")"
   ]
  },
  {
   "cell_type": "markdown",
   "id": "630a4b98",
   "metadata": {
    "papermill": {
     "duration": 0.057477,
     "end_time": "2022-02-17T22:05:34.072609",
     "exception": false,
     "start_time": "2022-02-17T22:05:34.015132",
     "status": "completed"
    },
    "tags": []
   },
   "source": [
    "It sure looks like there is a big difference in the number of characters for both types of comments.\n",
    "\n",
    "To decide on a threshold to classify as NOT_SPAM let's plot a histogram of the number of characters for NOT_SPAM comments:"
   ]
  },
  {
   "cell_type": "code",
   "execution_count": 24,
   "id": "35f0ccba",
   "metadata": {
    "execution": {
     "iopub.execute_input": "2022-02-17T22:05:34.218771Z",
     "iopub.status.busy": "2022-02-17T22:05:34.210681Z",
     "iopub.status.idle": "2022-02-17T22:05:34.393895Z",
     "shell.execute_reply": "2022-02-17T22:05:34.394463Z",
     "shell.execute_reply.started": "2022-02-17T22:03:27.674823Z"
    },
    "papermill": {
     "duration": 0.264858,
     "end_time": "2022-02-17T22:05:34.394649",
     "exception": false,
     "start_time": "2022-02-17T22:05:34.129791",
     "status": "completed"
    },
    "tags": []
   },
   "outputs": [
    {
     "data": {
      "image/png": "[encoded data removed]",
      "text/plain": [
       "<Figure size 432x288 with 1 Axes>"
      ]
     },
     "metadata": {
      "needs_background": "light"
     },
     "output_type": "display_data"
    }
   ],
   "source": [
    "plt.hist([len(t) for t in df_labeled[df_labeled.label==0].text], range=(0,100))\n",
    "plt.show()"
   ]
  },
  {
   "cell_type": "markdown",
   "id": "7f5be41e",
   "metadata": {
    "papermill": {
     "duration": 0.057865,
     "end_time": "2022-02-17T22:05:34.511053",
     "exception": false,
     "start_time": "2022-02-17T22:05:34.453188",
     "status": "completed"
    },
    "tags": []
   },
   "source": [
    "The majority of NOT_SPAM comments have 30 or less characters so we'll use that as a threshold.\n",
    "\n",
    "Another prevalent pattern in spam comments is to ask users to \"check out\" a channel, website or link.\n",
    "\n",
    "Let's add these two new rules:"
   ]
  },
  {
   "cell_type": "code",
   "execution_count": 25,
   "id": "dac2753f",
   "metadata": {
    "execution": {
     "iopub.execute_input": "2022-02-17T22:05:34.630373Z",
     "iopub.status.busy": "2022-02-17T22:05:34.629703Z",
     "iopub.status.idle": "2022-02-17T22:05:34.636628Z",
     "shell.execute_reply": "2022-02-17T22:05:34.636056Z",
     "shell.execute_reply.started": "2022-02-17T22:03:27.832794Z"
    },
    "papermill": {
     "duration": 0.068109,
     "end_time": "2022-02-17T22:05:34.636771",
     "exception": false,
     "start_time": "2022-02-17T22:05:34.568662",
     "status": "completed"
    },
    "tags": []
   },
   "outputs": [],
   "source": [
    "def labeling_rules_3(x):\n",
    "    \n",
    "    # Convert text to lowercase\n",
    "    x = x.lower()\n",
    "    \n",
    "    # Define list of rules to classify as NOT_SPAM\n",
    "    not_spam_rules = [\n",
    "        \"view\" in x,\n",
    "        \"song\" in x,\n",
    "        len(x) < 30\n",
    "    ]\n",
    "    \n",
    "\n",
    "    # Define list of rules to classify as SPAM\n",
    "    spam_rules = [\n",
    "        \"free\" in x,\n",
    "        \"subs\" in x,\n",
    "        \"gift\" in x,\n",
    "        \"follow\" in x,\n",
    "        \"http\" in x,\n",
    "        \"check out\" in x\n",
    "    ]\n",
    "    \n",
    "    # Classify depending on the rules\n",
    "    if any(not_spam_rules):\n",
    "        return 0\n",
    "    \n",
    "    if any(spam_rules):\n",
    "        return 1\n",
    "    \n",
    "    return -1"
   ]
  },
  {
   "cell_type": "code",
   "execution_count": 26,
   "id": "6200501d",
   "metadata": {
    "execution": {
     "iopub.execute_input": "2022-02-17T22:05:34.762071Z",
     "iopub.status.busy": "2022-02-17T22:05:34.761442Z",
     "iopub.status.idle": "2022-02-17T22:05:35.337657Z",
     "shell.execute_reply": "2022-02-17T22:05:35.338160Z",
     "shell.execute_reply.started": "2022-02-17T22:03:27.842961Z"
    },
    "papermill": {
     "duration": 0.643128,
     "end_time": "2022-02-17T22:05:35.338351",
     "exception": false,
     "start_time": "2022-02-17T22:05:34.695223",
     "status": "completed"
    },
    "tags": []
   },
   "outputs": [
    {
     "name": "stdout",
     "output_type": "stream",
     "text": [
      "Proportion of data points kept: 78.26%\n",
      "\n",
      "third-iteration labeling has an accuracy of 86.22%\n",
      "\n"
     ]
    },
    {
     "data": {
      "image/png": "[encoded data removed]",
      "text/plain": [
       "<Figure size 432x288 with 1 Axes>"
      ]
     },
     "metadata": {
      "needs_background": "light"
     },
     "output_type": "display_data"
    }
   ],
   "source": [
    "label_given_rules(X_train, labeling_rules_3, \"third-iteration\")\n",
    "\n",
    "plot_accuracies()"
   ]
  },
  {
   "cell_type": "markdown",
   "id": "02d5e29c",
   "metadata": {
    "papermill": {
     "duration": 0.060592,
     "end_time": "2022-02-17T22:05:35.458736",
     "exception": false,
     "start_time": "2022-02-17T22:05:35.398144",
     "status": "completed"
    },
    "tags": []
   },
   "source": [
    "These new rules do a pretty good job at both, covering the dataset and having a good model accuracy. To be more concrete this labeling strategy reached an accuracy of ~86%! We are getting closer and closer to the upper bound defined by using the true labels.\n",
    "\n",
    "We could keep going on adding more rules to improve accuracy and we do encourage you to try it out yourself!\n",
    "\n",
    "\n",
    "### Come up with your own rules\n",
    "\n",
    "The following cells contain some code to help you inspect the dataset for patterns and to test out these patterns. The ones used before are commented out in case you want start from scratch or re-use them."
   ]
  },
  {
   "cell_type": "code",
   "execution_count": 27,
   "id": "c22ed626",
   "metadata": {
    "execution": {
     "iopub.execute_input": "2022-02-17T22:05:35.582578Z",
     "iopub.status.busy": "2022-02-17T22:05:35.581536Z",
     "iopub.status.idle": "2022-02-17T22:05:35.591991Z",
     "shell.execute_reply": "2022-02-17T22:05:35.592473Z",
     "shell.execute_reply.started": "2022-02-17T22:03:28.373051Z"
    },
    "papermill": {
     "duration": 0.073698,
     "end_time": "2022-02-17T22:05:35.592648",
     "exception": false,
     "start_time": "2022-02-17T22:05:35.518950",
     "status": "completed"
    },
    "tags": []
   },
   "outputs": [
    {
     "data": {
      "text/html": [
       "<div>\n",
       "<style scoped>\n",
       "    .dataframe tbody tr th:only-of-type {\n",
       "        vertical-align: middle;\n",
       "    }\n",
       "\n",
       "    .dataframe tbody tr th {\n",
       "        vertical-align: top;\n",
       "    }\n",
       "\n",
       "    .dataframe thead th {\n",
       "        text-align: right;\n",
       "    }\n",
       "</style>\n",
       "<table border=\"1\" class=\"dataframe\">\n",
       "  <thead>\n",
       "    <tr style=\"text-align: right;\">\n",
       "      <th></th>\n",
       "      <th>text</th>\n",
       "      <th>label</th>\n",
       "    </tr>\n",
       "  </thead>\n",
       "  <tbody>\n",
       "    <tr>\n",
       "      <th>0</th>\n",
       "      <td>music yeah﻿</td>\n",
       "      <td>0</td>\n",
       "    </tr>\n",
       "    <tr>\n",
       "      <th>1</th>\n",
       "      <td>2 billion views, only 2 million shares﻿</td>\n",
       "      <td>0</td>\n",
       "    </tr>\n",
       "    <tr>\n",
       "      <th>4</th>\n",
       "      <td>I wanted to know the name of the guy that danc...</td>\n",
       "      <td>0</td>\n",
       "    </tr>\n",
       "    <tr>\n",
       "      <th>6</th>\n",
       "      <td>NICE GIRL :D﻿</td>\n",
       "      <td>0</td>\n",
       "    </tr>\n",
       "    <tr>\n",
       "      <th>7</th>\n",
       "      <td>this is increidebl﻿</td>\n",
       "      <td>0</td>\n",
       "    </tr>\n",
       "  </tbody>\n",
       "</table>\n",
       "</div>"
      ],
      "text/plain": [
       "                                                text  label\n",
       "0                                        music yeah﻿      0\n",
       "1            2 billion views, only 2 million shares﻿      0\n",
       "4  I wanted to know the name of the guy that danc...      0\n",
       "6                                      NICE GIRL :D﻿      0\n",
       "7                                this is increidebl﻿      0"
      ]
     },
     "execution_count": 27,
     "metadata": {},
     "output_type": "execute_result"
    }
   ],
   "source": [
    "# Configure pandas to print out all rows to check the complete dataset\n",
    "pd.set_option('display.max_rows', None)\n",
    "\n",
    "# Check NOT_SPAM comments\n",
    "df_labeled[df_labeled.label==0].head()"
   ]
  },
  {
   "cell_type": "code",
   "execution_count": 28,
   "id": "e19134a6",
   "metadata": {
    "execution": {
     "iopub.execute_input": "2022-02-17T22:05:35.722542Z",
     "iopub.status.busy": "2022-02-17T22:05:35.721510Z",
     "iopub.status.idle": "2022-02-17T22:05:35.727215Z",
     "shell.execute_reply": "2022-02-17T22:05:35.727703Z",
     "shell.execute_reply.started": "2022-02-17T22:03:28.387494Z"
    },
    "papermill": {
     "duration": 0.074908,
     "end_time": "2022-02-17T22:05:35.727883",
     "exception": false,
     "start_time": "2022-02-17T22:05:35.652975",
     "status": "completed"
    },
    "tags": []
   },
   "outputs": [
    {
     "data": {
      "text/html": [
       "<div>\n",
       "<style scoped>\n",
       "    .dataframe tbody tr th:only-of-type {\n",
       "        vertical-align: middle;\n",
       "    }\n",
       "\n",
       "    .dataframe tbody tr th {\n",
       "        vertical-align: top;\n",
       "    }\n",
       "\n",
       "    .dataframe thead th {\n",
       "        text-align: right;\n",
       "    }\n",
       "</style>\n",
       "<table border=\"1\" class=\"dataframe\">\n",
       "  <thead>\n",
       "    <tr style=\"text-align: right;\">\n",
       "      <th></th>\n",
       "      <th>text</th>\n",
       "      <th>label</th>\n",
       "    </tr>\n",
       "  </thead>\n",
       "  <tbody>\n",
       "    <tr>\n",
       "      <th>2</th>\n",
       "      <td>Katycat! https://m.facebook.com/profile.php?id...</td>\n",
       "      <td>1</td>\n",
       "    </tr>\n",
       "    <tr>\n",
       "      <th>3</th>\n",
       "      <td>--&amp;gt;ATTENTION KATYCATS! Katy leads with 7 no...</td>\n",
       "      <td>1</td>\n",
       "    </tr>\n",
       "    <tr>\n",
       "      <th>5</th>\n",
       "      <td>Hey guys I&amp;#39;m 87 cypher im 11 years old and...</td>\n",
       "      <td>1</td>\n",
       "    </tr>\n",
       "    <tr>\n",
       "      <th>10</th>\n",
       "      <td>check out my channel for rap and hip hop music</td>\n",
       "      <td>1</td>\n",
       "    </tr>\n",
       "    <tr>\n",
       "      <th>11</th>\n",
       "      <td>http://ubuntuone.com/40beUutVu2ZKxK4uTgPZ8K﻿</td>\n",
       "      <td>1</td>\n",
       "    </tr>\n",
       "  </tbody>\n",
       "</table>\n",
       "</div>"
      ],
      "text/plain": [
       "                                                 text  label\n",
       "2   Katycat! https://m.facebook.com/profile.php?id...      1\n",
       "3   --&gt;ATTENTION KATYCATS! Katy leads with 7 no...      1\n",
       "5   Hey guys I&#39;m 87 cypher im 11 years old and...      1\n",
       "10     check out my channel for rap and hip hop music      1\n",
       "11       http://ubuntuone.com/40beUutVu2ZKxK4uTgPZ8K﻿      1"
      ]
     },
     "execution_count": 28,
     "metadata": {},
     "output_type": "execute_result"
    }
   ],
   "source": [
    "# Check SPAM comments\n",
    "df_labeled[df_labeled.label==1].head()"
   ]
  },
  {
   "cell_type": "code",
   "execution_count": 29,
   "id": "4b98dc03",
   "metadata": {
    "execution": {
     "iopub.execute_input": "2022-02-17T22:05:35.854452Z",
     "iopub.status.busy": "2022-02-17T22:05:35.853452Z",
     "iopub.status.idle": "2022-02-17T22:05:36.478065Z",
     "shell.execute_reply": "2022-02-17T22:05:36.478566Z",
     "shell.execute_reply.started": "2022-02-17T22:03:28.406204Z"
    },
    "papermill": {
     "duration": 0.689127,
     "end_time": "2022-02-17T22:05:36.478729",
     "exception": false,
     "start_time": "2022-02-17T22:05:35.789602",
     "status": "completed"
    },
    "tags": []
   },
   "outputs": [
    {
     "name": "stdout",
     "output_type": "stream",
     "text": [
      "Proportion of data points kept: 80.31%\n",
      "\n",
      "your-iteration labeling has an accuracy of 81.63%\n",
      "\n"
     ]
    },
    {
     "data": {
      "image/png": "[encoded data removed]",
      "text/plain": [
       "<Figure size 432x288 with 1 Axes>"
      ]
     },
     "metadata": {
      "needs_background": "light"
     },
     "output_type": "display_data"
    }
   ],
   "source": [
    "def your_labeling_rules(x):\n",
    "    \n",
    "    # Convert text to lowercase\n",
    "    x = x.lower()\n",
    "    \n",
    "    # Define your rules for classifying as NOT_SPAM\n",
    "    not_spam_rules = [\n",
    "         \"view\" in x,\n",
    "         \"song\" in x,\n",
    "         \"love\" in x,\n",
    "         len(x) < 30\n",
    "    ]\n",
    "    \n",
    "\n",
    "    # Define your rules for classifying as SPAM\n",
    "    spam_rules = [\n",
    "         \"free\" in x,\n",
    "         \"subs\" in x,\n",
    "         \"gift\" in x,\n",
    "         \"follow\" in x,\n",
    "         \"http\" in x,\n",
    "         \"check out\" in x\n",
    "    ]\n",
    "    \n",
    "    # Classify depending on your rules\n",
    "    if any(not_spam_rules):\n",
    "        return 0\n",
    "    \n",
    "    if any(spam_rules):\n",
    "        return 1\n",
    "    \n",
    "    return -1\n",
    "\n",
    "\n",
    "try:\n",
    "    label_given_rules(X_train, your_labeling_rules, \"your-iteration\")\n",
    "    plot_accuracies()\n",
    "    \n",
    "except ValueError:\n",
    "    print(\"You have not defined any rules.\")"
   ]
  }
 ],
 "metadata": {
  "kernelspec": {
   "display_name": "Python 3",
   "language": "python",
   "name": "python3"
  },
  "language_info": {
   "codemirror_mode": {
    "name": "ipython",
    "version": 3
   },
   "file_extension": ".py",
   "mimetype": "text/x-python",
   "name": "python",
   "nbconvert_exporter": "python",
   "pygments_lexer": "ipython3",
   "version": "3.7.12"
  },
  "papermill": {
   "default_parameters": {},
   "duration": 26.596346,
   "end_time": "2022-02-17T22:05:37.253740",
   "environment_variables": {},
   "exception": null,
   "input_path": "__notebook__.ipynb",
   "output_path": "__notebook__.ipynb",
   "parameters": {},
   "start_time": "2022-02-17T22:05:10.657394",
   "version": "2.3.3"
  }
 },
 "nbformat": 4,
 "nbformat_minor": 5
}
